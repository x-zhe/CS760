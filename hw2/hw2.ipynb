{
 "cells": [
  {
   "cell_type": "code",
   "execution_count": 23,
   "metadata": {},
   "outputs": [],
   "source": [
    "import pandas as pd\n",
    "import numpy as np\n",
    "import plotly.graph_objects as go\n",
    "import plotly.express as px\n",
    "import matplotlib.pyplot as plt\n"
   ]
  },
  {
   "cell_type": "markdown",
   "metadata": {},
   "source": [
    "# 1"
   ]
  },
  {
   "cell_type": "code",
   "execution_count": 3,
   "metadata": {},
   "outputs": [
    {
     "data": {
      "text/html": [
       "<div>\n",
       "<style scoped>\n",
       "    .dataframe tbody tr th:only-of-type {\n",
       "        vertical-align: middle;\n",
       "    }\n",
       "\n",
       "    .dataframe tbody tr th {\n",
       "        vertical-align: top;\n",
       "    }\n",
       "\n",
       "    .dataframe thead th {\n",
       "        text-align: right;\n",
       "    }\n",
       "</style>\n",
       "<table border=\"1\" class=\"dataframe\">\n",
       "  <thead>\n",
       "    <tr style=\"text-align: right;\">\n",
       "      <th></th>\n",
       "      <th>x1</th>\n",
       "      <th>x2</th>\n",
       "      <th>y</th>\n",
       "    </tr>\n",
       "  </thead>\n",
       "  <tbody>\n",
       "    <tr>\n",
       "      <th>0</th>\n",
       "      <td>0.315561</td>\n",
       "      <td>0.956006</td>\n",
       "      <td>1</td>\n",
       "    </tr>\n",
       "    <tr>\n",
       "      <th>1</th>\n",
       "      <td>0.344972</td>\n",
       "      <td>0.693422</td>\n",
       "      <td>1</td>\n",
       "    </tr>\n",
       "    <tr>\n",
       "      <th>2</th>\n",
       "      <td>0.398419</td>\n",
       "      <td>0.974354</td>\n",
       "      <td>1</td>\n",
       "    </tr>\n",
       "    <tr>\n",
       "      <th>3</th>\n",
       "      <td>0.347109</td>\n",
       "      <td>0.566740</td>\n",
       "      <td>0</td>\n",
       "    </tr>\n",
       "    <tr>\n",
       "      <th>4</th>\n",
       "      <td>0.985903</td>\n",
       "      <td>0.564388</td>\n",
       "      <td>1</td>\n",
       "    </tr>\n",
       "    <tr>\n",
       "      <th>...</th>\n",
       "      <td>...</td>\n",
       "      <td>...</td>\n",
       "      <td>...</td>\n",
       "    </tr>\n",
       "    <tr>\n",
       "      <th>995</th>\n",
       "      <td>0.418671</td>\n",
       "      <td>0.044160</td>\n",
       "      <td>0</td>\n",
       "    </tr>\n",
       "    <tr>\n",
       "      <th>996</th>\n",
       "      <td>0.794456</td>\n",
       "      <td>0.142425</td>\n",
       "      <td>0</td>\n",
       "    </tr>\n",
       "    <tr>\n",
       "      <th>997</th>\n",
       "      <td>0.384576</td>\n",
       "      <td>0.609262</td>\n",
       "      <td>0</td>\n",
       "    </tr>\n",
       "    <tr>\n",
       "      <th>998</th>\n",
       "      <td>0.843186</td>\n",
       "      <td>0.848278</td>\n",
       "      <td>1</td>\n",
       "    </tr>\n",
       "    <tr>\n",
       "      <th>999</th>\n",
       "      <td>0.691812</td>\n",
       "      <td>0.751075</td>\n",
       "      <td>1</td>\n",
       "    </tr>\n",
       "  </tbody>\n",
       "</table>\n",
       "<p>1000 rows × 3 columns</p>\n",
       "</div>"
      ],
      "text/plain": [
       "           x1        x2  y\n",
       "0    0.315561  0.956006  1\n",
       "1    0.344972  0.693422  1\n",
       "2    0.398419  0.974354  1\n",
       "3    0.347109  0.566740  0\n",
       "4    0.985903  0.564388  1\n",
       "..        ...       ... ..\n",
       "995  0.418671  0.044160  0\n",
       "996  0.794456  0.142425  0\n",
       "997  0.384576  0.609262  0\n",
       "998  0.843186  0.848278  1\n",
       "999  0.691812  0.751075  1\n",
       "\n",
       "[1000 rows x 3 columns]"
      ]
     },
     "execution_count": 3,
     "metadata": {},
     "output_type": "execute_result"
    }
   ],
   "source": [
    "# read txt data\n",
    "def read_data(filepath):\n",
    "    data = pd.read_table(filepath, sep=' ', header=None)\n",
    "    data.columns = [\"x1\", \"x2\", \"y\"]\n",
    "    return data\n",
    "\n",
    "filepath = 'D2.txt'\n",
    "data = read_data(filepath)\n",
    "data"
   ]
  },
  {
   "cell_type": "code",
   "execution_count": 4,
   "metadata": {},
   "outputs": [
    {
     "name": "stdout",
     "output_type": "stream",
     "text": [
      "x1 0.533076 0.2238061143668733\n",
      "x2 0.228007 0.40277675382774347\n",
      "x2 0.424906 0.1751133281825154\n",
      "x1 0.985903 0.0\n",
      "x1 0.708127 0.5206601917193016\n",
      "x1 0.718145 0.0\n",
      "x2 0.32625 0.34644489742573253\n",
      "x1 0.595471 0.5023576805798505\n",
      "x1 0.646007 0.3191750665186214\n",
      "x1 0.67447 0.0\n",
      "x2 0.403494 1.0\n",
      "x1 0.595471 0.0\n",
      "x1 0.620399 0.0\n",
      "x1 0.541762 0.0\n",
      "x1 0.678179 0.0\n",
      "x1 0.887224 0.5381401523569375\n",
      "x2 0.037708 0.6832381679130689\n",
      "x2 0.082895 0.1916139235269724\n",
      "x1 0.921975 0.0\n",
      "x1 0.960783 1.0\n",
      "x1 0.960783 0.0\n",
      "x1 0.927522 0.0\n",
      "x1 0.983256 0.0\n",
      "x1 0.850316 0.2519373889044624\n",
      "x2 0.169053 1.0\n",
      "x1 0.850316 0.0\n",
      "x1 0.87433 0.0\n",
      "x1 0.641366 0.0\n",
      "x2 0.88635 0.4582140527187491\n",
      "x1 0.041245 0.6245466344128493\n",
      "x1 0.104043 0.2533887517364727\n",
      "x1 0.315561 0.0\n",
      "x1 0.07642 1.0\n",
      "x1 0.083797 0.0\n",
      "x1 0.041245 0.0\n",
      "x1 0.023132 0\n",
      "x2 0.691474 0.2535183669884649\n",
      "x1 0.254049 0.6816281572589445\n",
      "x1 0.344972 0.0\n",
      "x1 0.191915 0.2651556121840157\n",
      "x2 0.792752 1.0\n",
      "x1 0.207325 0.0\n",
      "x1 0.253723 0.0\n",
      "x2 0.864128 0.09659384816889331\n",
      "x1 0.144781 1.0\n",
      "x1 0.144781 0\n",
      "x1 0.032467 0.0\n",
      "x1 0.099204 0.0\n",
      "x2 0.534979 0.12891810397635953\n",
      "x1 0.426073 0.7758535406206157\n",
      "x1 0.518431 0.0\n",
      "x1 0.409972 0.42274968472656305\n",
      "x1 0.417579 1.0\n",
      "x1 0.417579 0\n",
      "x1 0.414023 0.0\n",
      "x1 0.393227 0.1507703142983452\n",
      "x1 0.39583 1.0\n",
      "x1 0.399253 0.0\n",
      "x1 0.393227 0\n",
      "x1 0.347109 0.0\n",
      "x1 0.401686 0.0\n"
     ]
    },
    {
     "data": {
      "text/plain": [
       "{('x1',\n",
       "  0.533076,\n",
       "  True): {('x2', 0.228007, True): {('x2', 0.424906, True): 1,\n",
       "   ('x2', 0.424906, False): {('x1', 0.708127, True): 1,\n",
       "    ('x1',\n",
       "     0.708127,\n",
       "     False): {('x2',\n",
       "      0.32625,\n",
       "      True): {('x1', 0.595471, True): {('x1', 0.646007, True): 1,\n",
       "       ('x1', 0.646007, False): {('x2', 0.403494, True): 1,\n",
       "        ('x2', 0.403494, False): 0}}, ('x1', 0.595471, False): 0}, ('x2',\n",
       "      0.32625,\n",
       "      False): 0}}}, ('x2',\n",
       "   0.228007,\n",
       "   False): {('x1',\n",
       "    0.887224,\n",
       "    True): {('x2', 0.037708, True): {('x2', 0.082895, True): 1,\n",
       "     ('x2', 0.082895, False): {('x1', 0.960783, True): 1,\n",
       "      ('x1', 0.960783, False): 0}}, ('x2', 0.037708, False): 0}, ('x1',\n",
       "    0.887224,\n",
       "    False): {('x1', 0.850316, True): {('x2', 0.169053, True): 1,\n",
       "     ('x2', 0.169053, False): 0},\n",
       "    ('x1', 0.850316, False): 0}}},\n",
       " ('x1',\n",
       "  0.533076,\n",
       "  False): {('x2',\n",
       "   0.88635,\n",
       "   True): {('x1', 0.041245, True): {('x1', 0.104043, True): 1,\n",
       "    ('x1', 0.104043, False): {('x1', 0.07642, True): 0,\n",
       "     ('x1', 0.07642, False): 1}}, ('x1', 0.041245, False): 0}, ('x2',\n",
       "   0.88635,\n",
       "   False): {('x2', 0.691474, True): {('x1', 0.254049, True): 1,\n",
       "    ('x1',\n",
       "     0.254049,\n",
       "     False): {('x1', 0.191915, True): {('x2', 0.792752, True): 1,\n",
       "      ('x2', 0.792752, False): 0}, ('x1',\n",
       "      0.191915,\n",
       "      False): {('x2', 0.864128, True): {('x1', 0.144781, True): 1,\n",
       "       ('x1', 0.144781, False): 0}, ('x2', 0.864128, False): 0}}},\n",
       "   ('x2',\n",
       "    0.691474,\n",
       "    False): {('x2', 0.534979, True): {('x1', 0.426073, True): 1,\n",
       "     ('x1',\n",
       "      0.426073,\n",
       "      False): {('x1', 0.409972, True): {('x1', 0.417579, True): 0,\n",
       "       ('x1', 0.417579, False): 1}, ('x1',\n",
       "       0.409972,\n",
       "       False): {('x1', 0.393227, True): {('x1', 0.39583, True): 0,\n",
       "        ('x1', 0.39583, False): 1}, ('x1', 0.393227, False): 0}}}, ('x2',\n",
       "     0.534979,\n",
       "     False): 0}}}}"
      ]
     },
     "execution_count": 4,
     "metadata": {},
     "output_type": "execute_result"
    }
   ],
   "source": [
    "def get_entropy(df):\n",
    "    if len(df) == 0:\n",
    "        return 0\n",
    "    # get the number of each class\n",
    "    num = df['y'].value_counts()\n",
    "    # get the probability of each class\n",
    "    p = num / num.sum()\n",
    "    # calculate entropy\n",
    "    entropy = (-p * np.log2(p)).sum()\n",
    "    return entropy\n",
    "\n",
    "def get_gain_ratio(df, col, split_value):\n",
    "    if len(df) == 0:\n",
    "        return 0\n",
    "    # get the entropy of df\n",
    "    entropy_all = get_entropy(df)\n",
    "    # split df into two parts\n",
    "    df_l = df[df[col] >= split_value]\n",
    "    df_r = df[df[col] < split_value]\n",
    "    # check if the split is valid\n",
    "    if len(df_l) == 0 or len(df_r) == 0:\n",
    "        return 0\n",
    "    # get the entropy of df_l and df_r\n",
    "    entropy_l = get_entropy(df_l)\n",
    "    entropy_r = get_entropy(df_r)\n",
    "    # calculate information gain\n",
    "    info_gain = entropy_all - (len(df_l)/len(df))*entropy_l - (len(df_r)/len(df))*entropy_r\n",
    "    # calculate split info\n",
    "    split_info = -((len(df_l)/len(df))*np.log2(len(df_l)/len(df)) + (len(df_r)/len(df))*np.log2(len(df_r)/len(df)))\n",
    "    # check if the split info (entropy) is zero\n",
    "    if split_info == 0:\n",
    "        print(\"info_gain: \", info_gain)\n",
    "        return 0\n",
    "    # calculate gain ratio\n",
    "    gain_ratio = info_gain / split_info\n",
    "    return gain_ratio\n",
    "\n",
    "# find the best split point given a feature\n",
    "def get_best_split(df, col):\n",
    "    values = df[col].unique()\n",
    "    gain_ratios = [get_gain_ratio(df, col, value) for value in values]\n",
    "    best_split = values[np.argmax(gain_ratios)]\n",
    "    return best_split, np.max(gain_ratios)\n",
    "\n",
    "# find the best feature to split\n",
    "def get_best_feature(df):\n",
    "    gain_ratios = [get_best_split(df, col) for col in df.columns[:-1]]\n",
    "    best_feature = df.columns[:-1][np.argmax([info_gain[1] for info_gain in gain_ratios])]\n",
    "    best_split = gain_ratios[np.argmax([info_gain[1] for info_gain in gain_ratios])][0]\n",
    "    best_gain_ratio = np.max([gain_ratio[1] for gain_ratio in gain_ratios])\n",
    "    return best_feature, best_split, best_gain_ratio\n",
    "\n",
    "# get the most frequent label\n",
    "def get_most_frequent_label(df):\n",
    "    label0 = (df['y'] == 0).sum()\n",
    "    label1 = (df['y'] == 1).sum()\n",
    "    if label0 == label1:\n",
    "        return 1\n",
    "    else:\n",
    "        return np.argmax([label0, label1])\n",
    "    \n",
    "\n",
    "# create decision tree\n",
    "def get_tree(df):\n",
    "    # check if the node is empty\n",
    "    if len(df) == 0:\n",
    "        return -1\n",
    "    \n",
    "    best_feature, best_split, best_gain_ratio = get_best_feature(df)\n",
    "    print(best_feature, best_split, best_gain_ratio)\n",
    "    \n",
    "    # split the df into two parts\n",
    "    df_l = df[df[best_feature] >= best_split]\n",
    "    df_r = df[df[best_feature] < best_split]\n",
    "    \n",
    "    # check if the entropy of any candidates split is zero / if all splits have zero gain ratio\n",
    "    if (best_gain_ratio == 0):\n",
    "        # make this as a leaf node\n",
    "        label = get_most_frequent_label(df)\n",
    "        return label\n",
    "        \n",
    "    # if not, split the df into two parts and build subtrees\n",
    "    else:\n",
    "        tree = {}\n",
    "        tree.update({(best_feature, best_split, True): get_tree(df_l)})\n",
    "        tree.update({(best_feature, best_split, False): get_tree(df_r)})\n",
    "        return tree\n",
    "\n",
    "# test\n",
    "tree = get_tree(data)\n",
    "tree\n",
    "    "
   ]
  },
  {
   "cell_type": "code",
   "execution_count": 5,
   "metadata": {},
   "outputs": [
    {
     "data": {
      "text/plain": [
       "1"
      ]
     },
     "execution_count": 5,
     "metadata": {},
     "output_type": "execute_result"
    }
   ],
   "source": [
    "# predict new data point\n",
    "def predict(tree, x):\n",
    "    if tree == -1:\n",
    "        return -1\n",
    "    if tree == 0:\n",
    "        return 0\n",
    "    if tree == 1:\n",
    "        return 1\n",
    "    for key in tree.keys():\n",
    "        if key[2] == True:\n",
    "            if x[key[0]] >= key[1]:\n",
    "                return predict(tree[key], x)\n",
    "        else:\n",
    "            if x[key[0]] < key[1]:\n",
    "                return predict(tree[key], x)\n",
    "            \n",
    "# test\n",
    "x = {'x1': 0.9, 'x2': 0.9}\n",
    "predict(tree, x)"
   ]
  },
  {
   "cell_type": "markdown",
   "metadata": {},
   "source": [
    "## 2.1\n",
    "\n",
    "Because the entropy of this node is 0 and there is no need to classify it further. Splitting it further will only get candidate splits with 0 entropy."
   ]
  },
  {
   "cell_type": "markdown",
   "metadata": {},
   "source": [
    "## 2.2\n",
    "\n",
    "The dataset is:\n",
    "0 0 0\n",
    "0 1 1\n",
    "1 0 1\n",
    "1 1 0\n",
    "\n",
    "It will refuse to split and return 1 as the label. If we split using a greedy algorithm, the biggest information gain ratio would be for either x1 or x2. However, the subsequent step cannot be correctly classified by the other feature in both groups divided by either feature. The outcome is still mixed. However, we can split it into a deeper tree by combining the two features (XOR) which will lead to no training error."
   ]
  },
  {
   "cell_type": "code",
   "execution_count": 6,
   "metadata": {},
   "outputs": [
    {
     "data": {
      "application/vnd.plotly.v1+json": {
       "config": {
        "plotlyServerURL": "https://plot.ly"
       },
       "data": [
        {
         "hovertemplate": "color=0<br>x=%{x}<br>y=%{y}<extra></extra>",
         "legendgroup": "0",
         "marker": {
          "color": "#636efa",
          "symbol": "circle"
         },
         "mode": "markers",
         "name": "0",
         "orientation": "v",
         "showlegend": true,
         "type": "scatter",
         "x": [
          0,
          1
         ],
         "xaxis": "x",
         "y": [
          0,
          1
         ],
         "yaxis": "y"
        },
        {
         "hovertemplate": "color=1<br>x=%{x}<br>y=%{y}<extra></extra>",
         "legendgroup": "1",
         "marker": {
          "color": "#EF553B",
          "symbol": "circle"
         },
         "mode": "markers",
         "name": "1",
         "orientation": "v",
         "showlegend": true,
         "type": "scatter",
         "x": [
          0,
          1
         ],
         "xaxis": "x",
         "y": [
          1,
          0
         ],
         "yaxis": "y"
        }
       ],
       "layout": {
        "height": 460,
        "legend": {
         "title": {
          "text": "label"
         },
         "tracegroupgap": 0
        },
        "margin": {
         "t": 60
        },
        "template": {
         "data": {
          "bar": [
           {
            "error_x": {
             "color": "#2a3f5f"
            },
            "error_y": {
             "color": "#2a3f5f"
            },
            "marker": {
             "line": {
              "color": "#E5ECF6",
              "width": 0.5
             },
             "pattern": {
              "fillmode": "overlay",
              "size": 10,
              "solidity": 0.2
             }
            },
            "type": "bar"
           }
          ],
          "barpolar": [
           {
            "marker": {
             "line": {
              "color": "#E5ECF6",
              "width": 0.5
             },
             "pattern": {
              "fillmode": "overlay",
              "size": 10,
              "solidity": 0.2
             }
            },
            "type": "barpolar"
           }
          ],
          "carpet": [
           {
            "aaxis": {
             "endlinecolor": "#2a3f5f",
             "gridcolor": "white",
             "linecolor": "white",
             "minorgridcolor": "white",
             "startlinecolor": "#2a3f5f"
            },
            "baxis": {
             "endlinecolor": "#2a3f5f",
             "gridcolor": "white",
             "linecolor": "white",
             "minorgridcolor": "white",
             "startlinecolor": "#2a3f5f"
            },
            "type": "carpet"
           }
          ],
          "choropleth": [
           {
            "colorbar": {
             "outlinewidth": 0,
             "ticks": ""
            },
            "type": "choropleth"
           }
          ],
          "contour": [
           {
            "colorbar": {
             "outlinewidth": 0,
             "ticks": ""
            },
            "colorscale": [
             [
              0,
              "#0d0887"
             ],
             [
              0.1111111111111111,
              "#46039f"
             ],
             [
              0.2222222222222222,
              "#7201a8"
             ],
             [
              0.3333333333333333,
              "#9c179e"
             ],
             [
              0.4444444444444444,
              "#bd3786"
             ],
             [
              0.5555555555555556,
              "#d8576b"
             ],
             [
              0.6666666666666666,
              "#ed7953"
             ],
             [
              0.7777777777777778,
              "#fb9f3a"
             ],
             [
              0.8888888888888888,
              "#fdca26"
             ],
             [
              1,
              "#f0f921"
             ]
            ],
            "type": "contour"
           }
          ],
          "contourcarpet": [
           {
            "colorbar": {
             "outlinewidth": 0,
             "ticks": ""
            },
            "type": "contourcarpet"
           }
          ],
          "heatmap": [
           {
            "colorbar": {
             "outlinewidth": 0,
             "ticks": ""
            },
            "colorscale": [
             [
              0,
              "#0d0887"
             ],
             [
              0.1111111111111111,
              "#46039f"
             ],
             [
              0.2222222222222222,
              "#7201a8"
             ],
             [
              0.3333333333333333,
              "#9c179e"
             ],
             [
              0.4444444444444444,
              "#bd3786"
             ],
             [
              0.5555555555555556,
              "#d8576b"
             ],
             [
              0.6666666666666666,
              "#ed7953"
             ],
             [
              0.7777777777777778,
              "#fb9f3a"
             ],
             [
              0.8888888888888888,
              "#fdca26"
             ],
             [
              1,
              "#f0f921"
             ]
            ],
            "type": "heatmap"
           }
          ],
          "heatmapgl": [
           {
            "colorbar": {
             "outlinewidth": 0,
             "ticks": ""
            },
            "colorscale": [
             [
              0,
              "#0d0887"
             ],
             [
              0.1111111111111111,
              "#46039f"
             ],
             [
              0.2222222222222222,
              "#7201a8"
             ],
             [
              0.3333333333333333,
              "#9c179e"
             ],
             [
              0.4444444444444444,
              "#bd3786"
             ],
             [
              0.5555555555555556,
              "#d8576b"
             ],
             [
              0.6666666666666666,
              "#ed7953"
             ],
             [
              0.7777777777777778,
              "#fb9f3a"
             ],
             [
              0.8888888888888888,
              "#fdca26"
             ],
             [
              1,
              "#f0f921"
             ]
            ],
            "type": "heatmapgl"
           }
          ],
          "histogram": [
           {
            "marker": {
             "pattern": {
              "fillmode": "overlay",
              "size": 10,
              "solidity": 0.2
             }
            },
            "type": "histogram"
           }
          ],
          "histogram2d": [
           {
            "colorbar": {
             "outlinewidth": 0,
             "ticks": ""
            },
            "colorscale": [
             [
              0,
              "#0d0887"
             ],
             [
              0.1111111111111111,
              "#46039f"
             ],
             [
              0.2222222222222222,
              "#7201a8"
             ],
             [
              0.3333333333333333,
              "#9c179e"
             ],
             [
              0.4444444444444444,
              "#bd3786"
             ],
             [
              0.5555555555555556,
              "#d8576b"
             ],
             [
              0.6666666666666666,
              "#ed7953"
             ],
             [
              0.7777777777777778,
              "#fb9f3a"
             ],
             [
              0.8888888888888888,
              "#fdca26"
             ],
             [
              1,
              "#f0f921"
             ]
            ],
            "type": "histogram2d"
           }
          ],
          "histogram2dcontour": [
           {
            "colorbar": {
             "outlinewidth": 0,
             "ticks": ""
            },
            "colorscale": [
             [
              0,
              "#0d0887"
             ],
             [
              0.1111111111111111,
              "#46039f"
             ],
             [
              0.2222222222222222,
              "#7201a8"
             ],
             [
              0.3333333333333333,
              "#9c179e"
             ],
             [
              0.4444444444444444,
              "#bd3786"
             ],
             [
              0.5555555555555556,
              "#d8576b"
             ],
             [
              0.6666666666666666,
              "#ed7953"
             ],
             [
              0.7777777777777778,
              "#fb9f3a"
             ],
             [
              0.8888888888888888,
              "#fdca26"
             ],
             [
              1,
              "#f0f921"
             ]
            ],
            "type": "histogram2dcontour"
           }
          ],
          "mesh3d": [
           {
            "colorbar": {
             "outlinewidth": 0,
             "ticks": ""
            },
            "type": "mesh3d"
           }
          ],
          "parcoords": [
           {
            "line": {
             "colorbar": {
              "outlinewidth": 0,
              "ticks": ""
             }
            },
            "type": "parcoords"
           }
          ],
          "pie": [
           {
            "automargin": true,
            "type": "pie"
           }
          ],
          "scatter": [
           {
            "fillpattern": {
             "fillmode": "overlay",
             "size": 10,
             "solidity": 0.2
            },
            "type": "scatter"
           }
          ],
          "scatter3d": [
           {
            "line": {
             "colorbar": {
              "outlinewidth": 0,
              "ticks": ""
             }
            },
            "marker": {
             "colorbar": {
              "outlinewidth": 0,
              "ticks": ""
             }
            },
            "type": "scatter3d"
           }
          ],
          "scattercarpet": [
           {
            "marker": {
             "colorbar": {
              "outlinewidth": 0,
              "ticks": ""
             }
            },
            "type": "scattercarpet"
           }
          ],
          "scattergeo": [
           {
            "marker": {
             "colorbar": {
              "outlinewidth": 0,
              "ticks": ""
             }
            },
            "type": "scattergeo"
           }
          ],
          "scattergl": [
           {
            "marker": {
             "colorbar": {
              "outlinewidth": 0,
              "ticks": ""
             }
            },
            "type": "scattergl"
           }
          ],
          "scattermapbox": [
           {
            "marker": {
             "colorbar": {
              "outlinewidth": 0,
              "ticks": ""
             }
            },
            "type": "scattermapbox"
           }
          ],
          "scatterpolar": [
           {
            "marker": {
             "colorbar": {
              "outlinewidth": 0,
              "ticks": ""
             }
            },
            "type": "scatterpolar"
           }
          ],
          "scatterpolargl": [
           {
            "marker": {
             "colorbar": {
              "outlinewidth": 0,
              "ticks": ""
             }
            },
            "type": "scatterpolargl"
           }
          ],
          "scatterternary": [
           {
            "marker": {
             "colorbar": {
              "outlinewidth": 0,
              "ticks": ""
             }
            },
            "type": "scatterternary"
           }
          ],
          "surface": [
           {
            "colorbar": {
             "outlinewidth": 0,
             "ticks": ""
            },
            "colorscale": [
             [
              0,
              "#0d0887"
             ],
             [
              0.1111111111111111,
              "#46039f"
             ],
             [
              0.2222222222222222,
              "#7201a8"
             ],
             [
              0.3333333333333333,
              "#9c179e"
             ],
             [
              0.4444444444444444,
              "#bd3786"
             ],
             [
              0.5555555555555556,
              "#d8576b"
             ],
             [
              0.6666666666666666,
              "#ed7953"
             ],
             [
              0.7777777777777778,
              "#fb9f3a"
             ],
             [
              0.8888888888888888,
              "#fdca26"
             ],
             [
              1,
              "#f0f921"
             ]
            ],
            "type": "surface"
           }
          ],
          "table": [
           {
            "cells": {
             "fill": {
              "color": "#EBF0F8"
             },
             "line": {
              "color": "white"
             }
            },
            "header": {
             "fill": {
              "color": "#C8D4E3"
             },
             "line": {
              "color": "white"
             }
            },
            "type": "table"
           }
          ]
         },
         "layout": {
          "annotationdefaults": {
           "arrowcolor": "#2a3f5f",
           "arrowhead": 0,
           "arrowwidth": 1
          },
          "autotypenumbers": "strict",
          "coloraxis": {
           "colorbar": {
            "outlinewidth": 0,
            "ticks": ""
           }
          },
          "colorscale": {
           "diverging": [
            [
             0,
             "#8e0152"
            ],
            [
             0.1,
             "#c51b7d"
            ],
            [
             0.2,
             "#de77ae"
            ],
            [
             0.3,
             "#f1b6da"
            ],
            [
             0.4,
             "#fde0ef"
            ],
            [
             0.5,
             "#f7f7f7"
            ],
            [
             0.6,
             "#e6f5d0"
            ],
            [
             0.7,
             "#b8e186"
            ],
            [
             0.8,
             "#7fbc41"
            ],
            [
             0.9,
             "#4d9221"
            ],
            [
             1,
             "#276419"
            ]
           ],
           "sequential": [
            [
             0,
             "#0d0887"
            ],
            [
             0.1111111111111111,
             "#46039f"
            ],
            [
             0.2222222222222222,
             "#7201a8"
            ],
            [
             0.3333333333333333,
             "#9c179e"
            ],
            [
             0.4444444444444444,
             "#bd3786"
            ],
            [
             0.5555555555555556,
             "#d8576b"
            ],
            [
             0.6666666666666666,
             "#ed7953"
            ],
            [
             0.7777777777777778,
             "#fb9f3a"
            ],
            [
             0.8888888888888888,
             "#fdca26"
            ],
            [
             1,
             "#f0f921"
            ]
           ],
           "sequentialminus": [
            [
             0,
             "#0d0887"
            ],
            [
             0.1111111111111111,
             "#46039f"
            ],
            [
             0.2222222222222222,
             "#7201a8"
            ],
            [
             0.3333333333333333,
             "#9c179e"
            ],
            [
             0.4444444444444444,
             "#bd3786"
            ],
            [
             0.5555555555555556,
             "#d8576b"
            ],
            [
             0.6666666666666666,
             "#ed7953"
            ],
            [
             0.7777777777777778,
             "#fb9f3a"
            ],
            [
             0.8888888888888888,
             "#fdca26"
            ],
            [
             1,
             "#f0f921"
            ]
           ]
          },
          "colorway": [
           "#636efa",
           "#EF553B",
           "#00cc96",
           "#ab63fa",
           "#FFA15A",
           "#19d3f3",
           "#FF6692",
           "#B6E880",
           "#FF97FF",
           "#FECB52"
          ],
          "font": {
           "color": "#2a3f5f"
          },
          "geo": {
           "bgcolor": "white",
           "lakecolor": "white",
           "landcolor": "#E5ECF6",
           "showlakes": true,
           "showland": true,
           "subunitcolor": "white"
          },
          "hoverlabel": {
           "align": "left"
          },
          "hovermode": "closest",
          "mapbox": {
           "style": "light"
          },
          "paper_bgcolor": "white",
          "plot_bgcolor": "#E5ECF6",
          "polar": {
           "angularaxis": {
            "gridcolor": "white",
            "linecolor": "white",
            "ticks": ""
           },
           "bgcolor": "#E5ECF6",
           "radialaxis": {
            "gridcolor": "white",
            "linecolor": "white",
            "ticks": ""
           }
          },
          "scene": {
           "xaxis": {
            "backgroundcolor": "#E5ECF6",
            "gridcolor": "white",
            "gridwidth": 2,
            "linecolor": "white",
            "showbackground": true,
            "ticks": "",
            "zerolinecolor": "white"
           },
           "yaxis": {
            "backgroundcolor": "#E5ECF6",
            "gridcolor": "white",
            "gridwidth": 2,
            "linecolor": "white",
            "showbackground": true,
            "ticks": "",
            "zerolinecolor": "white"
           },
           "zaxis": {
            "backgroundcolor": "#E5ECF6",
            "gridcolor": "white",
            "gridwidth": 2,
            "linecolor": "white",
            "showbackground": true,
            "ticks": "",
            "zerolinecolor": "white"
           }
          },
          "shapedefaults": {
           "line": {
            "color": "#2a3f5f"
           }
          },
          "ternary": {
           "aaxis": {
            "gridcolor": "white",
            "linecolor": "white",
            "ticks": ""
           },
           "baxis": {
            "gridcolor": "white",
            "linecolor": "white",
            "ticks": ""
           },
           "bgcolor": "#E5ECF6",
           "caxis": {
            "gridcolor": "white",
            "linecolor": "white",
            "ticks": ""
           }
          },
          "title": {
           "x": 0.05
          },
          "xaxis": {
           "automargin": true,
           "gridcolor": "white",
           "linecolor": "white",
           "ticks": "",
           "title": {
            "standoff": 15
           },
           "zerolinecolor": "white",
           "zerolinewidth": 2
          },
          "yaxis": {
           "automargin": true,
           "gridcolor": "white",
           "linecolor": "white",
           "ticks": "",
           "title": {
            "standoff": 15
           },
           "zerolinecolor": "white",
           "zerolinewidth": 2
          }
         }
        },
        "width": 500,
        "xaxis": {
         "anchor": "y",
         "domain": [
          0,
          1
         ],
         "title": {
          "text": "x1"
         }
        },
        "yaxis": {
         "anchor": "x",
         "domain": [
          0,
          1
         ],
         "scaleanchor": "x",
         "scaleratio": 1,
         "title": {
          "text": "x2"
         }
        }
       }
      }
     },
     "metadata": {},
     "output_type": "display_data"
    }
   ],
   "source": [
    "x = [0, 0 ,1 , 1]\n",
    "y = [0, 1, 0, 1]\n",
    "label = [0, 1, 1, 0]\n",
    "fig = px.scatter(x=x, y=y, color=[str(i) for i in label])\n",
    "fig.update_layout(\n",
    "    xaxis_title=\"x1\",\n",
    "    yaxis_title=\"x2\",\n",
    "    width=500,\n",
    "    height=460,\n",
    "    legend_title=\"label\",\n",
    ")\n",
    "fig.update_yaxes(scaleanchor = \"x\", scaleratio = 1)\n",
    "fig.show()"
   ]
  },
  {
   "cell_type": "markdown",
   "metadata": {},
   "source": [
    "## 2.3\n",
    "\n",
    "Nodes are shown as (feature, split, gain ratio). True means ≥ the split.\n",
    "{('x2', 8, gain ratio=0.430):\n",
    "True -- 1,\n",
    "False: {('x2', 6, gain ratio=0.121):\n",
    "        True -- {('x2', 7, gain ratio=1):\n",
    "                True -- 0,\n",
    "                False -- 1},\n",
    "        False -- {('x2', 0, gain ratio=0.362):\n",
    "                True -- 0,\n",
    "                False: {('x1', 0.1, gain ratio=1):\n",
    "                        True -- 0,\n",
    "                        False --1}\n",
    "                }\n",
    "        }\n",
    "}"
   ]
  },
  {
   "cell_type": "markdown",
   "metadata": {},
   "source": [
    "## 2.4\n",
    "\n",
    "Nodes are shown as (feature, split).\n",
    "\n",
    "{('x1', 10):\n",
    "True -- 1,\n",
    "False -- {('x2', 3):\n",
    "        True -- 1,\n",
    "        False -- 0\n",
    "        }\n",
    "}\n",
    "\n",
    "IF x1 ≥ 10 THEN output is 1.\n",
    "IF x1 < 10 AND x2 ≥ 3 THEN output is 1.\n",
    "IF x1 < 10 AND x2 < 3 THEN output is 0."
   ]
  },
  {
   "cell_type": "markdown",
   "metadata": {},
   "source": [
    "## 2.5\n",
    "\n",
    "Nodes are shown as (feature, split, logic). True means ≥ the split.\n",
    "{('x2', 0.201829, True): 1,\n",
    "('x2', 0.201829, False): 0\n",
    "}\n",
    "\n",
    "IF x2 ≥ 0.201829 THEN output is 1.\n",
    "IF x2 < 0.201829 THEN output is 0.\n",
    "\n",
    "\n",
    "{\n",
    "    (\"x1\", 0.533076, True): {\n",
    "        (\"x2\", 0.228007, True): {\n",
    "            (\"x2\", 0.424906, True): 1,\n",
    "            (\"x2\", 0.424906, False): {\n",
    "                (\"x1\", 0.708127, True): 1,\n",
    "                (\"x1\", 0.708127, False): {\n",
    "                    (\"x2\", 0.32625, True): {\n",
    "                        (\"x1\", 0.595471, True): {\n",
    "                            (\"x1\", 0.646007, True): 1,\n",
    "                            (\"x1\", 0.646007, False): {\n",
    "                                (\"x2\", 0.403494, True): 1,\n",
    "                                (\"x2\", 0.403494, False): 0,\n",
    "                            },\n",
    "                        },\n",
    "                        (\"x1\", 0.595471, False): 0,\n",
    "                    },\n",
    "                    (\"x2\", 0.32625, False): 0,\n",
    "                },\n",
    "            },\n",
    "        },\n",
    "        (\"x2\", 0.228007, False): {\n",
    "            (\"x1\", 0.887224, True): {\n",
    "                (\"x2\", 0.037708, True): {\n",
    "                    (\"x2\", 0.082895, True): 1,\n",
    "                    (\"x2\", 0.082895, False): {\n",
    "                        (\"x1\", 0.960783, True): 1,\n",
    "                        (\"x1\", 0.960783, False): 0,\n",
    "                    },\n",
    "                },\n",
    "                (\"x2\", 0.037708, False): 0,\n",
    "            },\n",
    "            (\"x1\", 0.887224, False): {\n",
    "                (\"x1\", 0.850316, True): {\n",
    "                    (\"x2\", 0.169053, True): 1,\n",
    "                    (\"x2\", 0.169053, False): 0,\n",
    "                },\n",
    "                (\"x1\", 0.850316, False): 0,\n",
    "            },\n",
    "        },\n",
    "    },\n",
    "    (\"x1\", 0.533076, False): {\n",
    "        (\"x2\", 0.88635, True): {\n",
    "            (\"x1\", 0.041245, True): {\n",
    "                (\"x1\", 0.104043, True): 1,\n",
    "                (\"x1\", 0.104043, False): {\n",
    "                    (\"x1\", 0.07642, True): 0,\n",
    "                    (\"x1\", 0.07642, False): 1,\n",
    "                },\n",
    "            },\n",
    "            (\"x1\", 0.041245, False): 0,\n",
    "        },\n",
    "        (\"x2\", 0.88635, False): {\n",
    "            (\"x2\", 0.691474, True): {\n",
    "                (\"x1\", 0.254049, True): 1,\n",
    "                (\"x1\", 0.254049, False): {\n",
    "                    (\"x1\", 0.191915, True): {\n",
    "                        (\"x2\", 0.792752, True): 1,\n",
    "                        (\"x2\", 0.792752, False): 0,\n",
    "                    },\n",
    "                    (\"x1\", 0.191915, False): {\n",
    "                        (\"x2\", 0.864128, True): {\n",
    "                            (\"x1\", 0.144781, True): 1,\n",
    "                            (\"x1\", 0.144781, False): 0,\n",
    "                        },\n",
    "                        (\"x2\", 0.864128, False): 0,\n",
    "                    },\n",
    "                },\n",
    "            },\n",
    "            (\"x2\", 0.691474, False): {\n",
    "                (\"x2\", 0.534979, True): {\n",
    "                    (\"x1\", 0.426073, True): 1,\n",
    "                    (\"x1\", 0.426073, False): {\n",
    "                        (\"x1\", 0.409972, True): {\n",
    "                            (\"x1\", 0.417579, True): 0,\n",
    "                            (\"x1\", 0.417579, False): 1,\n",
    "                        },\n",
    "                        (\"x1\", 0.409972, False): {\n",
    "                            (\"x1\", 0.393227, True): {\n",
    "                                (\"x1\", 0.39583, True): 0,\n",
    "                                (\"x1\", 0.39583, False): 1,\n",
    "                            },\n",
    "                            (\"x1\", 0.393227, False): 0,\n",
    "                        },\n",
    "                    },\n",
    "                },\n",
    "                (\"x2\", 0.534979, False): 0,\n",
    "            },\n",
    "        },\n",
    "    },\n",
    "}\n",
    "\n",
    "It is very hard, so as a try, I will only interpret part of it.\n",
    "1. If 'x1' is greater than 0.533076, continue to 2; else, go to 7.\n",
    "2. If 'x2' is greater than 0.228007, continue to 3; else, go to 5.\n",
    "3. If 'x2' is greater than 0.424906, then the outcome is 1.\n",
    "4. If 'x2' is less or equal to 0.424906, and 'x1' is greater than 0.708127, then the outcome is 1.\n",
    "5. If 'x1' is greater than 0.887224, continue to 6; else, the outcome is 0.\n",
    "6. If 'x2' is greater than 0.037708, then the outcome is 1; else, the outcome is 0.\n",
    "7. If 'x2' is greater than 0.88635, continue to 8; else, the outcome is 0.\n",
    "8. If 'x1' is greater than 0.041245, then the outcome is 1; else, the outcome is 0."
   ]
  },
  {
   "cell_type": "markdown",
   "metadata": {},
   "source": [
    "## 2.6"
   ]
  },
  {
   "cell_type": "code",
   "execution_count": 7,
   "metadata": {},
   "outputs": [
    {
     "data": {
      "application/vnd.plotly.v1+json": {
       "config": {
        "plotlyServerURL": "https://plot.ly"
       },
       "data": [
        {
         "hovertemplate": "label=0<br>x1=%{x}<br>x2=%{y}<extra></extra>",
         "legendgroup": "0",
         "marker": {
          "color": "#636efa",
          "symbol": "circle"
         },
         "mode": "markers",
         "name": "0",
         "orientation": "v",
         "showlegend": true,
         "type": "scatter",
         "x": [
          0.264185,
          0.218459,
          0.428589,
          0.846905,
          0.318465,
          0.759743,
          0.734303,
          0.11712,
          0.813524,
          0.596321,
          0.557531,
          0.473011,
          0.763216,
          0.672655,
          0.291722,
          0.64496,
          0.459723,
          0.78936,
          0.129304,
          0.802159,
          0.854391,
          0.692777,
          0.078019,
          0.119508,
          0.630027,
          0.920029,
          0.400031,
          0.663901,
          0.184859,
          0.020689,
          0.751953,
          0.094909,
          0.541807,
          0.594398,
          0.129899,
          0.74173,
          0.824704,
          0.554227,
          0.215711,
          0.434672,
          0.748955,
          0.344197,
          0.922622,
          0.198487,
          0.216918,
          0.802181,
          0.9807,
          0.970721,
          0.107572,
          0.038951,
          0.247358,
          0.321959,
          0.012936,
          0.936073,
          0.911796,
          0.140208,
          0.382987,
          0.438657,
          0.581004,
          0.435577,
          0.115962,
          0.645018,
          0.199882,
          0.104087,
          0.159997,
          0.462273,
          0.992297,
          0.123349,
          0.235499,
          0.413143,
          0.901493,
          0.326845,
          0.939118,
          0.596653,
          0.631186,
          0.376938,
          0.695484,
          0.56673,
          0.514388,
          0.675281,
          0.224141,
          0.433407,
          0.823891,
          0.889918,
          0.230276,
          0.770059,
          0.802215,
          0.59704,
          0.701317,
          0.567378,
          0.710245,
          0.874148,
          0.219192,
          0.314277,
          0.019313,
          0.109307,
          0.805307,
          0.717351,
          0.208779,
          0.506939,
          0.342102,
          0.242247,
          0.346327,
          0.076322,
          0.9117,
          0.413894,
          0.804104,
          0.67023,
          0.011643,
          0.56061,
          0.689664,
          0.601972,
          0.762571,
          0.815366,
          0.841897,
          0.872585,
          0.479881,
          0.457307,
          0.908673,
          0.52172,
          0.764397,
          0.257721,
          0.899216,
          0.210968,
          0.958698,
          0.526906,
          0.540735,
          0.788782,
          0.608304,
          0.2291,
          0.489469,
          0.742628,
          0.193721,
          0.250655,
          0.817611,
          0.984574,
          0.635115,
          0.168096,
          0.785964,
          0.734932,
          0.036572,
          0.446173,
          0.41615,
          0.760454,
          0.44706,
          0.554133,
          0.949547,
          0.844778,
          0.462857,
          0.684093,
          0.193268,
          0.646199,
          0.12764,
          0.766052,
          0.847487,
          0.312845,
          0.579664,
          0.65649,
          0.463268,
          0.293537,
          0.136427,
          0.209373,
          0.393053,
          0.402842,
          0.857079,
          0.611149,
          0.520225,
          0.107954,
          0.738737,
          0.371416,
          0.755479,
          0.552803,
          0.195872,
          0.924543,
          0.197509
         ],
         "xaxis": "x",
         "y": [
          0.178456,
          0.0948,
          0.098529,
          0.132193,
          0.037164,
          0.195766,
          0.084971,
          0.040817,
          0.002516,
          0.023495,
          0.077195,
          0.085159,
          0.022219,
          0.048617,
          0.11178,
          0.058067,
          0.035284,
          0.170162,
          0.02992,
          0.036245,
          0.110697,
          0.130103,
          0.021327,
          0.198552,
          0.152316,
          0.194628,
          0.183439,
          0.049201,
          0.195942,
          0.179859,
          0.065234,
          0.084355,
          0.140443,
          0.023504,
          0.070116,
          0.011115,
          0.180211,
          0.122787,
          0.141008,
          0.023708,
          0.161371,
          0.101957,
          0.038121,
          0.052191,
          0.093125,
          0.048433,
          0.020112,
          0.093815,
          0.050549,
          0.158715,
          0.101737,
          0.079064,
          0.067581,
          0.107728,
          0.034653,
          0.187523,
          0.062027,
          0.147579,
          0.158323,
          0.166045,
          0.088526,
          0.049751,
          0.033965,
          0.043324,
          0.05881,
          0.042931,
          0.191953,
          0.103402,
          0.146825,
          0.017809,
          0.115011,
          0.020181,
          0.183404,
          0.020224,
          0.080984,
          0.014241,
          0.149466,
          0.013259,
          0.004651,
          0.01533,
          0.067419,
          0.017279,
          0.064042,
          0.142814,
          0.122932,
          0.07857,
          0.199014,
          0.071286,
          0.076435,
          0.115444,
          0.120226,
          0.02316,
          0.112657,
          0.045529,
          0.182927,
          0.164467,
          0.125487,
          0.080798,
          0.046161,
          0.189092,
          0.011726,
          0.032009,
          0.1899,
          0.084976,
          0.164995,
          0.0974,
          0.037664,
          0.047027,
          0.104085,
          0.045985,
          0.149693,
          0.037113,
          0.117627,
          0.051142,
          0.069616,
          0.023955,
          0.105906,
          0.0448,
          0.047408,
          0.15978,
          0.123445,
          0.04862,
          0.067004,
          0.046869,
          0.118613,
          0.128873,
          0.177232,
          0.184544,
          0.041165,
          0.096705,
          0.014611,
          0.067156,
          0.053362,
          0.06864,
          0.112393,
          0.182889,
          0.126042,
          0.144832,
          0.165293,
          0.038349,
          0.071447,
          0.03344,
          0.091029,
          0.158597,
          0.028007,
          0.026002,
          0.032314,
          0.176784,
          0.038435,
          0.011202,
          0.010919,
          0.091861,
          0.045317,
          0.012205,
          0.025151,
          0.180153,
          0.147496,
          0.199558,
          0.009214,
          0.036704,
          0.187915,
          0.040869,
          0.042287,
          0.088949,
          0.02376,
          0.19649,
          0.199725,
          0.087376,
          0.013804,
          0.01022,
          0.062776,
          0.015756,
          0.122877,
          0.076672,
          0.086896
         ],
         "yaxis": "y"
        },
        {
         "hovertemplate": "label=1<br>x1=%{x}<br>x2=%{y}<extra></extra>",
         "legendgroup": "1",
         "marker": {
          "color": "#EF553B",
          "symbol": "circle"
         },
         "mode": "markers",
         "name": "1",
         "orientation": "v",
         "showlegend": true,
         "type": "scatter",
         "x": [
          0.409499,
          0.926224,
          0.573685,
          0.953159,
          0.422326,
          0.733995,
          0.528926,
          0.844507,
          0.516632,
          0.613356,
          0.05193,
          0.693076,
          0.462623,
          0.565444,
          0.709766,
          0.476188,
          0.916433,
          0.586053,
          0.483662,
          0.679985,
          0.546181,
          0.698597,
          0.948181,
          0.291281,
          0.532965,
          0.87998,
          0.333399,
          0.652226,
          0.988055,
          0.397657,
          0.312022,
          0.282226,
          0.495478,
          0.589599,
          0.672417,
          0.10117,
          0.144057,
          0.265848,
          0.442704,
          0.342149,
          0.964468,
          0.758639,
          0.271604,
          0.003089,
          0.659558,
          0.641692,
          0.751421,
          0.537144,
          0.510641,
          0.399516,
          0.363346,
          0.239361,
          0.853358,
          0.639359,
          0.780527,
          0.726116,
          0.595654,
          0.895635,
          0.573858,
          0.36903,
          0.524025,
          0.302418,
          0.403112,
          0.349449,
          0.737764,
          0.12808,
          0.996047,
          0.108973,
          0.810731,
          0.980625,
          0.386965,
          0.276441,
          0.444465,
          0.145838,
          0.080888,
          0.870165,
          0.555811,
          0.24446,
          0.807592,
          0.70484,
          0.442641,
          0.529928,
          0.315034,
          0.781415,
          0.01079,
          0.609716,
          0.927818,
          0.647439,
          0.186937,
          0.012141,
          0.245057,
          0.589982,
          0.155174,
          0.888856,
          0.343762,
          0.631875,
          0.712486,
          0.802289,
          0.179475,
          0.820755,
          0.761879,
          0.766598,
          0.734726,
          0.756568,
          0.936298,
          0.25013,
          0.154121,
          0.021497,
          0.603307,
          0.234224,
          0.693426,
          0.90365,
          0.191197,
          0.331852,
          0.447732,
          0.542097,
          0.011844,
          0.575232,
          0.195822,
          0.569552,
          0.468389,
          0.423564,
          0.72305,
          0.59346,
          0.257836,
          0.518197,
          0.566695,
          0.213849,
          0.644387,
          0.008663,
          0.001191,
          0.138377,
          0.425026,
          0.977859,
          0.427387,
          0.733716,
          0.099617,
          0.713472,
          0.537928,
          0.075502,
          0.219856,
          0.995937,
          0.038661,
          0.476289,
          0.331297,
          0.642607,
          0.351652,
          0.776426,
          0.514807,
          0.526695,
          0.35146,
          0.666741,
          0.453114,
          0.92497,
          0.504098,
          0.577104,
          0.754701,
          0.907255,
          0.579935,
          0.601384,
          0.973825,
          0.171441,
          0.475767,
          0.056893,
          0.446132,
          0.206525,
          0.812497,
          0.303009,
          0.839057,
          0.598574,
          0.334906,
          0.842076,
          0.742128,
          0.737599,
          0.482814,
          0.567174,
          0.07568,
          0.31204,
          0.652944,
          0.492192,
          0.379396,
          0.871884,
          0.430739,
          0.216488,
          0.985759,
          0.354277,
          0.531084,
          0.133989,
          0.18238,
          0.242781,
          0.553717,
          0.132739,
          0.869639,
          0.509506,
          0.403238,
          0.490578,
          0.115787,
          0.526984,
          0.998453,
          0.326031,
          0.228897,
          0.6273,
          0.263197,
          0.074342,
          0.661972,
          0.341296,
          0.506886,
          0.604046,
          0.935954,
          0.885649,
          0.690667,
          0.765794,
          0.614103,
          0.203363,
          0.793291,
          0.851074,
          0.580294,
          0.171856,
          0.743085,
          0.15657,
          0.974266,
          0.331258,
          0.417008,
          0.493018,
          0.368879,
          0.466447,
          0.025204,
          0.862299,
          0.600106,
          0.532246,
          0.455319,
          0.075897,
          0.699823,
          0.799519,
          0.688398,
          0.006173,
          0.44858,
          0.682047,
          0.858187,
          0.181807,
          0.721252,
          0.491125,
          0.496003,
          0.058757,
          0.009175,
          0.211628,
          0.33712,
          0.149392,
          0.097217,
          0.13155,
          0.602281,
          0.410879,
          0.551875,
          0.941396,
          0.599059,
          0.693621,
          0.627161,
          0.282926,
          0.007471,
          0.865326,
          0.383775,
          0.78909,
          0.475487,
          0.148767,
          0.716866,
          0.702565,
          0.938734,
          0.297294,
          0.051254,
          0.78037,
          0.884221,
          0.869596,
          0.807976,
          0.555553,
          0.449917,
          0.739106,
          0.353566,
          0.521814,
          0.842863,
          0.667834,
          0.575621,
          0.742144,
          0.683078,
          0.297147,
          0.628528,
          0.544564,
          0.582407,
          0.08797,
          0.710957,
          0.373285,
          0.750645,
          0.333162,
          0.764593,
          0.985153,
          0.719413,
          0.648103,
          0.364292,
          0.599896,
          0.103442,
          0.010938,
          0.279469,
          0.933011,
          0.591896,
          0.255882,
          0.484726,
          0.904939,
          0.728289,
          0.383973,
          0.514327,
          0.390606,
          0.719045,
          0.682358,
          0.740583,
          0.772841,
          0.372415,
          0.03981,
          0.882415,
          0.977624,
          0.473574,
          0.467388,
          0.354274,
          0.475006,
          0.153019,
          0.751985,
          0.991854,
          0.147719,
          0.913671,
          0.13663,
          0.478498,
          0.950867,
          0.786376,
          0.953163,
          0.266519,
          0.626347,
          0.323503,
          0.967501,
          0.4144,
          0.103375,
          0.414526,
          0.518172,
          0.928973,
          0.038794,
          0.183613,
          0.418473,
          0.303008,
          0.330237,
          0.999645,
          0.312818,
          0.187835,
          0.668721,
          0.192853,
          0.098073,
          0.552321,
          0.067189,
          0.774999,
          0.768694,
          0.645317,
          0.905322,
          0.422263,
          0.856131,
          0.021117,
          0.776161,
          0.718686,
          0.681013,
          0.362395,
          0.719893,
          0.398189,
          0.68258,
          0.745996,
          0.619303,
          0.122316,
          0.087137,
          0.151844,
          0.988166,
          0.856742,
          0.165379,
          0.207694,
          0.819282,
          0.391055,
          0.134907,
          0.337514,
          0.872212,
          0.359956,
          0.516619,
          0.015223,
          0.43274,
          0.387877,
          0.072324,
          0.001943,
          0.207862,
          0.527255,
          0.806941,
          0.754788,
          0.355109,
          0.409632,
          0.379663,
          0.574533,
          0.827145,
          0.784928,
          0.33669,
          0.462739,
          0.858249,
          0.930621,
          0.154389,
          0.573929,
          0.0291,
          0.774708,
          0.663326,
          0.271896,
          0.523914,
          0.238791,
          0.948248,
          0.661398,
          0.712493,
          0.043506,
          0.38866,
          0.317377,
          0.831402,
          0.208086,
          0.959119,
          0.2761,
          0.691637,
          0.210573,
          0.254088,
          0.991322,
          0.092508,
          0.721172,
          0.01228,
          0.804468,
          0.504611,
          0.708463,
          0.891131,
          0.444162,
          0.262488,
          0.13547,
          0.031172,
          0.425377,
          0.174139,
          0.324806,
          0.078791,
          0.872565,
          0.845998,
          0.085653,
          0.467125,
          0.855833,
          0.388819,
          0.3221,
          0.845595,
          0.706152,
          0.37021,
          0.877732,
          0.408486,
          0.48325,
          0.3262,
          0.397342,
          0.4069,
          0.200601,
          0.261142,
          0.701588,
          0.131942,
          0.568455,
          0.701387,
          0.27903,
          0.094496,
          0.051403,
          0.670664,
          0.324967,
          0.133002,
          0.578462,
          0.459561,
          0.328165,
          0.997093,
          0.798204,
          0.316087,
          0.658593,
          0.995037,
          0.782597,
          0.23804,
          0.586857,
          0.352784,
          0.615669,
          0.156809,
          0.178046,
          0.598362,
          0.616452,
          0.848309,
          0.234979,
          0.746587,
          0.026902,
          0.13628,
          0.058416,
          0.747166,
          0.001824,
          0.742171,
          0.767803,
          0.634706,
          0.372495,
          0.586698,
          0.351679,
          0.539874,
          0.88966,
          0.11519,
          0.325404,
          0.904151,
          0.584054,
          0.612939,
          0.261335,
          0.650881,
          0.036853,
          0.699269,
          0.411772,
          0.363453,
          0.423578,
          0.605538,
          0.718326,
          0.672235,
          0.767432,
          0.799624,
          0.183275,
          0.739568,
          0.795893,
          0.894892,
          0.589771,
          0.955602,
          0.253787,
          0.525837,
          0.909874,
          0.577038,
          0.302476,
          0.396833,
          0.208502,
          0.638158,
          0.997057,
          0.039633,
          0.691872,
          0.626543,
          0.484483,
          0.713503,
          0.577797,
          0.354691,
          0.545552,
          0.980489,
          0.606303,
          0.60359,
          0.983444,
          0.92936,
          0.357304,
          0.536129,
          0.554569,
          0.599814,
          0.656826,
          0.850072,
          0.074015,
          0.323091,
          0.164923,
          0.027636,
          0.477451,
          0.005812,
          0.407683,
          0.358269,
          0.375661,
          0.374048,
          0.255695,
          0.914175,
          0.030544,
          0.804494,
          0.660069,
          0.204387,
          0.798375,
          0.564599,
          0.308573,
          0.734896,
          0.943588,
          0.424892,
          0.857619,
          0.737954,
          0.651382,
          0.484858,
          0.762084,
          0.539951,
          0.550773,
          0.805911,
          0.207592,
          0.715754,
          0.420814,
          0.585039,
          0.706089,
          0.595808,
          0.874878,
          0.218212,
          0.162415,
          0.314034,
          0.443102,
          0.69991,
          0.920815,
          0.610887,
          0.755136,
          0.587429,
          0.792768,
          0.876105,
          0.534215,
          0.700521,
          0.656564,
          0.766923,
          0.784794,
          0.913668,
          0.073551,
          0.769265,
          0.061663,
          0.716352,
          0.993661,
          0.357809,
          0.898746,
          0.056051,
          0.764698,
          0.414037,
          0.584393,
          0.904238,
          0.607239,
          0.348554,
          0.360075,
          0.21587,
          0.549173,
          0.473575,
          0.16178,
          0.01477,
          0.510281,
          0.53087,
          0.156995,
          0.292126,
          0.927076,
          0.008861,
          0.715334,
          0.570862,
          0.020004,
          0.344951,
          0.4491,
          0.706667,
          0.365878,
          0.765328,
          0.80988,
          0.26305,
          0.107739,
          0.518152,
          0.737455,
          0.308173,
          0.860566,
          0.148597,
          0.257235,
          0.543,
          0.774527,
          0.064064,
          0.707992,
          0.845782,
          0.991029,
          0.533555,
          0.677921,
          0.02208,
          0.833004,
          0.091038,
          0.667307,
          0.377151,
          0.889175,
          0.416586,
          0.972613,
          0.926174,
          0.785857,
          0.270437,
          0.99489,
          0.334149,
          0.031119,
          0.686432,
          0.378505,
          0.723491,
          0.480855,
          0.709395,
          0.182346,
          0.332423,
          0.424086,
          0.185138,
          0.972022,
          0.235634,
          0.022057,
          0.881795,
          0.913048,
          0.543874,
          0.578368,
          0.625326,
          0.776206,
          0.06449,
          0.335594,
          0.479226,
          0.955995,
          0.98868,
          0.190783,
          0.171898,
          0.058648,
          0.659241,
          0.780887,
          0.668236,
          0.612927,
          0.010672,
          0.545334,
          0.13761,
          0.519526,
          0.056754,
          0.82397,
          0.941868,
          0.123956,
          0.564376,
          0.363694,
          0.502625,
          0.710637,
          0.224487,
          0.496842,
          0.281469,
          0.496308,
          0.529071,
          0.731029,
          0.390423,
          0.662287,
          0.373469,
          0.983369,
          0.353387,
          0.583509,
          0.255876,
          0.747386,
          0.876695,
          0.333583,
          0.257995,
          0.122733,
          0.670888,
          0.021294,
          0.176575,
          0.535847,
          0.132591,
          0.135077,
          0.154932,
          0.767756,
          0.522358,
          0.191498,
          0.223782,
          0.063858,
          0.947073,
          0.170469,
          0.205412,
          0.627632,
          0.158085,
          0.930405,
          0.70289,
          0.715058,
          0.113868,
          0.547309,
          0.990375,
          0.185012,
          0.686512,
          0.368028,
          0.887062,
          0.864688,
          0.324071,
          0.307422,
          0.607634,
          0.32256,
          0.949542,
          0.824009,
          0.017516,
          0.342642,
          0.749795,
          0.66058,
          0.481303,
          0.154067,
          0.116004,
          0.359769,
          0.496926,
          0.346942,
          0.130692,
          0.143579,
          0.277065,
          0.271314,
          0.570266,
          0.791203,
          0.840447,
          0.520302,
          0.875014,
          0.137186,
          0.289251,
          0.738249,
          0.127965,
          0.4301,
          0.823295,
          0.149131,
          0.97171,
          0.415189,
          0.176483,
          0.539354,
          0.427903,
          0.499545,
          0.722766,
          0.80366,
          0.743313,
          0.084845,
          0.421394,
          0.96027,
          0.051089,
          0.852791,
          0.717213,
          0.710049,
          0.624729,
          0.260968,
          0.379976,
          0.981069,
          0.161072,
          0.333232,
          0.001405,
          0.134694,
          0.606346,
          0.139224,
          0.352546,
          0.91411,
          0.286559,
          0.21132,
          0.625005,
          0.285166,
          0.751571,
          0.142654
         ],
         "xaxis": "x",
         "y": [
          0.213456,
          0.540329,
          0.282145,
          0.608121,
          0.844277,
          0.578508,
          0.395999,
          0.888243,
          0.621279,
          0.913753,
          0.224059,
          0.771207,
          0.91613,
          0.906358,
          0.990023,
          0.507265,
          0.603193,
          0.68922,
          0.495088,
          0.385115,
          0.817448,
          0.553553,
          0.672108,
          0.623738,
          0.748927,
          0.237742,
          0.565892,
          0.429767,
          0.393918,
          0.647492,
          0.453745,
          0.755971,
          0.587146,
          0.669406,
          0.972595,
          0.421915,
          0.382653,
          0.211769,
          0.53247,
          0.828888,
          0.482005,
          0.589456,
          0.263571,
          0.244161,
          0.752336,
          0.294135,
          0.906103,
          0.845261,
          0.463497,
          0.386569,
          0.996123,
          0.547801,
          0.310025,
          0.730921,
          0.32518,
          0.787976,
          0.849308,
          0.316888,
          0.914265,
          0.439608,
          0.25004,
          0.773956,
          0.769138,
          0.643354,
          0.557693,
          0.857247,
          0.907805,
          0.633621,
          0.406464,
          0.861303,
          0.541398,
          0.529803,
          0.827395,
          0.641347,
          0.54764,
          0.492789,
          0.686625,
          0.690596,
          0.824086,
          0.480021,
          0.827116,
          0.622556,
          0.855625,
          0.381832,
          0.734763,
          0.415488,
          0.709132,
          0.639772,
          0.40465,
          0.343379,
          0.384417,
          0.287759,
          0.774611,
          0.903887,
          0.242485,
          0.301156,
          0.547355,
          0.25227,
          0.308695,
          0.926336,
          0.35978,
          0.840708,
          0.592865,
          0.327687,
          0.702006,
          0.930222,
          0.979414,
          0.566464,
          0.908639,
          0.630806,
          0.376342,
          0.791327,
          0.924324,
          0.474902,
          0.904069,
          0.351486,
          0.715132,
          0.625298,
          0.215779,
          0.666608,
          0.586399,
          0.364728,
          0.473712,
          0.348805,
          0.559509,
          0.271455,
          0.519473,
          0.428457,
          0.914609,
          0.271065,
          0.62215,
          0.651725,
          0.861474,
          0.837101,
          0.677054,
          0.313584,
          0.621421,
          0.597602,
          0.818435,
          0.827159,
          0.222097,
          0.97424,
          0.423691,
          0.686449,
          0.4268,
          0.878823,
          0.226526,
          0.804322,
          0.407705,
          0.8102,
          0.706899,
          0.754347,
          0.835046,
          0.435775,
          0.356947,
          0.420342,
          0.740561,
          0.488769,
          0.845011,
          0.297832,
          0.258945,
          0.613409,
          0.501561,
          0.409902,
          0.203343,
          0.328637,
          0.762191,
          0.493819,
          0.768224,
          0.713421,
          0.956757,
          0.29515,
          0.524901,
          0.87139,
          0.767475,
          0.254606,
          0.842828,
          0.80315,
          0.758354,
          0.284927,
          0.935681,
          0.211397,
          0.651613,
          0.907241,
          0.404344,
          0.393186,
          0.353516,
          0.297344,
          0.674332,
          0.545176,
          0.691233,
          0.620942,
          0.520759,
          0.659512,
          0.814802,
          0.323163,
          0.511496,
          0.794079,
          0.648719,
          0.979265,
          0.809234,
          0.937581,
          0.256407,
          0.55268,
          0.788727,
          0.546865,
          0.610124,
          0.568315,
          0.94788,
          0.487392,
          0.497931,
          0.73102,
          0.575643,
          0.384077,
          0.355821,
          0.828384,
          0.56356,
          0.862418,
          0.489874,
          0.508024,
          0.393078,
          0.547074,
          0.791671,
          0.447809,
          0.807259,
          0.6704,
          0.396321,
          0.768871,
          0.506142,
          0.76442,
          0.846459,
          0.604686,
          0.724222,
          0.355737,
          0.458074,
          0.852493,
          0.99924,
          0.217,
          0.827503,
          0.3302,
          0.629397,
          0.539125,
          0.681555,
          0.349832,
          0.379093,
          0.475133,
          0.974586,
          0.586671,
          0.801922,
          0.503147,
          0.858333,
          0.322197,
          0.825389,
          0.247726,
          0.865203,
          0.8842,
          0.336761,
          0.852469,
          0.771588,
          0.843722,
          0.945889,
          0.892881,
          0.48715,
          0.960185,
          0.927423,
          0.785422,
          0.715709,
          0.725998,
          0.681304,
          0.585135,
          0.442841,
          0.644772,
          0.870614,
          0.90373,
          0.380614,
          0.573848,
          0.275043,
          0.342661,
          0.646301,
          0.837043,
          0.517165,
          0.920589,
          0.639504,
          0.520602,
          0.439171,
          0.736779,
          0.670936,
          0.231523,
          0.432976,
          0.924682,
          0.314332,
          0.580521,
          0.724371,
          0.335308,
          0.823319,
          0.737081,
          0.353163,
          0.346899,
          0.369061,
          0.64068,
          0.852773,
          0.430229,
          0.581784,
          0.376664,
          0.287189,
          0.677826,
          0.97101,
          0.886582,
          0.989751,
          0.673526,
          0.239825,
          0.226231,
          0.684469,
          0.845462,
          0.854332,
          0.89472,
          0.571132,
          0.986606,
          0.886446,
          0.701029,
          0.591196,
          0.450859,
          0.842352,
          0.814777,
          0.208726,
          0.454541,
          0.929223,
          0.866327,
          0.943582,
          0.269373,
          0.230114,
          0.890749,
          0.666372,
          0.436126,
          0.52208,
          0.826038,
          0.719073,
          0.663059,
          0.466321,
          0.544145,
          0.599766,
          0.289096,
          0.940178,
          0.852059,
          0.319017,
          0.692097,
          0.9056,
          0.329943,
          0.922898,
          0.687542,
          0.242718,
          0.257142,
          0.787387,
          0.97648,
          0.216784,
          0.822044,
          0.892693,
          0.824429,
          0.272863,
          0.733753,
          0.537975,
          0.678525,
          0.266454,
          0.920152,
          0.227954,
          0.358076,
          0.362757,
          0.906733,
          0.682511,
          0.839215,
          0.286357,
          0.691639,
          0.870267,
          0.932189,
          0.700401,
          0.524227,
          0.869056,
          0.532699,
          0.652656,
          0.565425,
          0.496417,
          0.583189,
          0.713038,
          0.488786,
          0.628603,
          0.509791,
          0.265586,
          0.565673,
          0.660931,
          0.899837,
          0.94156,
          0.594965,
          0.719535,
          0.669933,
          0.292407,
          0.811356,
          0.308869,
          0.877906,
          0.642025,
          0.455982,
          0.259927,
          0.989349,
          0.5149,
          0.597138,
          0.363539,
          0.641355,
          0.746868,
          0.510655,
          0.997067,
          0.305597,
          0.994026,
          0.725534,
          0.221612,
          0.81159,
          0.939042,
          0.469402,
          0.484425,
          0.929783,
          0.795463,
          0.692273,
          0.732549,
          0.28847,
          0.959929,
          0.209059,
          0.76431,
          0.724814,
          0.408558,
          0.602084,
          0.933303,
          0.684022,
          0.350062,
          0.650656,
          0.211203,
          0.236254,
          0.707584,
          0.93649,
          0.888389,
          0.429422,
          0.766604,
          0.453956,
          0.242425,
          0.670466,
          0.57773,
          0.389828,
          0.210054,
          0.394907,
          0.254199,
          0.206311,
          0.284698,
          0.619987,
          0.963419,
          0.632865,
          0.396857,
          0.849855,
          0.844912,
          0.477121,
          0.688392,
          0.247008,
          0.571634,
          0.393193,
          0.858095,
          0.770631,
          0.724968,
          0.580072,
          0.486125,
          0.659943,
          0.632912,
          0.469397,
          0.545239,
          0.367457,
          0.644431,
          0.914724,
          0.330834,
          0.382838,
          0.561473,
          0.872603,
          0.762436,
          0.501499,
          0.524117,
          0.847863,
          0.723167,
          0.987924,
          0.24973,
          0.920422,
          0.62482,
          0.863743,
          0.242658,
          0.28798,
          0.441918,
          0.876161,
          0.752836,
          0.309727,
          0.861739,
          0.752664,
          0.589257,
          0.823061,
          0.678007,
          0.67272,
          0.386441,
          0.657858,
          0.995248,
          0.911324,
          0.735983,
          0.466207,
          0.560468,
          0.64419,
          0.867831,
          0.266672,
          0.441914,
          0.549969,
          0.572871,
          0.862496,
          0.46084,
          0.842437,
          0.501133,
          0.359306,
          0.301488,
          0.328131,
          0.621477,
          0.601146,
          0.681274,
          0.666984,
          0.215887,
          0.538191,
          0.923064,
          0.939309,
          0.689925,
          0.740674,
          0.232402,
          0.327933,
          0.425061,
          0.286044,
          0.257634,
          0.94426,
          0.475754,
          0.261246,
          0.810784,
          0.485253,
          0.521861,
          0.279095,
          0.754215,
          0.473638,
          0.568612,
          0.829438,
          0.456039,
          0.246516,
          0.540154,
          0.497163,
          0.317303,
          0.622114,
          0.284653,
          0.566991,
          0.498266,
          0.213746,
          0.342725,
          0.738733,
          0.222374,
          0.926906,
          0.914067,
          0.282692,
          0.971135,
          0.384216,
          0.323977,
          0.655705,
          0.843211,
          0.443057,
          0.544096,
          0.832601,
          0.229114,
          0.405818,
          0.537886,
          0.210148,
          0.562759,
          0.952215,
          0.817252,
          0.734399,
          0.282746,
          0.384751,
          0.686544,
          0.370878,
          0.481971,
          0.851069,
          0.328606,
          0.523818,
          0.428444,
          0.843154,
          0.248417,
          0.512541,
          0.690554,
          0.612581,
          0.878376,
          0.941512,
          0.812004,
          0.617057,
          0.586085,
          0.879803,
          0.900946,
          0.353405,
          0.658944,
          0.985066,
          0.889256,
          0.225167,
          0.281624,
          0.968591,
          0.871802,
          0.705831,
          0.301498,
          0.505696,
          0.637328,
          0.927873,
          0.201829,
          0.301315,
          0.829256,
          0.939282,
          0.922378,
          0.521311,
          0.427277,
          0.809602,
          0.226263,
          0.430489,
          0.999283,
          0.974288,
          0.583068,
          0.634201,
          0.433597,
          0.393131,
          0.436269,
          0.231682,
          0.347624,
          0.286922,
          0.223259,
          0.610651,
          0.264989,
          0.733912,
          0.258965,
          0.508716,
          0.83155,
          0.998496,
          0.453455,
          0.403821,
          0.277944,
          0.525894,
          0.311561,
          0.915117,
          0.59011,
          0.341607,
          0.518834,
          0.505562,
          0.383147,
          0.910253,
          0.414895,
          0.690733,
          0.235638,
          0.856028,
          0.352816,
          0.790281,
          0.376304,
          0.295455,
          0.307138,
          0.295094,
          0.736346,
          0.598047,
          0.510284,
          0.42165,
          0.778483,
          0.71258,
          0.843449,
          0.578282,
          0.679168,
          0.651862,
          0.243997,
          0.528554,
          0.515219,
          0.523792,
          0.334276,
          0.518126,
          0.599675,
          0.623702,
          0.979284,
          0.32097,
          0.346618,
          0.674803,
          0.570904,
          0.811045,
          0.752341,
          0.403742,
          0.586775,
          0.398629,
          0.577197,
          0.446346,
          0.495428,
          0.762785,
          0.991385,
          0.355547,
          0.923756,
          0.845299,
          0.86596,
          0.463309,
          0.446714,
          0.38578,
          0.300069,
          0.653526,
          0.720375,
          0.50843,
          0.982336,
          0.965381,
          0.647516,
          0.817231,
          0.754522,
          0.419827,
          0.527166,
          0.872056,
          0.214397,
          0.868784,
          0.694087,
          0.953603,
          0.467779,
          0.219306,
          0.243556,
          0.840455,
          0.852799,
          0.21201,
          0.779883,
          0.621361,
          0.544427,
          0.973887,
          0.968062,
          0.498216,
          0.56953,
          0.260606,
          0.363282,
          0.283726,
          0.590227,
          0.836069,
          0.835024,
          0.42293,
          0.417415,
          0.848246,
          0.319666,
          0.509489,
          0.639422,
          0.877836,
          0.851087,
          0.424198,
          0.677585,
          0.345852,
          0.202572,
          0.314395,
          0.910185,
          0.910808,
          0.481899,
          0.958429,
          0.452557,
          0.242747,
          0.466447,
          0.211201,
          0.450331,
          0.316846,
          0.294016,
          0.864637,
          0.976591,
          0.389237,
          0.695047,
          0.34045,
          0.445126,
          0.695513,
          0.351081,
          0.927994,
          0.299045,
          0.899952,
          0.233188,
          0.391584,
          0.524226,
          0.425568,
          0.782831,
          0.78283,
          0.270056,
          0.323829,
          0.727379,
          0.8293,
          0.388233,
          0.761791,
          0.803602,
          0.268859,
          0.505921,
          0.865532,
          0.410392,
          0.608743,
          0.541124,
          0.248472,
          0.592384,
          0.872263,
          0.486035,
          0.396496,
          0.43617,
          0.718931,
          0.526285,
          0.679218,
          0.331123,
          0.258615,
          0.757389,
          0.303269,
          0.364218,
          0.300402,
          0.649452,
          0.99033,
          0.987872,
          0.907298,
          0.60251,
          0.341817,
          0.707372,
          0.768245,
          0.58971,
          0.654991,
          0.733772,
          0.712651,
          0.547154,
          0.855375,
          0.89197,
          0.773024,
          0.737143,
          0.233578,
          0.956678,
          0.514041,
          0.226182
         ],
         "yaxis": "y"
        }
       ],
       "layout": {
        "height": 460,
        "legend": {
         "title": {
          "text": "label"
         },
         "tracegroupgap": 0
        },
        "margin": {
         "t": 60
        },
        "template": {
         "data": {
          "bar": [
           {
            "error_x": {
             "color": "#2a3f5f"
            },
            "error_y": {
             "color": "#2a3f5f"
            },
            "marker": {
             "line": {
              "color": "#E5ECF6",
              "width": 0.5
             },
             "pattern": {
              "fillmode": "overlay",
              "size": 10,
              "solidity": 0.2
             }
            },
            "type": "bar"
           }
          ],
          "barpolar": [
           {
            "marker": {
             "line": {
              "color": "#E5ECF6",
              "width": 0.5
             },
             "pattern": {
              "fillmode": "overlay",
              "size": 10,
              "solidity": 0.2
             }
            },
            "type": "barpolar"
           }
          ],
          "carpet": [
           {
            "aaxis": {
             "endlinecolor": "#2a3f5f",
             "gridcolor": "white",
             "linecolor": "white",
             "minorgridcolor": "white",
             "startlinecolor": "#2a3f5f"
            },
            "baxis": {
             "endlinecolor": "#2a3f5f",
             "gridcolor": "white",
             "linecolor": "white",
             "minorgridcolor": "white",
             "startlinecolor": "#2a3f5f"
            },
            "type": "carpet"
           }
          ],
          "choropleth": [
           {
            "colorbar": {
             "outlinewidth": 0,
             "ticks": ""
            },
            "type": "choropleth"
           }
          ],
          "contour": [
           {
            "colorbar": {
             "outlinewidth": 0,
             "ticks": ""
            },
            "colorscale": [
             [
              0,
              "#0d0887"
             ],
             [
              0.1111111111111111,
              "#46039f"
             ],
             [
              0.2222222222222222,
              "#7201a8"
             ],
             [
              0.3333333333333333,
              "#9c179e"
             ],
             [
              0.4444444444444444,
              "#bd3786"
             ],
             [
              0.5555555555555556,
              "#d8576b"
             ],
             [
              0.6666666666666666,
              "#ed7953"
             ],
             [
              0.7777777777777778,
              "#fb9f3a"
             ],
             [
              0.8888888888888888,
              "#fdca26"
             ],
             [
              1,
              "#f0f921"
             ]
            ],
            "type": "contour"
           }
          ],
          "contourcarpet": [
           {
            "colorbar": {
             "outlinewidth": 0,
             "ticks": ""
            },
            "type": "contourcarpet"
           }
          ],
          "heatmap": [
           {
            "colorbar": {
             "outlinewidth": 0,
             "ticks": ""
            },
            "colorscale": [
             [
              0,
              "#0d0887"
             ],
             [
              0.1111111111111111,
              "#46039f"
             ],
             [
              0.2222222222222222,
              "#7201a8"
             ],
             [
              0.3333333333333333,
              "#9c179e"
             ],
             [
              0.4444444444444444,
              "#bd3786"
             ],
             [
              0.5555555555555556,
              "#d8576b"
             ],
             [
              0.6666666666666666,
              "#ed7953"
             ],
             [
              0.7777777777777778,
              "#fb9f3a"
             ],
             [
              0.8888888888888888,
              "#fdca26"
             ],
             [
              1,
              "#f0f921"
             ]
            ],
            "type": "heatmap"
           }
          ],
          "heatmapgl": [
           {
            "colorbar": {
             "outlinewidth": 0,
             "ticks": ""
            },
            "colorscale": [
             [
              0,
              "#0d0887"
             ],
             [
              0.1111111111111111,
              "#46039f"
             ],
             [
              0.2222222222222222,
              "#7201a8"
             ],
             [
              0.3333333333333333,
              "#9c179e"
             ],
             [
              0.4444444444444444,
              "#bd3786"
             ],
             [
              0.5555555555555556,
              "#d8576b"
             ],
             [
              0.6666666666666666,
              "#ed7953"
             ],
             [
              0.7777777777777778,
              "#fb9f3a"
             ],
             [
              0.8888888888888888,
              "#fdca26"
             ],
             [
              1,
              "#f0f921"
             ]
            ],
            "type": "heatmapgl"
           }
          ],
          "histogram": [
           {
            "marker": {
             "pattern": {
              "fillmode": "overlay",
              "size": 10,
              "solidity": 0.2
             }
            },
            "type": "histogram"
           }
          ],
          "histogram2d": [
           {
            "colorbar": {
             "outlinewidth": 0,
             "ticks": ""
            },
            "colorscale": [
             [
              0,
              "#0d0887"
             ],
             [
              0.1111111111111111,
              "#46039f"
             ],
             [
              0.2222222222222222,
              "#7201a8"
             ],
             [
              0.3333333333333333,
              "#9c179e"
             ],
             [
              0.4444444444444444,
              "#bd3786"
             ],
             [
              0.5555555555555556,
              "#d8576b"
             ],
             [
              0.6666666666666666,
              "#ed7953"
             ],
             [
              0.7777777777777778,
              "#fb9f3a"
             ],
             [
              0.8888888888888888,
              "#fdca26"
             ],
             [
              1,
              "#f0f921"
             ]
            ],
            "type": "histogram2d"
           }
          ],
          "histogram2dcontour": [
           {
            "colorbar": {
             "outlinewidth": 0,
             "ticks": ""
            },
            "colorscale": [
             [
              0,
              "#0d0887"
             ],
             [
              0.1111111111111111,
              "#46039f"
             ],
             [
              0.2222222222222222,
              "#7201a8"
             ],
             [
              0.3333333333333333,
              "#9c179e"
             ],
             [
              0.4444444444444444,
              "#bd3786"
             ],
             [
              0.5555555555555556,
              "#d8576b"
             ],
             [
              0.6666666666666666,
              "#ed7953"
             ],
             [
              0.7777777777777778,
              "#fb9f3a"
             ],
             [
              0.8888888888888888,
              "#fdca26"
             ],
             [
              1,
              "#f0f921"
             ]
            ],
            "type": "histogram2dcontour"
           }
          ],
          "mesh3d": [
           {
            "colorbar": {
             "outlinewidth": 0,
             "ticks": ""
            },
            "type": "mesh3d"
           }
          ],
          "parcoords": [
           {
            "line": {
             "colorbar": {
              "outlinewidth": 0,
              "ticks": ""
             }
            },
            "type": "parcoords"
           }
          ],
          "pie": [
           {
            "automargin": true,
            "type": "pie"
           }
          ],
          "scatter": [
           {
            "fillpattern": {
             "fillmode": "overlay",
             "size": 10,
             "solidity": 0.2
            },
            "type": "scatter"
           }
          ],
          "scatter3d": [
           {
            "line": {
             "colorbar": {
              "outlinewidth": 0,
              "ticks": ""
             }
            },
            "marker": {
             "colorbar": {
              "outlinewidth": 0,
              "ticks": ""
             }
            },
            "type": "scatter3d"
           }
          ],
          "scattercarpet": [
           {
            "marker": {
             "colorbar": {
              "outlinewidth": 0,
              "ticks": ""
             }
            },
            "type": "scattercarpet"
           }
          ],
          "scattergeo": [
           {
            "marker": {
             "colorbar": {
              "outlinewidth": 0,
              "ticks": ""
             }
            },
            "type": "scattergeo"
           }
          ],
          "scattergl": [
           {
            "marker": {
             "colorbar": {
              "outlinewidth": 0,
              "ticks": ""
             }
            },
            "type": "scattergl"
           }
          ],
          "scattermapbox": [
           {
            "marker": {
             "colorbar": {
              "outlinewidth": 0,
              "ticks": ""
             }
            },
            "type": "scattermapbox"
           }
          ],
          "scatterpolar": [
           {
            "marker": {
             "colorbar": {
              "outlinewidth": 0,
              "ticks": ""
             }
            },
            "type": "scatterpolar"
           }
          ],
          "scatterpolargl": [
           {
            "marker": {
             "colorbar": {
              "outlinewidth": 0,
              "ticks": ""
             }
            },
            "type": "scatterpolargl"
           }
          ],
          "scatterternary": [
           {
            "marker": {
             "colorbar": {
              "outlinewidth": 0,
              "ticks": ""
             }
            },
            "type": "scatterternary"
           }
          ],
          "surface": [
           {
            "colorbar": {
             "outlinewidth": 0,
             "ticks": ""
            },
            "colorscale": [
             [
              0,
              "#0d0887"
             ],
             [
              0.1111111111111111,
              "#46039f"
             ],
             [
              0.2222222222222222,
              "#7201a8"
             ],
             [
              0.3333333333333333,
              "#9c179e"
             ],
             [
              0.4444444444444444,
              "#bd3786"
             ],
             [
              0.5555555555555556,
              "#d8576b"
             ],
             [
              0.6666666666666666,
              "#ed7953"
             ],
             [
              0.7777777777777778,
              "#fb9f3a"
             ],
             [
              0.8888888888888888,
              "#fdca26"
             ],
             [
              1,
              "#f0f921"
             ]
            ],
            "type": "surface"
           }
          ],
          "table": [
           {
            "cells": {
             "fill": {
              "color": "#EBF0F8"
             },
             "line": {
              "color": "white"
             }
            },
            "header": {
             "fill": {
              "color": "#C8D4E3"
             },
             "line": {
              "color": "white"
             }
            },
            "type": "table"
           }
          ]
         },
         "layout": {
          "annotationdefaults": {
           "arrowcolor": "#2a3f5f",
           "arrowhead": 0,
           "arrowwidth": 1
          },
          "autotypenumbers": "strict",
          "coloraxis": {
           "colorbar": {
            "outlinewidth": 0,
            "ticks": ""
           }
          },
          "colorscale": {
           "diverging": [
            [
             0,
             "#8e0152"
            ],
            [
             0.1,
             "#c51b7d"
            ],
            [
             0.2,
             "#de77ae"
            ],
            [
             0.3,
             "#f1b6da"
            ],
            [
             0.4,
             "#fde0ef"
            ],
            [
             0.5,
             "#f7f7f7"
            ],
            [
             0.6,
             "#e6f5d0"
            ],
            [
             0.7,
             "#b8e186"
            ],
            [
             0.8,
             "#7fbc41"
            ],
            [
             0.9,
             "#4d9221"
            ],
            [
             1,
             "#276419"
            ]
           ],
           "sequential": [
            [
             0,
             "#0d0887"
            ],
            [
             0.1111111111111111,
             "#46039f"
            ],
            [
             0.2222222222222222,
             "#7201a8"
            ],
            [
             0.3333333333333333,
             "#9c179e"
            ],
            [
             0.4444444444444444,
             "#bd3786"
            ],
            [
             0.5555555555555556,
             "#d8576b"
            ],
            [
             0.6666666666666666,
             "#ed7953"
            ],
            [
             0.7777777777777778,
             "#fb9f3a"
            ],
            [
             0.8888888888888888,
             "#fdca26"
            ],
            [
             1,
             "#f0f921"
            ]
           ],
           "sequentialminus": [
            [
             0,
             "#0d0887"
            ],
            [
             0.1111111111111111,
             "#46039f"
            ],
            [
             0.2222222222222222,
             "#7201a8"
            ],
            [
             0.3333333333333333,
             "#9c179e"
            ],
            [
             0.4444444444444444,
             "#bd3786"
            ],
            [
             0.5555555555555556,
             "#d8576b"
            ],
            [
             0.6666666666666666,
             "#ed7953"
            ],
            [
             0.7777777777777778,
             "#fb9f3a"
            ],
            [
             0.8888888888888888,
             "#fdca26"
            ],
            [
             1,
             "#f0f921"
            ]
           ]
          },
          "colorway": [
           "#636efa",
           "#EF553B",
           "#00cc96",
           "#ab63fa",
           "#FFA15A",
           "#19d3f3",
           "#FF6692",
           "#B6E880",
           "#FF97FF",
           "#FECB52"
          ],
          "font": {
           "color": "#2a3f5f"
          },
          "geo": {
           "bgcolor": "white",
           "lakecolor": "white",
           "landcolor": "#E5ECF6",
           "showlakes": true,
           "showland": true,
           "subunitcolor": "white"
          },
          "hoverlabel": {
           "align": "left"
          },
          "hovermode": "closest",
          "mapbox": {
           "style": "light"
          },
          "paper_bgcolor": "white",
          "plot_bgcolor": "#E5ECF6",
          "polar": {
           "angularaxis": {
            "gridcolor": "white",
            "linecolor": "white",
            "ticks": ""
           },
           "bgcolor": "#E5ECF6",
           "radialaxis": {
            "gridcolor": "white",
            "linecolor": "white",
            "ticks": ""
           }
          },
          "scene": {
           "xaxis": {
            "backgroundcolor": "#E5ECF6",
            "gridcolor": "white",
            "gridwidth": 2,
            "linecolor": "white",
            "showbackground": true,
            "ticks": "",
            "zerolinecolor": "white"
           },
           "yaxis": {
            "backgroundcolor": "#E5ECF6",
            "gridcolor": "white",
            "gridwidth": 2,
            "linecolor": "white",
            "showbackground": true,
            "ticks": "",
            "zerolinecolor": "white"
           },
           "zaxis": {
            "backgroundcolor": "#E5ECF6",
            "gridcolor": "white",
            "gridwidth": 2,
            "linecolor": "white",
            "showbackground": true,
            "ticks": "",
            "zerolinecolor": "white"
           }
          },
          "shapedefaults": {
           "line": {
            "color": "#2a3f5f"
           }
          },
          "ternary": {
           "aaxis": {
            "gridcolor": "white",
            "linecolor": "white",
            "ticks": ""
           },
           "baxis": {
            "gridcolor": "white",
            "linecolor": "white",
            "ticks": ""
           },
           "bgcolor": "#E5ECF6",
           "caxis": {
            "gridcolor": "white",
            "linecolor": "white",
            "ticks": ""
           }
          },
          "title": {
           "x": 0.05
          },
          "xaxis": {
           "automargin": true,
           "gridcolor": "white",
           "linecolor": "white",
           "ticks": "",
           "title": {
            "standoff": 15
           },
           "zerolinecolor": "white",
           "zerolinewidth": 2
          },
          "yaxis": {
           "automargin": true,
           "gridcolor": "white",
           "linecolor": "white",
           "ticks": "",
           "title": {
            "standoff": 15
           },
           "zerolinecolor": "white",
           "zerolinewidth": 2
          }
         }
        },
        "width": 500,
        "xaxis": {
         "anchor": "y",
         "domain": [
          0,
          1
         ],
         "title": {
          "text": "x1"
         }
        },
        "yaxis": {
         "anchor": "x",
         "domain": [
          0,
          1
         ],
         "scaleanchor": "x",
         "scaleratio": 1,
         "title": {
          "text": "x2"
         }
        }
       }
      }
     },
     "metadata": {},
     "output_type": "display_data"
    }
   ],
   "source": [
    "filepath = 'D1.txt'\n",
    "data = read_data(filepath)\n",
    "data['label'] = data['y'].astype(str)\n",
    "\n",
    "fig = px.scatter(data, x='x1', y='x2', color='label')\n",
    "fig.update_layout(\n",
    "    width=500,\n",
    "    height=460,\n",
    "    legend_title=\"label\",\n",
    ")\n",
    "\n",
    "fig.update_yaxes(scaleanchor = \"x\", scaleratio = 1)\n",
    "fig.show()"
   ]
  },
  {
   "cell_type": "code",
   "execution_count": 8,
   "metadata": {},
   "outputs": [
    {
     "data": {
      "application/vnd.plotly.v1+json": {
       "config": {
        "plotlyServerURL": "https://plot.ly"
       },
       "data": [
        {
         "hovertemplate": "label=1<br>x1=%{x}<br>x2=%{y}<extra></extra>",
         "legendgroup": "1",
         "marker": {
          "color": "#636efa",
          "symbol": "circle"
         },
         "mode": "markers",
         "name": "1",
         "orientation": "v",
         "showlegend": true,
         "type": "scatter",
         "x": [
          0.315561,
          0.344972,
          0.398419,
          0.985903,
          0.708728,
          0.82961,
          0.978967,
          0.921975,
          0.518431,
          0.412298,
          0.710494,
          0.851026,
          0.718145,
          0.551028,
          0.67447,
          0.989321,
          0.984849,
          0.485713,
          0.446889,
          0.837364,
          0.279292,
          0.735124,
          0.892864,
          0.502947,
          0.969787,
          0.577437,
          0.874784,
          0.652734,
          0.996438,
          0.353308,
          0.946337,
          0.873461,
          0.607143,
          0.94486,
          0.986453,
          0.934827,
          0.721324,
          0.285902,
          0.595471,
          0.118056,
          0.771362,
          0.903273,
          0.585753,
          0.79326,
          0.692603,
          0.653177,
          0.375331,
          0.56568,
          0.94916,
          0.135573,
          0.867252,
          0.682569,
          0.645326,
          0.547069,
          0.857659,
          0.329959,
          0.77801,
          0.815071,
          0.7925,
          0.2908,
          0.973944,
          0.998629,
          0.819732,
          0.467227,
          0.373326,
          0.960783,
          0.771714,
          0.552289,
          0.977728,
          0.253113,
          0.989477,
          0.957943,
          0.753004,
          0.75623,
          0.699843,
          0.567242,
          0.983499,
          0.989491,
          0.624229,
          0.041245,
          0.652547,
          0.128628,
          0.360955,
          0.247723,
          0.598309,
          0.723563,
          0.948954,
          0.219926,
          0.731096,
          0.318395,
          0.6666,
          0.507114,
          0.668766,
          0.533535,
          0.598448,
          0.996152,
          0.769272,
          0.730028,
          0.485697,
          0.455974,
          0.976357,
          0.536419,
          0.206899,
          0.604901,
          0.60386,
          0.983977,
          0.469378,
          0.186236,
          0.827283,
          0.776992,
          0.849136,
          0.280252,
          0.876081,
          0.738785,
          0.775134,
          0.816483,
          0.762561,
          0.904443,
          0.533381,
          0.9565,
          0.850316,
          0.737329,
          0.554415,
          0.205622,
          0.619262,
          0.207325,
          0.280314,
          0.394678,
          0.750995,
          0.454801,
          0.869276,
          0.665697,
          0.886384,
          0.798697,
          0.482425,
          0.76645,
          0.716424,
          0.853546,
          0.568665,
          0.766148,
          0.863953,
          0.977031,
          0.887224,
          0.979953,
          0.864468,
          0.471028,
          0.818611,
          0.761423,
          0.827685,
          0.410812,
          0.598573,
          0.925585,
          0.924492,
          0.80833,
          0.743876,
          0.321586,
          0.190819,
          0.897701,
          0.622775,
          0.604338,
          0.316018,
          0.622049,
          0.104043,
          0.834345,
          0.965486,
          0.46266,
          0.300623,
          0.981788,
          0.861632,
          0.177071,
          0.254049,
          0.637888,
          0.957214,
          0.683761,
          0.94463,
          0.440464,
          0.176701,
          0.404007,
          0.898032,
          0.991564,
          0.226702,
          0.786499,
          0.527904,
          0.191158,
          0.468767,
          0.933425,
          0.812357,
          0.426073,
          0.552198,
          0.787705,
          0.267268,
          0.545342,
          0.514364,
          0.241971,
          0.80022,
          0.911961,
          0.512481,
          0.662782,
          0.68746,
          0.908443,
          0.937869,
          0.73682,
          0.667938,
          0.808421,
          0.749748,
          0.989099,
          0.788027,
          0.706664,
          0.783112,
          0.912665,
          0.111076,
          0.680709,
          0.548235,
          0.462475,
          0.885714,
          0.867003,
          0.402303,
          0.942905,
          0.538836,
          0.843893,
          0.33046,
          0.550364,
          0.393766,
          0.665702,
          0.777786,
          0.675553,
          0.508727,
          0.331473,
          0.933974,
          0.671253,
          0.924192,
          0.58866,
          0.720508,
          0.750435,
          0.994999,
          0.897153,
          0.842874,
          0.637257,
          0.053427,
          0.860367,
          0.721679,
          0.939196,
          0.930856,
          0.810996,
          0.944021,
          0.950405,
          0.891063,
          0.498396,
          0.793003,
          0.638998,
          0.681399,
          0.729537,
          0.836983,
          0.754559,
          0.874763,
          0.414023,
          0.954373,
          0.347108,
          0.700857,
          0.192536,
          0.791271,
          0.884483,
          0.581996,
          0.983768,
          0.676959,
          0.912374,
          0.873914,
          0.867487,
          0.747269,
          0.914019,
          0.647171,
          0.782312,
          0.144781,
          0.698582,
          0.836687,
          0.75527,
          0.951675,
          0.577691,
          0.409972,
          0.775186,
          0.633231,
          0.95343,
          0.572311,
          0.542481,
          0.681089,
          0.914632,
          0.627297,
          0.402582,
          0.717645,
          0.120891,
          0.839018,
          0.277864,
          0.191915,
          0.435451,
          0.872775,
          0.846789,
          0.671935,
          0.646007,
          0.964542,
          0.585174,
          0.813496,
          0.884385,
          0.98189,
          0.351555,
          0.616996,
          0.533381,
          0.425293,
          0.533814,
          0.700671,
          0.811994,
          0.79027,
          0.786447,
          0.878637,
          0.975865,
          0.543812,
          0.873891,
          0.714072,
          0.906597,
          0.474346,
          0.584601,
          0.435371,
          0.149399,
          0.592177,
          0.667457,
          0.608161,
          0.943709,
          0.987538,
          0.949701,
          0.358819,
          0.991198,
          0.676093,
          0.448025,
          0.865293,
          0.405978,
          0.848493,
          0.951774,
          0.340793,
          0.99954,
          0.661721,
          0.29602,
          0.466393,
          0.53698,
          0.667713,
          0.807129,
          0.852653,
          0.649742,
          0.600721,
          0.804878,
          0.125506,
          0.875633,
          0.971582,
          0.709093,
          0.666212,
          0.932832,
          0.948827,
          0.604898,
          0.233317,
          0.64152,
          0.752571,
          0.848787,
          0.572859,
          0.753422,
          0.884192,
          0.78549,
          0.883736,
          0.563602,
          0.785698,
          0.494388,
          0.959321,
          0.949215,
          0.164889,
          0.944899,
          0.732208,
          0.842151,
          0.950024,
          0.717898,
          0.740169,
          0.812111,
          0.816182,
          0.796603,
          0.844477,
          0.753485,
          0.849655,
          0.733731,
          0.94524,
          0.798931,
          0.686441,
          0.144594,
          0.476051,
          0.936629,
          0.655561,
          0.865079,
          0.760241,
          0.308833,
          0.760637,
          0.214211,
          0.66337,
          0.930371,
          0.941838,
          0.706236,
          0.371609,
          0.460317,
          0.912782,
          0.750668,
          0.510378,
          0.599056,
          0.92175,
          0.51348,
          0.425293,
          0.730362,
          0.627627,
          0.970322,
          0.659779,
          0.547186,
          0.914293,
          0.648007,
          0.533076,
          0.830093,
          0.97457,
          0.827722,
          0.822103,
          0.662123,
          0.558881,
          0.5238,
          0.721168,
          0.968868,
          0.517341,
          0.489264,
          0.439246,
          0.766867,
          0.827102,
          0.394714,
          0.990394,
          0.791933,
          0.938003,
          0.56284,
          0.564363,
          0.90482,
          0.951459,
          0.944673,
          0.893396,
          0.753988,
          0.564096,
          0.860244,
          0.91684,
          0.893142,
          0.773797,
          0.77541,
          0.04207,
          0.771831,
          0.911025,
          0.708127,
          0.742901,
          0.270046,
          0.976127,
          0.605925,
          0.951314,
          0.777662,
          0.914553,
          0.964513,
          0.407403,
          0.99889,
          0.96566,
          0.977951,
          0.230493,
          0.649824,
          0.746221,
          0.464517,
          0.939611,
          0.167782,
          0.393227,
          0.06542,
          0.29679,
          0.663727,
          0.972158,
          0.975215,
          0.671581,
          0.802508,
          0.663143,
          0.896601,
          0.794082,
          0.289904,
          0.829475,
          0.713836,
          0.767287,
          0.514109,
          0.84095,
          0.916666,
          0.298512,
          0.813105,
          0.843186,
          0.691812
         ],
         "xaxis": "x",
         "y": [
          0.956006,
          0.693422,
          0.974354,
          0.564388,
          0.718011,
          0.604565,
          0.49721,
          0.224236,
          0.56195,
          0.945498,
          0.944316,
          0.840812,
          0.301105,
          0.881007,
          0.372334,
          0.234851,
          0.997703,
          0.674585,
          0.581563,
          0.597914,
          0.745406,
          0.907834,
          0.221062,
          0.724383,
          0.75669,
          0.841228,
          0.607614,
          0.500395,
          0.82933,
          0.750553,
          0.721383,
          0.922268,
          0.849643,
          0.669635,
          0.263957,
          0.243049,
          0.36855,
          0.905073,
          0.410302,
          0.903804,
          0.456444,
          0.975765,
          0.912384,
          0.270655,
          0.658644,
          0.658212,
          0.770872,
          0.613819,
          0.191206,
          0.911169,
          0.438162,
          0.731211,
          0.698565,
          0.541674,
          0.30617,
          0.980736,
          0.919699,
          0.973849,
          0.962397,
          0.748052,
          0.710675,
          0.536048,
          0.393058,
          0.643542,
          0.981835,
          0.053292,
          0.435059,
          0.488659,
          0.167699,
          0.901471,
          0.860245,
          0.082895,
          0.405114,
          0.455263,
          0.697432,
          0.813225,
          0.282834,
          0.510581,
          0.549984,
          0.968925,
          0.823161,
          0.923387,
          0.980858,
          0.962085,
          0.912048,
          0.926232,
          0.420289,
          0.969646,
          0.565592,
          0.981017,
          0.396978,
          0.959314,
          0.99683,
          0.527396,
          0.982688,
          0.070476,
          0.249355,
          0.781707,
          0.967909,
          0.736336,
          0.470577,
          0.762936,
          0.886587,
          0.852248,
          0.71076,
          0.71844,
          0.554336,
          0.91031,
          0.875557,
          0.228825,
          0.747414,
          0.982406,
          0.257297,
          0.947971,
          0.788712,
          0.361499,
          0.343144,
          0.341928,
          0.649242,
          0.916135,
          0.175042,
          0.31328,
          0.797968,
          0.994815,
          0.403494,
          0.803941,
          0.764158,
          0.861,
          0.794923,
          0.861968,
          0.534392,
          0.958542,
          0.372819,
          0.22923,
          0.91985,
          0.566471,
          0.840747,
          0.670148,
          0.688614,
          0.587253,
          0.81046,
          0.135286,
          0.210729,
          0.592718,
          0.169053,
          0.841168,
          0.430818,
          0.270853,
          0.926965,
          0.751477,
          0.846222,
          0.724101,
          0.687221,
          0.313682,
          0.57564,
          0.764415,
          0.963869,
          0.324861,
          0.551711,
          0.404654,
          0.815449,
          0.439807,
          0.986779,
          0.565095,
          0.480357,
          0.618201,
          0.896426,
          0.715504,
          0.217651,
          0.929408,
          0.855252,
          0.430791,
          0.517177,
          0.632699,
          0.101635,
          0.900267,
          0.941202,
          0.972594,
          0.401126,
          0.466218,
          0.884695,
          0.650491,
          0.693937,
          0.899514,
          0.974701,
          0.145473,
          0.365537,
          0.574122,
          0.906486,
          0.528914,
          0.951039,
          0.511531,
          0.695987,
          0.997589,
          0.707231,
          0.70086,
          0.60811,
          0.634261,
          0.358881,
          0.732778,
          0.384658,
          0.567165,
          0.627726,
          0.341365,
          0.548593,
          0.076499,
          0.424906,
          0.560817,
          0.604167,
          0.678141,
          0.89665,
          0.497907,
          0.5662,
          0.878376,
          0.782944,
          0.367848,
          0.725951,
          0.730162,
          0.62952,
          0.383738,
          0.812633,
          0.473896,
          0.757722,
          0.993034,
          0.516839,
          0.32625,
          0.883103,
          0.975983,
          0.764235,
          0.430906,
          0.988184,
          0.57833,
          0.448923,
          0.542634,
          0.061886,
          0.198296,
          0.913425,
          0.558213,
          0.964767,
          0.889042,
          0.641964,
          0.244365,
          0.860916,
          0.614586,
          0.084265,
          0.535385,
          0.634775,
          0.967629,
          0.643156,
          0.795226,
          0.780236,
          0.862155,
          0.438009,
          0.530964,
          0.54517,
          0.658608,
          0.666059,
          0.913274,
          0.888777,
          0.864408,
          0.938352,
          0.390262,
          0.471493,
          0.142179,
          0.602416,
          0.638409,
          0.593046,
          0.465066,
          0.833251,
          0.59939,
          0.936168,
          0.497906,
          0.864128,
          0.403153,
          0.767937,
          0.49371,
          0.312399,
          0.870919,
          0.597713,
          0.977828,
          0.608321,
          0.662829,
          0.513542,
          0.581947,
          0.915199,
          0.265066,
          0.913808,
          0.691474,
          0.449509,
          0.964562,
          0.248934,
          0.89477,
          0.827252,
          0.825296,
          0.770236,
          0.816623,
          0.579606,
          0.41379,
          0.210079,
          0.4251,
          0.266377,
          0.703944,
          0.669813,
          0.851188,
          0.840104,
          0.511218,
          0.802721,
          0.668755,
          0.548378,
          0.246661,
          0.898164,
          0.925261,
          0.93771,
          0.65058,
          0.861707,
          0.641242,
          0.687281,
          0.677496,
          0.559674,
          0.673282,
          0.694811,
          0.92354,
          0.996288,
          0.496725,
          0.48774,
          0.242906,
          0.67585,
          0.440251,
          0.972731,
          0.327415,
          0.43637,
          0.888826,
          0.399818,
          0.784394,
          0.416321,
          0.157195,
          0.696933,
          0.495871,
          0.495469,
          0.762563,
          0.754036,
          0.77108,
          0.741657,
          0.859521,
          0.874364,
          0.708912,
          0.685662,
          0.977757,
          0.958168,
          0.716546,
          0.303882,
          0.770673,
          0.56754,
          0.265486,
          0.230273,
          0.465526,
          0.883818,
          0.748423,
          0.527878,
          0.430388,
          0.482563,
          0.838691,
          0.921149,
          0.257736,
          0.8756,
          0.75606,
          0.834728,
          0.925071,
          0.36184,
          0.858382,
          0.922052,
          0.601245,
          0.521428,
          0.996613,
          0.581764,
          0.749916,
          0.727883,
          0.983401,
          0.483309,
          0.778362,
          0.307285,
          0.859814,
          0.564704,
          0.822312,
          0.752467,
          0.995931,
          0.562681,
          0.946131,
          0.731385,
          0.167444,
          0.882043,
          0.923094,
          0.816137,
          0.970562,
          0.97054,
          0.792752,
          0.357304,
          0.121505,
          0.090408,
          0.896229,
          0.889261,
          0.623635,
          0.716097,
          0.452842,
          0.67972,
          0.71358,
          0.247736,
          0.534979,
          0.735838,
          0.378733,
          0.723187,
          0.405296,
          0.748158,
          0.817068,
          0.130691,
          0.584534,
          0.474971,
          0.513193,
          0.448732,
          0.736205,
          0.889606,
          0.513511,
          0.695816,
          0.79798,
          0.609354,
          0.890205,
          0.88635,
          0.896497,
          0.800965,
          0.860645,
          0.639621,
          0.991764,
          0.037708,
          0.698827,
          0.506048,
          0.890245,
          0.946505,
          0.129295,
          0.346788,
          0.623402,
          0.228007,
          0.716857,
          0.787008,
          0.350427,
          0.895358,
          0.721606,
          0.802977,
          0.559889,
          0.981098,
          0.540585,
          0.951203,
          0.306337,
          0.45606,
          0.827781,
          0.529406,
          0.497286,
          0.201101,
          0.779632,
          0.511764,
          0.120256,
          0.723586,
          0.630401,
          0.794048,
          0.86348,
          0.901984,
          0.506387,
          0.696252,
          0.878616,
          0.986154,
          0.93884,
          0.639018,
          0.975298,
          0.969149,
          0.919236,
          0.998563,
          0.834799,
          0.921835,
          0.469512,
          0.56201,
          0.742051,
          0.510732,
          0.758009,
          0.905423,
          0.785075,
          0.567764,
          0.800579,
          0.281582,
          0.856767,
          0.752303,
          0.234325,
          0.848278,
          0.751075
         ],
         "yaxis": "y"
        },
        {
         "hovertemplate": "label=0<br>x1=%{x}<br>x2=%{y}<extra></extra>",
         "legendgroup": "0",
         "marker": {
          "color": "#EF553B",
          "symbol": "circle"
         },
         "mode": "markers",
         "name": "0",
         "orientation": "v",
         "showlegend": true,
         "type": "scatter",
         "x": [
          0.347109,
          0.401686,
          0.307729,
          0.300959,
          0.141637,
          0.28554,
          0.468695,
          0.262335,
          0.099204,
          0.361849,
          0.401017,
          0.035681,
          0.137305,
          0.18921,
          0.419153,
          0.253723,
          0.641366,
          0.323513,
          0.617803,
          0.334845,
          0.259164,
          0.709427,
          0.323508,
          0.059159,
          0.828409,
          0.321835,
          0.81228,
          0.264918,
          0.020892,
          0.503367,
          0.560407,
          0.13089,
          0.341054,
          0.108693,
          0.306934,
          0.354666,
          0.276404,
          0.489037,
          0.124318,
          0.399253,
          0.801451,
          0.507647,
          0.140784,
          0.678179,
          0.271966,
          0.34929,
          0.030679,
          0.642246,
          0.927522,
          0.035949,
          0.87433,
          0.412525,
          0.532664,
          0.592121,
          0.518101,
          0.319234,
          0.757102,
          0.316553,
          0.492306,
          0.186025,
          0.277744,
          0.611437,
          0.730842,
          0.238941,
          0.768663,
          0.576365,
          0.603181,
          0.368523,
          0.176757,
          0.507789,
          0.703367,
          0.215482,
          0.124658,
          0.263926,
          0.151316,
          0.038138,
          0.136068,
          0.443969,
          0.39583,
          0.032467,
          0.693067,
          0.186383,
          0.440512,
          0.617746,
          0.438439,
          0.158986,
          0.076883,
          0.283363,
          0.173386,
          0.391584,
          0.391304,
          0.054872,
          0.017627,
          0.383847,
          0.264608,
          0.113966,
          0.435862,
          0.129363,
          0.155936,
          0.506479,
          0.093622,
          0.37167,
          0.137062,
          0.629928,
          0.317725,
          0.670759,
          0.433837,
          0.093713,
          0.104094,
          0.2842,
          0.431913,
          0.305234,
          0.243784,
          0.541762,
          0.598645,
          0.23225,
          0.140423,
          0.163813,
          0.673341,
          0.420299,
          0.068651,
          0.652477,
          0.131728,
          0.280945,
          0.32701,
          0.106316,
          0.387288,
          0.27133,
          0.696933,
          0.056785,
          0.195638,
          0.692512,
          0.287416,
          0.26809,
          0.453995,
          0.095919,
          0.219303,
          0.08534,
          0.285663,
          0.044974,
          0.561904,
          0.310607,
          0.283142,
          0.327548,
          0.278286,
          0.725283,
          0.090285,
          0.078955,
          0.197126,
          0.278739,
          0.182146,
          0.19345,
          0.830388,
          0.253891,
          0.002848,
          0.147915,
          0.723532,
          0.760604,
          0.620399,
          0.171436,
          0.240552,
          0.601928,
          0.183294,
          0.541216,
          0.193222,
          0.553904,
          0.02822,
          0.628723,
          0.151542,
          0.617797,
          0.027517,
          0.417117,
          0.1709,
          0.108146,
          0.215339,
          0.096514,
          0.68018,
          0.718941,
          0.508341,
          0.521784,
          0.52506,
          0.35662,
          0.804737,
          0.018578,
          0.279021,
          0.050327,
          0.644333,
          0.474216,
          0.235978,
          0.983256,
          0.256952,
          0.084123,
          0.276274,
          0.029978,
          0.696763,
          0.862192,
          0.090999,
          0.660985,
          0.619206,
          0.337672,
          0.597351,
          0.215035,
          0.230586,
          0.48497,
          0.426887,
          0.582574,
          0.345416,
          0.100927,
          0.302375,
          0.189312,
          0.254603,
          0.341515,
          0.032694,
          0.249117,
          0.248895,
          0.058309,
          0.316234,
          0.461878,
          0.383286,
          0.01863,
          0.718456,
          0.077573,
          0.013377,
          0.083797,
          0.136255,
          0.620075,
          0.403193,
          0.070652,
          0.480983,
          0.726177,
          0.023132,
          0.013345,
          0.514371,
          0.294022,
          0.237304,
          0.682977,
          0.071046,
          0.112471,
          0.061303,
          0.093085,
          0.293062,
          0.087534,
          0.118397,
          0.401256,
          0.214009,
          0.03745,
          0.18707,
          0.050001,
          0.16134,
          0.189016,
          0.070584,
          0.133449,
          0.185094,
          0.347878,
          0.178711,
          0.08497,
          0.125963,
          0.209617,
          0.112606,
          0.271992,
          0.030458,
          0.477365,
          0.530743,
          0.433655,
          0.574776,
          0.344933,
          0.29472,
          0.734066,
          0.287744,
          0.417278,
          0.340265,
          0.639619,
          0.121206,
          0.809993,
          0.411893,
          0.50921,
          0.066174,
          0.699332,
          0.436819,
          0.349115,
          0.147693,
          0.084213,
          0.861578,
          0.351265,
          0.127011,
          0.082625,
          0.445175,
          0.948868,
          0.68148,
          0.178751,
          0.186339,
          0.354007,
          0.521854,
          0.169865,
          0.000997,
          0.481243,
          0.414121,
          0.15231,
          0.135536,
          0.726666,
          0.489728,
          0.343437,
          0.076825,
          0.227775,
          0.003742,
          0.064606,
          0.484345,
          0.306089,
          0.234523,
          0.188139,
          0.240404,
          0.779557,
          0.700198,
          0.205773,
          0.478863,
          0.169797,
          0.756629,
          0.49366,
          0.354976,
          0.15102,
          0.135938,
          0.417979,
          0.383068,
          0.409387,
          0.10741,
          0.141973,
          0.18625,
          0.200456,
          0.00582,
          0.868789,
          0.165009,
          0.904329,
          0.063559,
          0.736574,
          0.216561,
          0.776658,
          0.152704,
          0.449438,
          0.225239,
          0.312308,
          0.433633,
          0.048142,
          0.011835,
          0.708838,
          0.296198,
          0.363181,
          0.251206,
          0.168873,
          0.023088,
          0.362353,
          0.548306,
          0.227124,
          0.528653,
          0.17751,
          0.478595,
          0.602741,
          0.46015,
          0.159265,
          0.420044,
          0.348306,
          0.190052,
          0.92201,
          0.059157,
          0.405391,
          0.490829,
          0.32054,
          0.196037,
          0.253114,
          0.266485,
          0.819663,
          0.538288,
          0.41206,
          0.558486,
          0.348144,
          0.191413,
          0.70327,
          0.192345,
          0.328461,
          0.194975,
          0.078486,
          0.014763,
          0.328603,
          0.882263,
          0.153357,
          0.297146,
          0.067623,
          0.07642,
          0.349084,
          0.621563,
          0.521383,
          0.352057,
          0.767598,
          0.713557,
          0.567315,
          0.479603,
          0.635403,
          0.417579,
          0.094653,
          0.635157,
          0.729938,
          0.182904,
          0.830502,
          0.427805,
          0.365103,
          0.182068,
          0.298793,
          0.517611,
          0.514209,
          0.254793,
          0.412908,
          0.527823,
          0.314415,
          0.135836,
          0.941524,
          0.346082,
          0.072037,
          0.409312,
          0.886717,
          0.763449,
          0.597291,
          0.495703,
          0.033426,
          0.100113,
          0.493555,
          0.24316,
          0.130649,
          0.199049,
          0.023776,
          0.187064,
          0.334572,
          0.228049,
          0.276697,
          0.557054,
          0.200362,
          0.290912,
          0.499465,
          0.277571,
          0.376969,
          0.417228,
          0.158003,
          0.560899,
          0.376579,
          0.653082,
          0.061448,
          0.552705,
          0.431349,
          0.565323,
          0.073992,
          0.108258,
          0.382566,
          0.532168,
          0.03124,
          0.512824,
          0.226758,
          0.035045,
          0.314234,
          0.275722,
          0.20216,
          0.331763,
          0.634898,
          0.017791,
          0.253985,
          0.037288,
          0.088781,
          0.314752,
          0.541018,
          0.468983,
          0.143448,
          0.719424,
          0.38077,
          0.101859,
          0.66494,
          0.133282,
          0.361285,
          0.349353,
          0.43839,
          0.308147,
          0.37584,
          0.320432,
          0.454587,
          0.061317,
          0.029386,
          0.004763,
          0.500708,
          0.227529,
          0.121747,
          0.403422,
          0.032164,
          0.08133,
          0.704565,
          0.686056,
          0.189292,
          0.453007,
          0.029207,
          0.433071,
          0.30768,
          0.067233,
          0.043176,
          0.655239,
          0.746725,
          0.345689,
          0.588347,
          0.221215,
          0.574443,
          0.707502,
          0.418671,
          0.794456,
          0.384576
         ],
         "xaxis": "x",
         "y": [
          0.56674,
          0.431972,
          0.203143,
          0.661476,
          0.32762,
          0.265084,
          0.328064,
          0.285292,
          0.837743,
          0.274547,
          0.082273,
          0.139997,
          0.552145,
          0.617152,
          0.499517,
          0.722322,
          0.130291,
          0.251697,
          0.043983,
          0.405569,
          0.448248,
          0.152641,
          0.291601,
          0.772904,
          0.168115,
          0.235379,
          0.15107,
          0.062435,
          0.04559,
          0.349549,
          0.220354,
          0.337165,
          0.041874,
          0.555797,
          0.200319,
          0.544433,
          0.608858,
          0.107456,
          0.49915,
          0.549961,
          0.165175,
          0.331589,
          0.019202,
          0.26268,
          0.237387,
          0.024902,
          0.637362,
          0.026473,
          0.053702,
          0.740439,
          0.035885,
          0.238446,
          0.242307,
          0.047157,
          0.388699,
          0.485852,
          0.077564,
          0.592251,
          0.357211,
          0.570066,
          0.451981,
          0.048826,
          0.193015,
          0.251143,
          0.110443,
          0.053872,
          0.264547,
          0.562013,
          0.405385,
          0.395643,
          0.044421,
          0.119691,
          0.06797,
          0.46321,
          0.1232,
          0.811612,
          0.389649,
          0.19519,
          0.585765,
          0.865999,
          0.14734,
          0.497478,
          0.369953,
          0.251102,
          0.378644,
          0.765512,
          0.12872,
          0.560132,
          0.315434,
          0.400554,
          0.119408,
          0.293115,
          0.828751,
          0.244276,
          0.424172,
          0.468648,
          0.258372,
          0.444504,
          0.474991,
          0.03705,
          0.745507,
          0.0377,
          0.09629,
          0.12639,
          0.181613,
          0.07073,
          0.298011,
          0.870472,
          0.884872,
          0.309475,
          0.294476,
          0.052017,
          0.563075,
          0.421367,
          0.310553,
          0.36303,
          0.247108,
          0.310181,
          0.059456,
          0.236029,
          0.238349,
          0.149665,
          0.19319,
          0.561098,
          0.557603,
          0.016457,
          0.545081,
          0.492025,
          0.162976,
          0.4683,
          0.397799,
          0.113513,
          0.366699,
          0.222439,
          0.013435,
          0.841055,
          0.482151,
          0.783943,
          0.637284,
          0.605519,
          0.090137,
          0.679243,
          0.32733,
          0.660778,
          0.539898,
          0.100103,
          0.166664,
          0.831078,
          0.360445,
          0.604435,
          0.091881,
          0.631885,
          0.016248,
          0.585311,
          0.472607,
          0.783115,
          0.089752,
          0.043703,
          0.336895,
          0.05942,
          0.502066,
          0.170896,
          0.457238,
          0.219358,
          0.457652,
          0.365809,
          0.188039,
          0.15485,
          0.256278,
          0.193528,
          0.423677,
          0.284955,
          0.484785,
          0.847719,
          0.767792,
          0.762092,
          0.280464,
          0.0026,
          0.372819,
          0.168655,
          0.371394,
          0.019025,
          0.070981,
          0.364104,
          0.689616,
          0.47027,
          0.04332,
          0.369865,
          0.281528,
          0.004377,
          0.15496,
          0.592707,
          0.477989,
          0.552273,
          0.016176,
          0.072482,
          0.489357,
          0.234851,
          0.09537,
          0.173945,
          0.113645,
          0.38275,
          0.413779,
          0.505084,
          0.38087,
          0.298525,
          0.537425,
          0.41369,
          0.010724,
          0.363847,
          0.276968,
          0.057107,
          0.635533,
          0.100089,
          0.638232,
          0.032038,
          0.544747,
          0.266168,
          0.214353,
          0.434467,
          0.097867,
          0.137576,
          0.288624,
          0.903656,
          0.119764,
          0.198689,
          0.035819,
          0.787573,
          0.219011,
          0.217406,
          0.913796,
          0.690829,
          0.06294,
          0.354819,
          0.13352,
          0.125895,
          0.477188,
          0.460015,
          0.399035,
          0.696856,
          0.223707,
          0.879386,
          0.577948,
          0.564982,
          0.335222,
          0.061105,
          0.488717,
          0.82261,
          0.262942,
          0.742624,
          0.735901,
          0.491867,
          0.549772,
          0.240615,
          0.819166,
          0.161942,
          0.451997,
          0.613597,
          0.616638,
          0.30401,
          0.451614,
          0.349909,
          0.292949,
          0.334914,
          0.221983,
          0.491873,
          0.042702,
          0.048155,
          0.638209,
          0.498718,
          0.477384,
          0.074285,
          0.501454,
          0.065904,
          0.367753,
          0.218636,
          0.717094,
          0.000585,
          0.090247,
          0.325239,
          0.566732,
          0.881731,
          0.091239,
          0.516515,
          0.283362,
          0.322272,
          0.380248,
          0.014066,
          0.03645,
          0.700239,
          0.682697,
          0.052409,
          0.128425,
          0.472998,
          0.03772,
          0.175034,
          0.045775,
          0.783843,
          0.171229,
          0.088551,
          0.111182,
          0.572131,
          0.4178,
          0.368344,
          0.088497,
          0.854594,
          0.037497,
          0.21544,
          0.654331,
          0.781404,
          0.336224,
          0.139975,
          0.291518,
          0.684694,
          0.376147,
          0.568051,
          0.202475,
          0.221162,
          0.422356,
          0.440815,
          0.406897,
          0.047153,
          0.222717,
          0.58882,
          0.467366,
          0.228965,
          0.519493,
          0.358815,
          0.874265,
          0.068729,
          0.142416,
          0.07836,
          0.687458,
          0.121988,
          0.33542,
          0.026257,
          0.609781,
          0.332071,
          0.699914,
          0.497314,
          0.527033,
          0.494412,
          0.389767,
          0.09863,
          0.640079,
          0.584145,
          0.091916,
          0.090107,
          0.441799,
          0.42101,
          0.405307,
          0.569514,
          0.46356,
          0.205563,
          0.085257,
          0.137993,
          0.344083,
          0.435884,
          0.450535,
          0.406293,
          0.618195,
          0.005802,
          0.542784,
          0.120537,
          0.236794,
          0.358732,
          0.017927,
          0.628739,
          0.322519,
          0.019929,
          0.313324,
          0.528416,
          0.289788,
          0.377011,
          0.227201,
          0.100131,
          0.139499,
          0.203125,
          0.782804,
          0.826626,
          0.860277,
          0.656707,
          0.068637,
          0.802948,
          0.085192,
          0.059893,
          0.917219,
          0.156178,
          0.351951,
          0.272479,
          0.03773,
          0.190692,
          0.123849,
          0.226254,
          0.335225,
          0.282236,
          0.570223,
          0.764192,
          0.009143,
          0.128756,
          0.574619,
          0.079909,
          0.286409,
          0.206734,
          0.218996,
          0.379696,
          0.427843,
          0.1942,
          0.371599,
          0.350813,
          0.339841,
          0.164344,
          0.438436,
          0.009277,
          0.252022,
          0.284625,
          0.124166,
          0.029757,
          0.16809,
          0.380214,
          0.488517,
          0.608873,
          0.673173,
          0.178483,
          0.510518,
          0.857438,
          0.417837,
          0.160349,
          0.15802,
          0.235444,
          0.344308,
          0.201856,
          0.14486,
          0.718819,
          0.449026,
          0.149182,
          0.138903,
          0.209917,
          0.000751,
          0.526829,
          0.143368,
          0.374781,
          0.035147,
          0.135047,
          0.312626,
          0.180546,
          0.380406,
          0.232172,
          0.250682,
          0.312058,
          0.133594,
          0.116999,
          0.466798,
          0.049095,
          0.804836,
          0.597731,
          0.299414,
          0.324958,
          0.32889,
          0.127959,
          0.490517,
          0.532684,
          0.3155,
          0.297134,
          0.366208,
          0.13785,
          0.269232,
          0.251131,
          0.054711,
          0.345991,
          0.830799,
          0.25797,
          0.236877,
          0.377611,
          0.255889,
          0.433309,
          0.373074,
          0.185684,
          0.396847,
          0.146855,
          0.147677,
          0.249993,
          0.383105,
          0.415267,
          0.764149,
          0.228123,
          0.109772,
          0.126057,
          0.641405,
          0.06115,
          0.212709,
          0.046459,
          0.425556,
          0.485894,
          0.422776,
          0.491719,
          0.219473,
          0.099832,
          0.267904,
          0.015777,
          0.151459,
          0.355096,
          0.511738,
          0.223443,
          0.283131,
          0.04416,
          0.142425,
          0.609262
         ],
         "yaxis": "y"
        }
       ],
       "layout": {
        "height": 460,
        "legend": {
         "title": {
          "text": "label"
         },
         "tracegroupgap": 0
        },
        "margin": {
         "t": 60
        },
        "template": {
         "data": {
          "bar": [
           {
            "error_x": {
             "color": "#2a3f5f"
            },
            "error_y": {
             "color": "#2a3f5f"
            },
            "marker": {
             "line": {
              "color": "#E5ECF6",
              "width": 0.5
             },
             "pattern": {
              "fillmode": "overlay",
              "size": 10,
              "solidity": 0.2
             }
            },
            "type": "bar"
           }
          ],
          "barpolar": [
           {
            "marker": {
             "line": {
              "color": "#E5ECF6",
              "width": 0.5
             },
             "pattern": {
              "fillmode": "overlay",
              "size": 10,
              "solidity": 0.2
             }
            },
            "type": "barpolar"
           }
          ],
          "carpet": [
           {
            "aaxis": {
             "endlinecolor": "#2a3f5f",
             "gridcolor": "white",
             "linecolor": "white",
             "minorgridcolor": "white",
             "startlinecolor": "#2a3f5f"
            },
            "baxis": {
             "endlinecolor": "#2a3f5f",
             "gridcolor": "white",
             "linecolor": "white",
             "minorgridcolor": "white",
             "startlinecolor": "#2a3f5f"
            },
            "type": "carpet"
           }
          ],
          "choropleth": [
           {
            "colorbar": {
             "outlinewidth": 0,
             "ticks": ""
            },
            "type": "choropleth"
           }
          ],
          "contour": [
           {
            "colorbar": {
             "outlinewidth": 0,
             "ticks": ""
            },
            "colorscale": [
             [
              0,
              "#0d0887"
             ],
             [
              0.1111111111111111,
              "#46039f"
             ],
             [
              0.2222222222222222,
              "#7201a8"
             ],
             [
              0.3333333333333333,
              "#9c179e"
             ],
             [
              0.4444444444444444,
              "#bd3786"
             ],
             [
              0.5555555555555556,
              "#d8576b"
             ],
             [
              0.6666666666666666,
              "#ed7953"
             ],
             [
              0.7777777777777778,
              "#fb9f3a"
             ],
             [
              0.8888888888888888,
              "#fdca26"
             ],
             [
              1,
              "#f0f921"
             ]
            ],
            "type": "contour"
           }
          ],
          "contourcarpet": [
           {
            "colorbar": {
             "outlinewidth": 0,
             "ticks": ""
            },
            "type": "contourcarpet"
           }
          ],
          "heatmap": [
           {
            "colorbar": {
             "outlinewidth": 0,
             "ticks": ""
            },
            "colorscale": [
             [
              0,
              "#0d0887"
             ],
             [
              0.1111111111111111,
              "#46039f"
             ],
             [
              0.2222222222222222,
              "#7201a8"
             ],
             [
              0.3333333333333333,
              "#9c179e"
             ],
             [
              0.4444444444444444,
              "#bd3786"
             ],
             [
              0.5555555555555556,
              "#d8576b"
             ],
             [
              0.6666666666666666,
              "#ed7953"
             ],
             [
              0.7777777777777778,
              "#fb9f3a"
             ],
             [
              0.8888888888888888,
              "#fdca26"
             ],
             [
              1,
              "#f0f921"
             ]
            ],
            "type": "heatmap"
           }
          ],
          "heatmapgl": [
           {
            "colorbar": {
             "outlinewidth": 0,
             "ticks": ""
            },
            "colorscale": [
             [
              0,
              "#0d0887"
             ],
             [
              0.1111111111111111,
              "#46039f"
             ],
             [
              0.2222222222222222,
              "#7201a8"
             ],
             [
              0.3333333333333333,
              "#9c179e"
             ],
             [
              0.4444444444444444,
              "#bd3786"
             ],
             [
              0.5555555555555556,
              "#d8576b"
             ],
             [
              0.6666666666666666,
              "#ed7953"
             ],
             [
              0.7777777777777778,
              "#fb9f3a"
             ],
             [
              0.8888888888888888,
              "#fdca26"
             ],
             [
              1,
              "#f0f921"
             ]
            ],
            "type": "heatmapgl"
           }
          ],
          "histogram": [
           {
            "marker": {
             "pattern": {
              "fillmode": "overlay",
              "size": 10,
              "solidity": 0.2
             }
            },
            "type": "histogram"
           }
          ],
          "histogram2d": [
           {
            "colorbar": {
             "outlinewidth": 0,
             "ticks": ""
            },
            "colorscale": [
             [
              0,
              "#0d0887"
             ],
             [
              0.1111111111111111,
              "#46039f"
             ],
             [
              0.2222222222222222,
              "#7201a8"
             ],
             [
              0.3333333333333333,
              "#9c179e"
             ],
             [
              0.4444444444444444,
              "#bd3786"
             ],
             [
              0.5555555555555556,
              "#d8576b"
             ],
             [
              0.6666666666666666,
              "#ed7953"
             ],
             [
              0.7777777777777778,
              "#fb9f3a"
             ],
             [
              0.8888888888888888,
              "#fdca26"
             ],
             [
              1,
              "#f0f921"
             ]
            ],
            "type": "histogram2d"
           }
          ],
          "histogram2dcontour": [
           {
            "colorbar": {
             "outlinewidth": 0,
             "ticks": ""
            },
            "colorscale": [
             [
              0,
              "#0d0887"
             ],
             [
              0.1111111111111111,
              "#46039f"
             ],
             [
              0.2222222222222222,
              "#7201a8"
             ],
             [
              0.3333333333333333,
              "#9c179e"
             ],
             [
              0.4444444444444444,
              "#bd3786"
             ],
             [
              0.5555555555555556,
              "#d8576b"
             ],
             [
              0.6666666666666666,
              "#ed7953"
             ],
             [
              0.7777777777777778,
              "#fb9f3a"
             ],
             [
              0.8888888888888888,
              "#fdca26"
             ],
             [
              1,
              "#f0f921"
             ]
            ],
            "type": "histogram2dcontour"
           }
          ],
          "mesh3d": [
           {
            "colorbar": {
             "outlinewidth": 0,
             "ticks": ""
            },
            "type": "mesh3d"
           }
          ],
          "parcoords": [
           {
            "line": {
             "colorbar": {
              "outlinewidth": 0,
              "ticks": ""
             }
            },
            "type": "parcoords"
           }
          ],
          "pie": [
           {
            "automargin": true,
            "type": "pie"
           }
          ],
          "scatter": [
           {
            "fillpattern": {
             "fillmode": "overlay",
             "size": 10,
             "solidity": 0.2
            },
            "type": "scatter"
           }
          ],
          "scatter3d": [
           {
            "line": {
             "colorbar": {
              "outlinewidth": 0,
              "ticks": ""
             }
            },
            "marker": {
             "colorbar": {
              "outlinewidth": 0,
              "ticks": ""
             }
            },
            "type": "scatter3d"
           }
          ],
          "scattercarpet": [
           {
            "marker": {
             "colorbar": {
              "outlinewidth": 0,
              "ticks": ""
             }
            },
            "type": "scattercarpet"
           }
          ],
          "scattergeo": [
           {
            "marker": {
             "colorbar": {
              "outlinewidth": 0,
              "ticks": ""
             }
            },
            "type": "scattergeo"
           }
          ],
          "scattergl": [
           {
            "marker": {
             "colorbar": {
              "outlinewidth": 0,
              "ticks": ""
             }
            },
            "type": "scattergl"
           }
          ],
          "scattermapbox": [
           {
            "marker": {
             "colorbar": {
              "outlinewidth": 0,
              "ticks": ""
             }
            },
            "type": "scattermapbox"
           }
          ],
          "scatterpolar": [
           {
            "marker": {
             "colorbar": {
              "outlinewidth": 0,
              "ticks": ""
             }
            },
            "type": "scatterpolar"
           }
          ],
          "scatterpolargl": [
           {
            "marker": {
             "colorbar": {
              "outlinewidth": 0,
              "ticks": ""
             }
            },
            "type": "scatterpolargl"
           }
          ],
          "scatterternary": [
           {
            "marker": {
             "colorbar": {
              "outlinewidth": 0,
              "ticks": ""
             }
            },
            "type": "scatterternary"
           }
          ],
          "surface": [
           {
            "colorbar": {
             "outlinewidth": 0,
             "ticks": ""
            },
            "colorscale": [
             [
              0,
              "#0d0887"
             ],
             [
              0.1111111111111111,
              "#46039f"
             ],
             [
              0.2222222222222222,
              "#7201a8"
             ],
             [
              0.3333333333333333,
              "#9c179e"
             ],
             [
              0.4444444444444444,
              "#bd3786"
             ],
             [
              0.5555555555555556,
              "#d8576b"
             ],
             [
              0.6666666666666666,
              "#ed7953"
             ],
             [
              0.7777777777777778,
              "#fb9f3a"
             ],
             [
              0.8888888888888888,
              "#fdca26"
             ],
             [
              1,
              "#f0f921"
             ]
            ],
            "type": "surface"
           }
          ],
          "table": [
           {
            "cells": {
             "fill": {
              "color": "#EBF0F8"
             },
             "line": {
              "color": "white"
             }
            },
            "header": {
             "fill": {
              "color": "#C8D4E3"
             },
             "line": {
              "color": "white"
             }
            },
            "type": "table"
           }
          ]
         },
         "layout": {
          "annotationdefaults": {
           "arrowcolor": "#2a3f5f",
           "arrowhead": 0,
           "arrowwidth": 1
          },
          "autotypenumbers": "strict",
          "coloraxis": {
           "colorbar": {
            "outlinewidth": 0,
            "ticks": ""
           }
          },
          "colorscale": {
           "diverging": [
            [
             0,
             "#8e0152"
            ],
            [
             0.1,
             "#c51b7d"
            ],
            [
             0.2,
             "#de77ae"
            ],
            [
             0.3,
             "#f1b6da"
            ],
            [
             0.4,
             "#fde0ef"
            ],
            [
             0.5,
             "#f7f7f7"
            ],
            [
             0.6,
             "#e6f5d0"
            ],
            [
             0.7,
             "#b8e186"
            ],
            [
             0.8,
             "#7fbc41"
            ],
            [
             0.9,
             "#4d9221"
            ],
            [
             1,
             "#276419"
            ]
           ],
           "sequential": [
            [
             0,
             "#0d0887"
            ],
            [
             0.1111111111111111,
             "#46039f"
            ],
            [
             0.2222222222222222,
             "#7201a8"
            ],
            [
             0.3333333333333333,
             "#9c179e"
            ],
            [
             0.4444444444444444,
             "#bd3786"
            ],
            [
             0.5555555555555556,
             "#d8576b"
            ],
            [
             0.6666666666666666,
             "#ed7953"
            ],
            [
             0.7777777777777778,
             "#fb9f3a"
            ],
            [
             0.8888888888888888,
             "#fdca26"
            ],
            [
             1,
             "#f0f921"
            ]
           ],
           "sequentialminus": [
            [
             0,
             "#0d0887"
            ],
            [
             0.1111111111111111,
             "#46039f"
            ],
            [
             0.2222222222222222,
             "#7201a8"
            ],
            [
             0.3333333333333333,
             "#9c179e"
            ],
            [
             0.4444444444444444,
             "#bd3786"
            ],
            [
             0.5555555555555556,
             "#d8576b"
            ],
            [
             0.6666666666666666,
             "#ed7953"
            ],
            [
             0.7777777777777778,
             "#fb9f3a"
            ],
            [
             0.8888888888888888,
             "#fdca26"
            ],
            [
             1,
             "#f0f921"
            ]
           ]
          },
          "colorway": [
           "#636efa",
           "#EF553B",
           "#00cc96",
           "#ab63fa",
           "#FFA15A",
           "#19d3f3",
           "#FF6692",
           "#B6E880",
           "#FF97FF",
           "#FECB52"
          ],
          "font": {
           "color": "#2a3f5f"
          },
          "geo": {
           "bgcolor": "white",
           "lakecolor": "white",
           "landcolor": "#E5ECF6",
           "showlakes": true,
           "showland": true,
           "subunitcolor": "white"
          },
          "hoverlabel": {
           "align": "left"
          },
          "hovermode": "closest",
          "mapbox": {
           "style": "light"
          },
          "paper_bgcolor": "white",
          "plot_bgcolor": "#E5ECF6",
          "polar": {
           "angularaxis": {
            "gridcolor": "white",
            "linecolor": "white",
            "ticks": ""
           },
           "bgcolor": "#E5ECF6",
           "radialaxis": {
            "gridcolor": "white",
            "linecolor": "white",
            "ticks": ""
           }
          },
          "scene": {
           "xaxis": {
            "backgroundcolor": "#E5ECF6",
            "gridcolor": "white",
            "gridwidth": 2,
            "linecolor": "white",
            "showbackground": true,
            "ticks": "",
            "zerolinecolor": "white"
           },
           "yaxis": {
            "backgroundcolor": "#E5ECF6",
            "gridcolor": "white",
            "gridwidth": 2,
            "linecolor": "white",
            "showbackground": true,
            "ticks": "",
            "zerolinecolor": "white"
           },
           "zaxis": {
            "backgroundcolor": "#E5ECF6",
            "gridcolor": "white",
            "gridwidth": 2,
            "linecolor": "white",
            "showbackground": true,
            "ticks": "",
            "zerolinecolor": "white"
           }
          },
          "shapedefaults": {
           "line": {
            "color": "#2a3f5f"
           }
          },
          "ternary": {
           "aaxis": {
            "gridcolor": "white",
            "linecolor": "white",
            "ticks": ""
           },
           "baxis": {
            "gridcolor": "white",
            "linecolor": "white",
            "ticks": ""
           },
           "bgcolor": "#E5ECF6",
           "caxis": {
            "gridcolor": "white",
            "linecolor": "white",
            "ticks": ""
           }
          },
          "title": {
           "x": 0.05
          },
          "xaxis": {
           "automargin": true,
           "gridcolor": "white",
           "linecolor": "white",
           "ticks": "",
           "title": {
            "standoff": 15
           },
           "zerolinecolor": "white",
           "zerolinewidth": 2
          },
          "yaxis": {
           "automargin": true,
           "gridcolor": "white",
           "linecolor": "white",
           "ticks": "",
           "title": {
            "standoff": 15
           },
           "zerolinecolor": "white",
           "zerolinewidth": 2
          }
         }
        },
        "width": 500,
        "xaxis": {
         "anchor": "y",
         "domain": [
          0,
          1
         ],
         "title": {
          "text": "x1"
         }
        },
        "yaxis": {
         "anchor": "x",
         "domain": [
          0,
          1
         ],
         "scaleanchor": "x",
         "scaleratio": 1,
         "title": {
          "text": "x2"
         }
        }
       }
      }
     },
     "metadata": {},
     "output_type": "display_data"
    }
   ],
   "source": [
    "filepath = 'D2.txt'\n",
    "data = read_data(filepath)\n",
    "data['label'] = data['y'].astype(str)\n",
    "\n",
    "fig = px.scatter(data, x='x1', y='x2', color='label')\n",
    "fig.update_layout(\n",
    "    width=500,\n",
    "    height=460,\n",
    "    legend_title=\"label\",\n",
    ")\n",
    "\n",
    "fig.update_yaxes(scaleanchor = \"x\", scaleratio = 1)\n",
    "fig.show()"
   ]
  },
  {
   "cell_type": "code",
   "execution_count": 22,
   "metadata": {},
   "outputs": [
    {
     "name": "stdout",
     "output_type": "stream",
     "text": [
      "x2 0.201829 1.0\n",
      "x1 0.409499 0.0\n",
      "x1 0.264185 0.0\n"
     ]
    },
    {
     "name": "stderr",
     "output_type": "stream",
     "text": [
      "C:\\Users\\Zheng\\AppData\\Local\\Temp\\ipykernel_15664\\2709722295.py:25: UserWarning:\n",
      "\n",
      "Matplotlib is currently using module://matplotlib_inline.backend_inline, which is a non-GUI backend, so cannot show the figure.\n",
      "\n"
     ]
    },
    {
     "data": {
      "image/png": "[encoded data removed]",
      "text/plain": [
       "<Figure size 400x400 with 1 Axes>"
      ]
     },
     "metadata": {},
     "output_type": "display_data"
    }
   ],
   "source": [
    "# decision region\n",
    "filepath = 'D1.txt'\n",
    "data = read_data(filepath)\n",
    "\n",
    "tree = get_tree(data)\n",
    "\n",
    "# create fake dataset\n",
    "x1 = np.linspace(0, 1, 100)\n",
    "x2 = np.linspace(0, 1, 100)\n",
    "X1, X2 = np.meshgrid(x1, x2)\n",
    "# one dimension\n",
    "X1 = X1.reshape(-1)\n",
    "X2 = X2.reshape(-1)\n",
    "\n",
    "df_fake = pd.DataFrame({'x1': X1, 'x2': X2})\n",
    "df_fake['y'] = df_fake.apply(lambda x: predict(tree, x), axis=1)\n",
    "\n",
    "# use mapplotlib\n",
    "\n",
    "fig, ax = plt.subplots(figsize=(4, 4))\n",
    "ax.scatter(df_fake['x1'], df_fake['x2'], c=df_fake['y'], cmap='coolwarm')\n",
    "ax.set_xlabel('x1')\n",
    "ax.set_ylabel('x2')\n",
    "fig.show()"
   ]
  },
  {
   "cell_type": "code",
   "execution_count": 25,
   "metadata": {},
   "outputs": [
    {
     "name": "stderr",
     "output_type": "stream",
     "text": [
      "C:\\Users\\Zheng\\AppData\\Local\\Temp\\ipykernel_15664\\4195874023.py:24: UserWarning:\n",
      "\n",
      "Matplotlib is currently using module://matplotlib_inline.backend_inline, which is a non-GUI backend, so cannot show the figure.\n",
      "\n"
     ]
    },
    {
     "data": {
      "image/png": "[encoded data removed]",
      "text/plain": [
       "<Figure size 400x400 with 1 Axes>"
      ]
     },
     "metadata": {},
     "output_type": "display_data"
    }
   ],
   "source": [
    "# decision region\n",
    "filepath = 'D2.txt'\n",
    "data = read_data(filepath)\n",
    "\n",
    "tree = get_tree(data)\n",
    "\n",
    "# create fake dataset\n",
    "x1 = np.linspace(0, 1, 100)\n",
    "x2 = np.linspace(0, 1, 100)\n",
    "X1, X2 = np.meshgrid(x1, x2)\n",
    "# one dimension\n",
    "X1 = X1.reshape(-1)\n",
    "X2 = X2.reshape(-1)\n",
    "\n",
    "df_fake = pd.DataFrame({'x1': X1, 'x2': X2})\n",
    "df_fake['y'] = df_fake.apply(lambda x: predict(tree, x), axis=1)\n",
    "\n",
    "# use mapplotlib\n",
    "\n",
    "fig, ax = plt.subplots(figsize=(4, 4))\n",
    "ax.scatter(df_fake['x1'], df_fake['x2'], c=df_fake['y'], cmap='coolwarm')\n",
    "ax.set_xlabel('x1')\n",
    "ax.set_ylabel('x2')\n",
    "fig.show()"
   ]
  },
  {
   "cell_type": "markdown",
   "metadata": {},
   "source": [
    "## 2.7"
   ]
  },
  {
   "cell_type": "code",
   "execution_count": 33,
   "metadata": {},
   "outputs": [
    {
     "name": "stdout",
     "output_type": "stream",
     "text": [
      "size:  32\n",
      "x1 0.761867 0.1986207444624743\n",
      "x1 0.761867 0.0\n",
      "x1 -0.322932 0.3673212692697695\n",
      "x2 -0.90201 0.6468214774323336\n",
      "x1 0.586925 0.3726071827572396\n",
      "x1 0.713313 1.0\n",
      "x1 0.713313 0\n",
      "x1 0.586925 0\n",
      "x1 0.427363 0.0\n",
      "x1 -0.13738 0.0\n",
      "x1 -0.955301 0.11533532084453821\n",
      "x1 -0.889441 1.0\n",
      "x1 -0.391307 0.0\n",
      "x1 -0.955301 0\n",
      "x1 -1.236163 0.0\n",
      "number of nodes:  7\n",
      "test error:  0.25842696629213485\n"
     ]
    },
    {
     "name": "stderr",
     "output_type": "stream",
     "text": [
      "C:\\Users\\Zheng\\AppData\\Local\\Temp\\ipykernel_15664\\1305235246.py:23: SettingWithCopyWarning:\n",
      "\n",
      "\n",
      "A value is trying to be set on a copy of a slice from a DataFrame.\n",
      "Try using .loc[row_indexer,col_indexer] = value instead\n",
      "\n",
      "See the caveats in the documentation: https://pandas.pydata.org/pandas-docs/stable/user_guide/indexing.html#returning-a-view-versus-a-copy\n",
      "\n",
      "C:\\Users\\Zheng\\AppData\\Local\\Temp\\ipykernel_15664\\1305235246.py:24: SettingWithCopyWarning:\n",
      "\n",
      "\n",
      "A value is trying to be set on a copy of a slice from a DataFrame.\n",
      "Try using .loc[row_indexer,col_indexer] = value instead\n",
      "\n",
      "See the caveats in the documentation: https://pandas.pydata.org/pandas-docs/stable/user_guide/indexing.html#returning-a-view-versus-a-copy\n",
      "\n"
     ]
    },
    {
     "name": "stdout",
     "output_type": "stream",
     "text": [
      "size:  128\n",
      "x2 -0.90201 0.19147938645067986\n",
      "x2 1.188793 0.2126501027517715\n",
      "x1 -0.889441 0.0\n",
      "x1 0.993895 0.2719416699252489\n",
      "x1 1.080747 0.0\n",
      "x1 -1.098436 0.39269792215698307\n",
      "x2 -0.743999 0.25942596335175544\n",
      "x1 -0.955301 0.22508495108352963\n",
      "x1 0.727887 0.20172246192222673\n",
      "x2 0.550313 1.0\n",
      "x1 0.743237 0.0\n",
      "x1 0.765197 0.0\n",
      "x2 -0.663744 0.1831195716725106\n",
      "x1 0.427363 0.0\n",
      "x1 -0.314949 1.0\n",
      "x1 -0.11632 0.0\n",
      "x1 -0.516173 0\n",
      "x1 -1.096325 0.36647633582613776\n",
      "x1 -0.982691 0.2960654354758692\n",
      "x1 -0.974415 0.0\n",
      "x1 -1.050305 0.3836885465963443\n",
      "x2 0.613942 1.0\n",
      "x1 -1.050305 0.0\n",
      "x1 -1.007149 0\n",
      "x1 -1.096325 0\n",
      "x1 -1.098436 0\n",
      "x2 -0.870228 0.573556761014799\n",
      "x1 0.1659 0.14397510467942048\n",
      "x1 0.586925 0.0\n",
      "x1 0.023169 1.0\n",
      "x1 0.023169 0\n",
      "x1 -0.391307 0.0\n",
      "x1 -0.009263 0\n",
      "x1 -1.236163 0.0\n",
      "x1 0.761867 0.0\n",
      "number of nodes:  17\n"
     ]
    },
    {
     "name": "stderr",
     "output_type": "stream",
     "text": [
      "C:\\Users\\Zheng\\AppData\\Local\\Temp\\ipykernel_15664\\1305235246.py:23: SettingWithCopyWarning:\n",
      "\n",
      "\n",
      "A value is trying to be set on a copy of a slice from a DataFrame.\n",
      "Try using .loc[row_indexer,col_indexer] = value instead\n",
      "\n",
      "See the caveats in the documentation: https://pandas.pydata.org/pandas-docs/stable/user_guide/indexing.html#returning-a-view-versus-a-copy\n",
      "\n",
      "C:\\Users\\Zheng\\AppData\\Local\\Temp\\ipykernel_15664\\1305235246.py:24: SettingWithCopyWarning:\n",
      "\n",
      "\n",
      "A value is trying to be set on a copy of a slice from a DataFrame.\n",
      "Try using .loc[row_indexer,col_indexer] = value instead\n",
      "\n",
      "See the caveats in the documentation: https://pandas.pydata.org/pandas-docs/stable/user_guide/indexing.html#returning-a-view-versus-a-copy\n",
      "\n"
     ]
    },
    {
     "name": "stdout",
     "output_type": "stream",
     "text": [
      "test error:  0.09369935170178283\n",
      "size:  512\n",
      "x2 -0.954911 0.21511090516887754\n",
      "x2 1.188793 0.26144476487609425\n",
      "x1 -0.889441 0.0\n",
      "x1 -1.098436 0.30743125583021563\n",
      "x1 0.993895 0.3847118287268699\n",
      "x1 1.074344 0.07405988897949829\n",
      "x1 1.080747 0.0\n",
      "x1 1.067201 1.0\n",
      "x1 1.067201 0\n",
      "x1 0.994501 0.0\n",
      "x2 -0.759475 0.3264101137931119\n",
      "x2 -0.534672 0.17731375941857244\n",
      "x1 -0.96224 0.18199450948356247\n",
      "x2 1.1553 0.16257421947018472\n",
      "x1 0.630494 0.3836885465963443\n",
      "x1 0.825893 1.0\n",
      "x1 0.825893 0\n",
      "x1 0.743237 0.0\n",
      "x1 -0.884501 0\n",
      "x1 0.822298 0.11886855729011081\n",
      "x2 -0.005778 0.7707284963609691\n",
      "x2 1.134316 1.0\n",
      "x1 0.954837 0\n",
      "x1 0.859516 0.0\n",
      "x1 0.900592 0.0\n",
      "x2 -0.438512 0.2106692068062501\n",
      "x1 0.427363 0.0\n",
      "x1 -0.566554 0.633873909227736\n",
      "x1 0.727887 1.0\n",
      "x1 0.727887 0\n",
      "x1 -0.566554 0.0\n",
      "x1 -0.945018 0.0\n",
      "x2 0.344395 0.6036607513802916\n",
      "x2 1.069816 1.0\n",
      "x1 -1.096325 0.0\n",
      "x1 -1.050305 0.0\n",
      "x1 -0.974712 0.0\n",
      "x1 0.54009 0.3778387311866184\n",
      "x1 0.765197 0.0\n",
      "x1 -0.387317 1.0\n",
      "x1 -0.11632 0.0\n",
      "x1 -0.516173 0.0\n",
      "x2 -0.952595 0.4869605556800914\n",
      "x1 0.1659 0.09646088142707669\n",
      "x1 0.586925 0.0\n",
      "x1 -0.047785 1.0\n",
      "x1 -0.009263 0.0\n",
      "x1 -0.391307 0.0\n",
      "x1 0.005267 0\n",
      "x1 -1.236163 0.0\n",
      "x1 0.761867 0.0\n",
      "number of nodes:  25\n"
     ]
    },
    {
     "name": "stderr",
     "output_type": "stream",
     "text": [
      "C:\\Users\\Zheng\\AppData\\Local\\Temp\\ipykernel_15664\\1305235246.py:23: SettingWithCopyWarning:\n",
      "\n",
      "\n",
      "A value is trying to be set on a copy of a slice from a DataFrame.\n",
      "Try using .loc[row_indexer,col_indexer] = value instead\n",
      "\n",
      "See the caveats in the documentation: https://pandas.pydata.org/pandas-docs/stable/user_guide/indexing.html#returning-a-view-versus-a-copy\n",
      "\n",
      "C:\\Users\\Zheng\\AppData\\Local\\Temp\\ipykernel_15664\\1305235246.py:24: SettingWithCopyWarning:\n",
      "\n",
      "\n",
      "A value is trying to be set on a copy of a slice from a DataFrame.\n",
      "Try using .loc[row_indexer,col_indexer] = value instead\n",
      "\n",
      "See the caveats in the documentation: https://pandas.pydata.org/pandas-docs/stable/user_guide/indexing.html#returning-a-view-versus-a-copy\n",
      "\n"
     ]
    },
    {
     "name": "stdout",
     "output_type": "stream",
     "text": [
      "test error:  0.05227655986509275\n",
      "size:  2048\n",
      "x2 -0.926187 0.22815448410864886\n",
      "x1 -1.138432 0.24423166021894283\n",
      "x2 1.225858 0.30338004420330045\n",
      "x1 -0.889441 0.0\n",
      "x1 1.130689 0.36880827938213756\n",
      "x1 1.488094 0.0\n",
      "x2 -0.537276 0.2234397123558485\n",
      "x2 1.212659 0.2535179379157072\n",
      "x2 1.225346 1.0\n",
      "x1 -0.471913 0\n",
      "x1 -0.115414 0.0\n",
      "x1 1.005559 0.2606974576912837\n",
      "x1 1.127628 0.37266940210153954\n",
      "x1 1.1304 0.0\n",
      "x2 0.165721 0.28501348258880904\n",
      "x2 0.786355 0.7667582141228982\n",
      "x1 1.034398 0.22710200883678872\n",
      "x1 1.0909 0.0\n",
      "x1 1.007943 1.0\n",
      "x1 1.007943 0\n",
      "x1 1.007235 0.0\n",
      "x1 1.067201 0.0\n",
      "x1 1.080747 0.0\n",
      "x1 -1.07313 0.2777231598699027\n",
      "x2 1.189333 0.19676614570670514\n",
      "x2 1.205962 0.5032270699161941\n",
      "x1 -0.428311 0.0\n",
      "x2 1.200164 0.18424973081041326\n",
      "x1 0.195564 0.0\n",
      "x1 0.445661 0.4871971762327021\n",
      "x1 0.445661 0\n",
      "x1 -0.257996 0.33155970728682876\n",
      "x1 -0.257996 0.0\n",
      "x1 -0.370965 1.0\n",
      "x1 -0.370965 0\n",
      "x1 -0.853866 0\n",
      "x1 0.987366 0.16533442311436622\n",
      "x2 0.203168 0.4986097093688899\n",
      "x2 1.006018 1.0\n",
      "x1 0.999073 0.0\n",
      "x1 0.990094 0.0\n",
      "x1 0.994501 0.0\n",
      "x1 -0.906589 0.1584531409515706\n",
      "x2 1.188793 0.11828105687946552\n",
      "x1 0.805791 1.0\n",
      "x1 0.805791 0\n",
      "x1 0.53621 0\n",
      "x1 0.772733 0.07832313995379904\n",
      "x2 -0.191773 0.758971811881644\n",
      "x2 1.134316 1.0\n",
      "x1 0.954837 0.0\n",
      "x1 0.859516 0.0\n",
      "x1 0.900592 0.0\n",
      "x1 -0.772609 0.10321284359682036\n",
      "x2 -0.491205 0.0885637702794859\n",
      "x2 1.138147 0.053630468801896945\n",
      "x2 1.139743 0.655178595644626\n",
      "x1 0.27073 0.10370041345170761\n",
      "x1 0.743237 0.0\n",
      "x1 0.122514 1.0\n",
      "x1 0.122514 0\n",
      "x1 -0.464485 0.0\n",
      "x1 0.027813 0\n",
      "x1 0.747956 0.05281857352929242\n",
      "x1 0.751256 1.0\n",
      "x1 0.76782 0.0\n",
      "x1 0.747956 0\n",
      "x1 0.427363 0.0\n",
      "x1 -0.566554 0.6898874770867591\n",
      "x1 0.727887 1.0\n",
      "x1 0.727887 0\n",
      "x1 -0.566554 0.0\n",
      "x1 -0.671466 0.0\n",
      "x2 -0.27973 0.7090861373806628\n",
      "x2 1.1553 0.7639292214511024\n",
      "x1 -0.884501 0.0\n",
      "x2 -0.237029 0.41482617209721845\n",
      "x1 -0.834402 0.0\n",
      "x1 -0.785795 1.0\n",
      "x1 -0.785795 0\n",
      "x1 -0.868732 0\n",
      "x1 -0.820795 0.0\n",
      "x2 -0.035925 0.5714046914220864\n",
      "x2 1.067005 1.0\n",
      "x1 -0.974415 0.0\n",
      "x1 -0.955301 0.0\n",
      "x1 -0.974712 0.0\n",
      "x1 -1.138076 0.4405078756024169\n",
      "x2 0.454496 0.2348901219577576\n",
      "x2 1.020871 1.0\n",
      "x1 -1.096325 0.0\n",
      "x1 -1.098436 0.0\n",
      "x1 -1.074275 0.0\n",
      "x1 -1.138432 0\n",
      "x2 -0.925349 0.24415353747952256\n",
      "x1 0.412036 0.21422989037354784\n",
      "x1 0.586925 0.0\n",
      "x1 -0.422524 0.4949734253774812\n",
      "x2 -0.743999 0.21510245016390347\n",
      "x1 0.361797 0.08933932643219133\n",
      "x1 0.394122 1.0\n",
      "x1 0.403035 0.0\n",
      "x1 0.361797 0\n",
      "x1 -0.368969 0.14386021402249902\n",
      "x1 -0.11632 0.0\n",
      "x1 -0.381669 1.0\n",
      "x1 -0.381669 0\n",
      "x1 -0.387317 0.0\n",
      "x1 -0.196764 0.4408243636275391\n",
      "x1 0.1659 0.7510393665373438\n",
      "x2 -0.810372 0.36185425731195636\n",
      "x1 0.357115 1.0\n",
      "x1 0.357115 0\n",
      "x1 0.214258 0\n",
      "x1 0.1659 0.0\n",
      "x1 -0.009263 0.0\n",
      "x1 -0.391307 0.0\n",
      "x2 -0.599034 0.4237656161145787\n",
      "x1 -0.461223 1.0\n",
      "x1 -0.461223 0\n",
      "x1 -0.727643 0\n",
      "x1 -0.516173 0.0\n",
      "x1 -0.047785 0.0\n",
      "x1 -1.236163 0.0\n",
      "x2 -0.954911 0.03125164621964018\n",
      "x2 -0.954629 1.0\n",
      "x1 1.431521 0.0\n",
      "x1 0.005267 0\n",
      "x1 0.761867 0.0\n",
      "number of nodes:  64\n"
     ]
    },
    {
     "name": "stderr",
     "output_type": "stream",
     "text": [
      "C:\\Users\\Zheng\\AppData\\Local\\Temp\\ipykernel_15664\\1305235246.py:23: SettingWithCopyWarning:\n",
      "\n",
      "\n",
      "A value is trying to be set on a copy of a slice from a DataFrame.\n",
      "Try using .loc[row_indexer,col_indexer] = value instead\n",
      "\n",
      "See the caveats in the documentation: https://pandas.pydata.org/pandas-docs/stable/user_guide/indexing.html#returning-a-view-versus-a-copy\n",
      "\n",
      "C:\\Users\\Zheng\\AppData\\Local\\Temp\\ipykernel_15664\\1305235246.py:24: SettingWithCopyWarning:\n",
      "\n",
      "\n",
      "A value is trying to be set on a copy of a slice from a DataFrame.\n",
      "Try using .loc[row_indexer,col_indexer] = value instead\n",
      "\n",
      "See the caveats in the documentation: https://pandas.pydata.org/pandas-docs/stable/user_guide/indexing.html#returning-a-view-versus-a-copy\n",
      "\n"
     ]
    },
    {
     "name": "stdout",
     "output_type": "stream",
     "text": [
      "test error:  0.032570422535211266\n",
      "size:  8192\n",
      "x2 -0.926187 0.23313221129476921\n",
      "x2 1.232245 0.24798926352515538\n",
      "x1 -0.889441 0.0\n",
      "x1 1.13455 0.30278434121818143\n",
      "x1 1.488094 0.0\n",
      "x1 -1.138432 0.40253260716459627\n",
      "x2 -0.698929 0.2407900669666883\n",
      "x1 1.062135 0.18226509256659626\n",
      "x2 0.165721 0.278192832678174\n",
      "x2 0.786355 0.8257820400782603\n",
      "x1 1.0909 0.0\n",
      "x2 0.280301 0.5586612167084151\n",
      "x1 1.084163 0.0\n",
      "x1 1.105383 1.0\n",
      "x1 1.105383 0.0\n",
      "x1 1.067201 0\n",
      "x1 1.080747 0.0\n",
      "x1 -1.109935 0.19784884476464068\n",
      "x2 1.198584 0.14635183024296539\n",
      "x2 1.23018 0.27702614676517534\n",
      "x1 -0.532228 0.0\n",
      "x1 -0.686706 0.1411974920337029\n",
      "x1 -0.291223 0.3370124949352061\n",
      "x1 0.384608 0.3278374058579211\n",
      "x1 0.661497 1.0\n",
      "x1 0.719802 0.0\n",
      "x1 0.445661 0.0\n",
      "x1 -0.115414 0.0\n",
      "x2 1.227066 1.0\n",
      "x1 -0.670251 0\n",
      "x1 -0.428311 0.0\n",
      "x1 -0.893971 0.0\n",
      "x2 -0.512367 0.15195351203509264\n",
      "x1 -1.073444 0.17126925296384643\n",
      "x1 1.003412 0.14051844774349312\n",
      "x2 0.071049 0.48668408947644426\n",
      "x2 0.991623 0.8135268203524889\n",
      "x1 1.007235 0.0\n",
      "x2 0.964307 0.4007446957635974\n",
      "x1 1.034398 1.0\n",
      "x1 1.034398 0.0\n",
      "x1 1.003712 0.0\n",
      "x1 1.021825 0.0\n",
      "x1 1.011679 0.0\n",
      "x1 -0.908115 0.12284245616048518\n",
      "x1 0.984297 0.11439579824564983\n",
      "x2 -0.00238 0.5114176614496634\n",
      "x2 1.006018 1.0\n",
      "x1 0.999073 0.0\n",
      "x1 0.990094 0.0\n",
      "x1 0.994501 0.0\n",
      "x2 1.155263 0.10670530788455598\n",
      "x1 0.802624 0.3310378977618009\n",
      "x1 0.805791 0.0\n",
      "x1 -0.751347 0.40075077135000936\n",
      "x2 1.156677 0.2889112484048784\n",
      "x1 0.27073 0.20836174510445304\n",
      "x1 0.743237 0.0\n",
      "x1 -0.257996 1.0\n",
      "x1 -0.257996 0.0\n",
      "x1 -0.370965 0.0\n",
      "x1 -0.143302 0\n",
      "x1 -0.884501 0.0\n",
      "x1 0.931043 0.10963520019248196\n",
      "x2 -0.080839 0.6736447881561627\n",
      "x2 1.072739 1.0\n",
      "x1 0.954837 0.0\n",
      "x1 0.971456 0.0\n",
      "x1 0.942968 0.0\n",
      "x2 -0.47113 0.10821573868444559\n",
      "x2 1.150909 0.06231635602804529\n",
      "x2 1.151632 1.0\n",
      "x1 -0.464485 0.0\n",
      "x1 0.122514 0.0\n",
      "x2 -0.277804 0.05785240799166256\n",
      "x2 1.138147 0.06224132404325928\n",
      "x1 -0.783654 0.4470596956788829\n",
      "x1 0.905577 0.5250279113314632\n",
      "x1 0.905577 0\n",
      "x2 1.139743 0.6508342790823989\n",
      "x2 1.145177 0.06986471139104343\n",
      "x1 -0.782952 0.0\n",
      "x2 1.144216 1.0\n",
      "x1 0.022287 0\n",
      "x1 0.620615 0.0\n",
      "x1 0.027813 0\n",
      "x1 -0.861384 0\n",
      "x2 1.063522 0.04957725063260442\n",
      "x1 0.913798 0.4504016460597778\n",
      "x1 0.913798 0.0\n",
      "x2 1.063631 0.48467503746895574\n",
      "x1 -0.891655 0.45310518588676835\n",
      "x2 1.065411 0.11559070527914742\n",
      "x1 0.112165 0.05974300760357208\n",
      "x1 0.777442 0.0\n",
      "x1 -0.068468 0.7306918941116927\n",
      "x1 -0.000528 0.0\n",
      "x1 -0.107753 0.24904593419123255\n",
      "x2 1.115304 1.0\n",
      "x1 -0.096447 0.0\n",
      "x1 -0.098112 0.0\n",
      "x1 -0.500237 0.0\n",
      "x2 1.065078 1.0\n",
      "x1 0.015578 0.0\n",
      "x1 0.776229 0.0\n",
      "x1 -0.898881 0\n",
      "x1 0.009838 0.0\n",
      "x1 0.927203 0.06431010823832221\n",
      "x1 0.927232 1.0\n",
      "x1 0.927963 0.0\n",
      "x1 0.927203 0\n",
      "x1 -0.89909 0.045735357075953165\n",
      "x2 -0.226723 0.037372520789421854\n",
      "x2 1.038738 0.03159151713364958\n",
      "x2 1.038829 0.7019125747411831\n",
      "x1 0.078937 0.03416515145491532\n",
      "x1 0.279999 0.0\n",
      "x1 -0.020666 1.0\n",
      "x1 -0.020666 0\n",
      "x1 -0.179535 0.0\n",
      "x1 0.017623 0\n",
      "x2 -0.20929 0.03147787698730193\n",
      "x1 0.427363 0.0\n",
      "x1 0.894399 1.0\n",
      "x1 0.894399 0\n",
      "x1 0.451752 0.0\n",
      "x1 0.851342 0.731075775861747\n",
      "x1 0.900592 0.0\n",
      "x1 -0.853883 0.7355065409637209\n",
      "x1 -0.820823 0.4242438343077517\n",
      "x1 0.675823 0.0\n",
      "x1 -0.850598 1.0\n",
      "x1 -0.850598 0\n",
      "x1 -0.853883 0\n",
      "x1 -0.868732 0\n",
      "x2 -0.124049 1.0\n",
      "x1 -0.904652 0.0\n",
      "x1 -0.899198 0.0\n",
      "x1 -0.790954 0.5398902306215722\n",
      "x1 0.796035 0.6774249929565777\n",
      "x1 0.822298 0.0\n",
      "x1 -0.774401 0.4172239317860667\n",
      "x1 0.772733 0.434649846405236\n",
      "x1 0.788043 1.0\n",
      "x1 0.788043 0\n",
      "x1 0.784593 0.0\n",
      "x1 -0.687219 0.16814051324342155\n",
      "x1 0.747956 0.2843925598480838\n",
      "x1 0.75497 1.0\n",
      "x1 0.75497 0.0\n",
      "x1 0.747956 0\n",
      "x1 0.41014 0.0\n",
      "x2 -0.403458 0.7003291121079637\n",
      "x2 -0.399112 0.3802179361909291\n",
      "x1 -0.762199 0.0\n",
      "x1 -0.716397 1.0\n",
      "x1 -0.716397 0\n",
      "x1 -0.742087 0\n",
      "x1 -0.738782 0.0\n",
      "x2 -0.294525 1.0\n",
      "x1 -0.785795 0.0\n",
      "x1 -0.780389 0.0\n",
      "x1 -0.820795 0.0\n",
      "x1 -0.621307 0.5186680194110113\n",
      "x1 0.642677 1.0\n",
      "x1 0.783904 0.0\n",
      "x1 0.278946 0.0\n",
      "x1 -0.671466 0.0\n",
      "x2 -0.057106 0.5330318462379056\n",
      "x2 1.067005 0.5985834822305646\n",
      "x1 -0.974415 0.0\n",
      "x2 0.022087 0.3092694753131886\n",
      "x2 1.033295 0.2594085282278664\n",
      "x1 -0.954961 1.0\n",
      "x1 -0.951079 0.0\n",
      "x1 -1.017061 0.0\n",
      "x2 0.071117 0.09903303433069449\n",
      "x2 0.906693 0.0828188934936385\n",
      "x1 -1.045722 0.6354933469895274\n",
      "x1 -0.984162 0.3905517906348064\n",
      "x1 -0.954844 0.0\n",
      "x1 -1.045031 1.0\n",
      "x1 -1.045031 0\n",
      "x1 -1.045722 0\n",
      "x1 -1.060706 0\n",
      "x1 -0.955301 0.0\n",
      "x1 -1.006651 1.0\n",
      "x1 -1.006651 0.0\n",
      "x1 -1.066633 0\n",
      "x1 -0.972512 0.7012799001094965\n",
      "x1 -0.96122 0.0\n",
      "x1 -0.990388 0.21957204317195692\n",
      "x1 -0.990108 1.0\n",
      "x1 -0.98552 0.0\n",
      "x1 -0.990388 0\n",
      "x1 -1.050288 0.0\n",
      "x1 -0.974712 0.0\n",
      "x2 0.289884 0.29913719646396975\n",
      "x2 0.815433 1.0\n",
      "x1 -1.096325 0.0\n",
      "x1 -1.098436 0.0\n",
      "x1 -1.074275 0.0\n",
      "x1 -0.566554 0.3433724381041333\n",
      "x1 0.525414 0.7565186596241932\n",
      "x1 0.563352 0.20397018632984845\n",
      "x1 0.765197 0.0\n",
      "x2 -0.561203 1.0\n",
      "x1 0.548279 0.0\n",
      "x1 0.54009 0.0\n",
      "x1 -0.522247 0.5338439918566736\n",
      "x1 -0.498109 0.23401704844968474\n",
      "x1 -0.43445 0.16595044767290323\n",
      "x1 0.447361 0.08506363070444585\n",
      "x1 0.459565 1.0\n",
      "x1 0.510609 0.0\n",
      "x1 0.447361 0\n",
      "x1 -0.368969 0.0\n",
      "x2 -0.623054 1.0\n",
      "x1 -0.482669 0.0\n",
      "x1 -0.445479 0.0\n",
      "x1 -0.516173 1.0\n",
      "x1 -0.516173 0\n",
      "x1 -0.522247 0\n",
      "x1 -0.561369 1.0\n",
      "x1 -0.552889 0.0\n",
      "x1 -0.566554 0\n",
      "x1 -0.59618 0.0\n",
      "x1 -1.138188 0.3955520142442823\n",
      "x2 0.399687 0.20108786369811496\n",
      "x2 0.796378 0.5627497235987718\n",
      "x1 -1.124055 0.0\n",
      "x1 -1.135581 0.5400729331587271\n",
      "x1 -1.128693 0.3544794366054115\n",
      "x1 -1.127253 0.0\n",
      "x1 -1.135363 1.0\n",
      "x1 -1.135363 0\n",
      "x1 -1.135581 0\n",
      "x1 -1.138029 0\n",
      "x1 -1.114217 0.0\n",
      "x1 -1.138432 0\n",
      "x2 -0.925588 0.2706650715918419\n",
      "x1 0.350018 0.15196932086692244\n",
      "x1 0.586925 0.0\n",
      "x1 -0.196764 0.5072228143216367\n",
      "x1 0.157583 0.26776555773078903\n",
      "x2 -0.781666 0.8439811368340279\n",
      "x1 0.28428 0.0\n",
      "x2 -0.810372 0.17434674435156128\n",
      "x1 0.262805 1.0\n",
      "x1 0.264907 0.0\n",
      "x1 0.214258 0\n",
      "x1 0.1659 0.0\n",
      "x2 -0.908325 0.32431928954270584\n",
      "x1 -0.187196 0.2747988816401327\n",
      "x1 0.128571 0.19514242016475916\n",
      "x1 0.129926 1.0\n",
      "x1 0.138924 0.0\n",
      "x1 0.128571 0\n",
      "x1 -0.009263 0.0\n",
      "x1 -0.190384 1.0\n",
      "x1 -0.190384 0\n",
      "x1 -0.196764 0\n",
      "x1 0.012733 1.0\n",
      "x1 0.012733 0.0\n",
      "x1 -0.10013 0.0\n",
      "x1 -0.331974 0.1663655231590552\n",
      "x2 -0.741079 1.0\n",
      "x1 -0.314949 0.0\n",
      "x1 -0.281821 0.0\n",
      "x1 -0.391307 0.0\n",
      "x1 -0.047785 0.0\n",
      "x1 -1.236163 0.0\n",
      "x2 -0.954911 0.009577528440372886\n",
      "x2 -0.954629 1.0\n",
      "x1 1.431521 0.0\n",
      "x1 0.005267 0\n",
      "x1 0.761867 0.0\n",
      "number of nodes:  138\n",
      "test error:  0.017146017699115043\n"
     ]
    },
    {
     "name": "stderr",
     "output_type": "stream",
     "text": [
      "C:\\Users\\Zheng\\AppData\\Local\\Temp\\ipykernel_15664\\1305235246.py:23: SettingWithCopyWarning:\n",
      "\n",
      "\n",
      "A value is trying to be set on a copy of a slice from a DataFrame.\n",
      "Try using .loc[row_indexer,col_indexer] = value instead\n",
      "\n",
      "See the caveats in the documentation: https://pandas.pydata.org/pandas-docs/stable/user_guide/indexing.html#returning-a-view-versus-a-copy\n",
      "\n",
      "C:\\Users\\Zheng\\AppData\\Local\\Temp\\ipykernel_15664\\1305235246.py:24: SettingWithCopyWarning:\n",
      "\n",
      "\n",
      "A value is trying to be set on a copy of a slice from a DataFrame.\n",
      "Try using .loc[row_indexer,col_indexer] = value instead\n",
      "\n",
      "See the caveats in the documentation: https://pandas.pydata.org/pandas-docs/stable/user_guide/indexing.html#returning-a-view-versus-a-copy\n",
      "\n"
     ]
    },
    {
     "data": {
      "image/png": "[encoded data removed]",
      "text/plain": [
       "<Figure size 400x400 with 1 Axes>"
      ]
     },
     "metadata": {},
     "output_type": "display_data"
    },
    {
     "data": {
      "image/png": "[encoded data removed]",
      "text/plain": [
       "<Figure size 400x400 with 1 Axes>"
      ]
     },
     "metadata": {},
     "output_type": "display_data"
    },
    {
     "data": {
      "image/png": "[encoded data removed]",
      "text/plain": [
       "<Figure size 400x400 with 1 Axes>"
      ]
     },
     "metadata": {},
     "output_type": "display_data"
    },
    {
     "data": {
      "image/png": "[encoded data removed]",
      "text/plain": [
       "<Figure size 400x400 with 1 Axes>"
      ]
     },
     "metadata": {},
     "output_type": "display_data"
    },
    {
     "data": {
      "image/png": "[encoded data removed]",
      "text/plain": [
       "<Figure size 400x400 with 1 Axes>"
      ]
     },
     "metadata": {},
     "output_type": "display_data"
    }
   ],
   "source": [
    "filepath = 'Dbig.txt'\n",
    "data = read_data(filepath)\n",
    "# shuffle the data\n",
    "data = data.sample(frac=1, random_state=666).reset_index(drop=True)\n",
    "\n",
    "sizes = [32, 128, 512, 2048, 8192]\n",
    "nodes = []\n",
    "errs = []\n",
    "\n",
    "for size in sizes:\n",
    "    print(\"size: \", size)\n",
    "    \n",
    "    # split the data into train and test\n",
    "    train = data[:size]\n",
    "    test = data[size:]\n",
    "    \n",
    "    # train\n",
    "    tree = get_tree(train)\n",
    "    \n",
    "    # number of nodes\n",
    "    node = str(tree).count('True')\n",
    "    print(\"number of nodes: \", node)\n",
    "    nodes.append(node)\n",
    "    \n",
    "    # Measure its test set error\n",
    "    test['y_pred'] = test.apply(lambda x: predict(tree, x), axis=1)\n",
    "    test['error'] = (test['y'] != test['y_pred']).astype(int)\n",
    "    test_error = test['error'].sum() / len(test)\n",
    "    \n",
    "    print(\"test error: \", test_error)\n",
    "    errs.append(test_error)\n",
    "\n",
    "    # plot boundary\n",
    "    # create fake dataset\n",
    "    x1_min, x1_max = data['x1'].min(), data['x1'].max()\n",
    "    x2_min, x2_max = data['x2'].min(), data['x2'].max()\n",
    "    x1 = np.linspace(x1_min, x1_max, 100)\n",
    "    x2 = np.linspace(x2_min, x2_max, 100)\n",
    "    X1, X2 = np.meshgrid(x1, x2)\n",
    "    # one dimension\n",
    "    X1 = X1.reshape(-1)\n",
    "    X2 = X2.reshape(-1)\n",
    "\n",
    "    df_fake = pd.DataFrame({'x1': X1, 'x2': X2})\n",
    "    df_fake['y'] = df_fake.apply(lambda x: predict(tree, x), axis=1)\n",
    "\n",
    "    # use mapplotlib\n",
    "\n",
    "    fig, ax = plt.subplots(figsize=(4, 4))\n",
    "    ax.scatter(df_fake['x1'], df_fake['x2'], c=df_fake['y'], cmap='coolwarm')\n",
    "    ax.set_xlabel('x1')\n",
    "    ax.set_ylabel('x2')\n",
    "    ax.set_title(\"size: \" + str(size))\n",
    "    fig.savefig(\"2_7 size_\" + str(size) + \".png\")\n",
    "    \n"
   ]
  },
  {
   "cell_type": "code",
   "execution_count": 35,
   "metadata": {},
   "outputs": [
    {
     "data": {
      "image/png": "[encoded data removed]",
      "text/plain": [
       "<Figure size 400x400 with 1 Axes>"
      ]
     },
     "metadata": {},
     "output_type": "display_data"
    }
   ],
   "source": [
    "# plot\n",
    "fig, ax = plt.subplots(figsize=(4, 4))\n",
    "ax.plot(sizes, errs)\n",
    "ax.set_xlabel('size')\n",
    "ax.set_ylabel('error')\n",
    "fig.savefig(\"2_7 error.png\")"
   ]
  },
  {
   "cell_type": "markdown",
   "metadata": {},
   "source": [
    "# 3"
   ]
  },
  {
   "cell_type": "code",
   "execution_count": 36,
   "metadata": {},
   "outputs": [
    {
     "name": "stdout",
     "output_type": "stream",
     "text": [
      "size:  32\n",
      "number of nodes:  15\n",
      "test error:  0.2404695024077047\n",
      "size:  128\n",
      "number of nodes:  29\n",
      "test error:  0.10139789303079416\n",
      "size:  512\n",
      "number of nodes:  49\n",
      "test error:  0.04426644182124784\n",
      "size:  2048\n",
      "number of nodes:  119\n",
      "test error:  0.03043259557344069\n",
      "size:  8192\n",
      "number of nodes:  229\n",
      "test error:  0.0165929203539823\n"
     ]
    },
    {
     "data": {
      "image/png": "[encoded data removed]",
      "text/plain": [
       "<Figure size 400x400 with 1 Axes>"
      ]
     },
     "metadata": {},
     "output_type": "display_data"
    }
   ],
   "source": [
    "# use sklearn instead\n",
    "from sklearn.tree import DecisionTreeClassifier\n",
    "from sklearn.metrics import accuracy_score\n",
    "\n",
    "filepath = 'Dbig.txt'\n",
    "data = read_data(filepath)\n",
    "# shuffle the data\n",
    "data = data.sample(frac=1, random_state=666).reset_index(drop=True)\n",
    "\n",
    "sizes = [32, 128, 512, 2048, 8192]\n",
    "nodes = []\n",
    "errs = []\n",
    "\n",
    "cls = DecisionTreeClassifier()\n",
    "for size in sizes:\n",
    "    print(\"size: \", size)\n",
    "    \n",
    "    # split the data into train and test\n",
    "    train = data[:size]\n",
    "    test = data[size:]\n",
    "    \n",
    "    # train\n",
    "    cls.fit(train[['x1', 'x2']], train['y'])\n",
    "    \n",
    "    # number of nodes\n",
    "    node = cls.tree_.node_count\n",
    "    print(\"number of nodes: \", node)\n",
    "    nodes.append(node)\n",
    "    \n",
    "    # Measure its test set error\n",
    "    y_pred = cls.predict(test[['x1', 'x2']])\n",
    "    test_error = 1 - accuracy_score(test['y'], y_pred)\n",
    "    print(\"test error: \", test_error)\n",
    "    errs.append(test_error)\n",
    "    \n",
    "# plot error\n",
    "\n",
    "fig, ax = plt.subplots(figsize=(4, 4))\n",
    "ax.plot(sizes, errs)\n",
    "ax.set_xlabel('size')\n",
    "ax.set_ylabel('error')\n",
    "fig.savefig(\"3 error sklearn.png\")"
   ]
  },
  {
   "cell_type": "markdown",
   "metadata": {},
   "source": [
    "# 4"
   ]
  },
  {
   "cell_type": "code",
   "execution_count": 42,
   "metadata": {},
   "outputs": [
    {
     "name": "stdout",
     "output_type": "stream",
     "text": [
      "train error:  6.925258396797834e+141\n",
      "test error:  9.347470975577223e+141\n"
     ]
    }
   ],
   "source": [
    "from scipy.interpolate import lagrange\n",
    "\n",
    "# fix some interval [a, b] \n",
    "a, b = 0, 1\n",
    "\n",
    "# sample n = 100 points x from this interval uniformly\n",
    "np.random.seed(666)\n",
    "n = 100\n",
    "x = np.random.uniform(a, b, n)\n",
    "\n",
    "# setting function y = sin(x)\n",
    "y = np.sin(x)\n",
    "\n",
    "# Build a model f by using Lagrange interpolation\n",
    "poly = lagrange(x, y)\n",
    "\n",
    "# train error\n",
    "y_pred = np.polyval(poly, x)\n",
    "y_error = np.mean((y - y_pred)**2)\n",
    "\n",
    "# generate test data\n",
    "np.random.seed(999)\n",
    "x_test = np.random.uniform(a, b, n)\n",
    "y_test = np.sin(x_test)\n",
    "y_test_pred = np.polyval(poly, x_test)\n",
    "y_test_error = np.mean((y_test - y_test_pred)**2)\n",
    "\n",
    "print(\"train error: \", y_error)\n",
    "print(\"test error: \", y_test_error)"
   ]
  },
  {
   "cell_type": "code",
   "execution_count": 58,
   "metadata": {},
   "outputs": [
    {
     "name": "stdout",
     "output_type": "stream",
     "text": [
      "std:  0.0\n",
      "train error:  7.33963487600969e+141\n",
      "test error:  1.0106740348888275e+142\n",
      "std:  0.05\n",
      "train error:  2.376150744931512e+140\n",
      "test error:  3.181544817136825e+140\n",
      "std:  0.1\n",
      "train error:  2.376150744931512e+140\n",
      "test error:  3.181544817136825e+140\n",
      "std:  0.15000000000000002\n",
      "train error:  2.376150744931512e+140\n",
      "test error:  3.181544817136825e+140\n",
      "std:  0.2\n",
      "train error:  2.376150744931512e+140\n",
      "test error:  3.181544817136825e+140\n",
      "std:  0.25\n",
      "train error:  2.376150744931512e+140\n",
      "test error:  3.181544817136825e+140\n",
      "std:  0.30000000000000004\n",
      "train error:  2.376150744931512e+140\n",
      "test error:  3.181544817136825e+140\n",
      "std:  0.35000000000000003\n",
      "train error:  2.376150744931512e+140\n",
      "test error:  3.181544817136825e+140\n",
      "std:  0.4\n",
      "train error:  2.376150744931512e+140\n",
      "test error:  3.181544817136825e+140\n",
      "std:  0.45\n",
      "train error:  2.376150744931512e+140\n",
      "test error:  3.181544817136825e+140\n",
      "std:  0.5\n",
      "train error:  2.376150744931512e+140\n",
      "test error:  3.181544817136825e+140\n",
      "std:  0.55\n",
      "train error:  2.376150744931512e+140\n",
      "test error:  3.181544817136825e+140\n",
      "std:  0.6000000000000001\n",
      "train error:  2.376150744931512e+140\n",
      "test error:  3.181544817136825e+140\n",
      "std:  0.65\n",
      "train error:  2.376150744931512e+140\n",
      "test error:  3.181544817136825e+140\n",
      "std:  0.7000000000000001\n",
      "train error:  2.376150744931512e+140\n",
      "test error:  3.181544817136825e+140\n",
      "std:  0.75\n",
      "train error:  2.376150744931512e+140\n",
      "test error:  3.181544817136825e+140\n",
      "std:  0.8\n",
      "train error:  2.376150744931512e+140\n",
      "test error:  3.181544817136825e+140\n",
      "std:  0.8500000000000001\n",
      "train error:  2.376150744931512e+140\n",
      "test error:  3.181544817136825e+140\n",
      "std:  0.9\n",
      "train error:  2.376150744931512e+140\n",
      "test error:  3.181544817136825e+140\n",
      "std:  0.9500000000000001\n",
      "train error:  2.376150744931512e+140\n",
      "test error:  3.181544817136825e+140\n"
     ]
    },
    {
     "data": {
      "text/plain": [
       "<matplotlib.legend.Legend at 0x26a6e9b5c10>"
      ]
     },
     "execution_count": 58,
     "metadata": {},
     "output_type": "execute_result"
    },
    {
     "data": {
      "image/png": "[encoded data removed]",
      "text/plain": [
       "<Figure size 400x400 with 1 Axes>"
      ]
     },
     "metadata": {},
     "output_type": "display_data"
    }
   ],
   "source": [
    "# create zero-mean Gaussian noise ϵ\n",
    "np.random.seed(666)\n",
    "n = 100\n",
    "stds = np.arange(0, 1, 0.05)\n",
    "train_errors = []\n",
    "test_errors = []\n",
    "\n",
    "for std in stds:\n",
    "    epsilons = np.random.normal(0, 1, n)\n",
    "\n",
    "    # fix some interval [a, b] \n",
    "    a, b = 0, 1\n",
    "\n",
    "    # sample n = 100 points x from this interval uniformly\n",
    "    np.random.seed(666)\n",
    "    n = 100\n",
    "    x = np.random.uniform(a, b, n)\n",
    "\n",
    "    # setting function y = sin(x)\n",
    "    y = np.sin(x)\n",
    "\n",
    "    # add noise\n",
    "    y = y + epsilons\n",
    "\n",
    "    # Build a model f by using Lagrange interpolation\n",
    "    poly = lagrange(x, y)\n",
    "\n",
    "    # train error\n",
    "    y_pred = np.polyval(poly, x)\n",
    "    y_error = np.mean((y - y_pred)**2)\n",
    "\n",
    "    # generate test data\n",
    "    np.random.seed(999)\n",
    "    x_test = np.random.uniform(a, b, 100)\n",
    "    y_test = np.sin(x_test)\n",
    "    y_test_pred = np.polyval(poly, x_test)\n",
    "    y_test_error = np.mean((y_test - y_test_pred)**2)\n",
    "\n",
    "    print(\"std: \", std)\n",
    "    print(\"train error: \", y_error)\n",
    "    print(\"test error: \", y_test_error)\n",
    "    train_errors.append(y_error)\n",
    "    test_errors.append(y_test_error)\n",
    "    \n",
    "# plot\n",
    "fig, ax = plt.subplots(figsize=(4, 4))\n",
    "ax.plot(stds, train_errors, label='train error')\n",
    "ax.plot(stds, test_errors, label='test error')\n",
    "ax.set_xlabel('std')\n",
    "ax.set_ylabel('error')\n",
    "ax.legend()\n"
   ]
  }
 ],
 "metadata": {
  "kernelspec": {
   "display_name": "base",
   "language": "python",
   "name": "python3"
  },
  "language_info": {
   "codemirror_mode": {
    "name": "ipython",
    "version": 3
   },
   "file_extension": ".py",
   "mimetype": "text/x-python",
   "name": "python",
   "nbconvert_exporter": "python",
   "pygments_lexer": "ipython3",
   "version": "3.8.13"
  },
  "orig_nbformat": 4
 },
 "nbformat": 4,
 "nbformat_minor": 2
}
