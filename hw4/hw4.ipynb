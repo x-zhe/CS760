{
 "cells": [
  {
   "cell_type": "code",
   "execution_count": 2,
   "metadata": {},
   "outputs": [],
   "source": [
    "import numpy as np\n",
    "import pandas as pd\n",
    "from collections import Counter\n",
    "import matplotlib.pyplot as plt\n",
    "import pickle\n",
    "\n",
    "# use pytorch\n",
    "import torch\n",
    "import torch.nn as nn\n",
    "import torch.nn.functional as F\n",
    "import torch.optim as optim"
   ]
  },
  {
   "cell_type": "markdown",
   "metadata": {},
   "source": [
    "# 3.1"
   ]
  },
  {
   "cell_type": "code",
   "execution_count": 15,
   "metadata": {},
   "outputs": [
    {
     "name": "stdout",
     "output_type": "stream",
     "text": [
      "prior probability of e = 0.3333333333333333\n",
      "log prior probability of e = -1.0986122886681098\n",
      "prior probability of j = 0.3333333333333333\n",
      "log prior probability of j = -1.0986122886681098\n",
      "prior probability of s = 0.3333333333333333\n",
      "log prior probability of s = -1.0986122886681098\n"
     ]
    }
   ],
   "source": [
    "# read files 0.txt to 9.txt in each language\n",
    "lang_labels = ['e', 'j', 's']\n",
    "lang_data = {label: {} for label in lang_labels}\n",
    "\n",
    "for lang_label in lang_labels:\n",
    "    for i in range(10):\n",
    "        file_name = 'languageID/' + lang_label + str(i) + '.txt'\n",
    "        with open(file_name, 'r') as f:\n",
    "            text = f.read()\n",
    "            # remove \\n\n",
    "            text = text.replace('\\n', '')\n",
    "            lang_data[lang_label][str(i)] = text\n",
    "            \n",
    "# estimate prior probability\n",
    "prior_prob = {lang_label: (len(lang_data[lang_label]) + 0.5)/ (30 + 0.5 * 3) for lang_label in lang_labels}\n",
    "log_prior_prob = {lang_label: np.log(prior_prob[lang_label]) for lang_label in lang_labels}\n",
    "for lang_label in lang_labels:\n",
    "    print('prior probability of', lang_label, '=', prior_prob[lang_label])\n",
    "    print('log prior probability of', lang_label, '=', log_prior_prob[lang_label])"
   ]
  },
  {
   "cell_type": "markdown",
   "metadata": {},
   "source": [
    "# 3.2"
   ]
  },
  {
   "cell_type": "code",
   "execution_count": 25,
   "metadata": {},
   "outputs": [
    {
     "name": "stdout",
     "output_type": "stream",
     "text": [
      "$$a: 0.060$$\n",
      "$$b: 0.011$$\n",
      "$$c: 0.022$$\n",
      "$$d: 0.022$$\n",
      "$$e: 0.105$$\n",
      "$$f: 0.019$$\n",
      "$$g: 0.017$$\n",
      "$$h: 0.047$$\n",
      "$$i: 0.055$$\n",
      "$$j: 0.001$$\n",
      "$$k: 0.004$$\n",
      "$$l: 0.029$$\n",
      "$$m: 0.021$$\n",
      "$$n: 0.058$$\n",
      "$$o: 0.064$$\n",
      "$$p: 0.017$$\n",
      "$$q: 0.001$$\n",
      "$$r: 0.054$$\n",
      "$$s: 0.066$$\n",
      "$$t: 0.080$$\n",
      "$$u: 0.027$$\n",
      "$$v: 0.009$$\n",
      "$$w: 0.015$$\n",
      "$$x: 0.001$$\n",
      "$$y: 0.014$$\n",
      "$$z: 0.001$$\n",
      "$$ : 0.179$$\n"
     ]
    }
   ],
   "source": [
    "#  estimate the class conditional probability\n",
    "# count the number of each character in each language\n",
    "\n",
    "lang_count_char = {}\n",
    "for lang_label in lang_labels:\n",
    "    text = ''.join(lang_data[lang_label].values())\n",
    "    lang_count_char[lang_label] = dict(Counter(text))\n",
    "    \n",
    "# convert to pandas\n",
    "df_char_count = pd.DataFrame(lang_count_char).fillna(0)\n",
    "\n",
    "# add 0.5 smoothing and calculate the probability\n",
    "df_char_sum = df_char_count.sum(axis=0)\n",
    "df_char_prob = (df_char_count + 0.5) / (df_char_sum + 0.5 * 27)\n",
    "\n",
    "# sort; a-z first then space\n",
    "key = list('abcdefghijklmnopqrstuvwxyz ')\n",
    "df_char_prob = df_char_prob.sort_index(key=lambda x: [key.index(c) for c in x])\n",
    "\n",
    "# print theta\n",
    "theta_e = df_char_prob['e'].to_numpy()\n",
    "# print\n",
    "for i in range(len(key)):\n",
    "    print( r'$$' + key[i] + ': ' + \"{:.3f}\".format(theta_e[i]) + r'$$')\n",
    "\n",
    "# log\n",
    "log_theta_e = np.log(theta_e)"
   ]
  },
  {
   "cell_type": "markdown",
   "metadata": {},
   "source": [
    "# 3.3"
   ]
  },
  {
   "cell_type": "code",
   "execution_count": 26,
   "metadata": {},
   "outputs": [
    {
     "name": "stdout",
     "output_type": "stream",
     "text": [
      "$$a: 0.132$$\n",
      "$$b: 0.011$$\n",
      "$$c: 0.005$$\n",
      "$$d: 0.017$$\n",
      "$$e: 0.060$$\n",
      "$$f: 0.004$$\n",
      "$$g: 0.014$$\n",
      "$$h: 0.032$$\n",
      "$$i: 0.097$$\n",
      "$$j: 0.002$$\n",
      "$$k: 0.057$$\n",
      "$$l: 0.001$$\n",
      "$$m: 0.040$$\n",
      "$$n: 0.057$$\n",
      "$$o: 0.091$$\n",
      "$$p: 0.001$$\n",
      "$$q: 0.000$$\n",
      "$$r: 0.043$$\n",
      "$$s: 0.042$$\n",
      "$$t: 0.057$$\n",
      "$$u: 0.071$$\n",
      "$$v: 0.000$$\n",
      "$$w: 0.020$$\n",
      "$$x: 0.000$$\n",
      "$$y: 0.014$$\n",
      "$$z: 0.008$$\n",
      "$$ : 0.123$$\n",
      "$$a: 0.105$$\n",
      "$$b: 0.008$$\n",
      "$$c: 0.038$$\n",
      "$$d: 0.040$$\n",
      "$$e: 0.114$$\n",
      "$$f: 0.009$$\n",
      "$$g: 0.007$$\n",
      "$$h: 0.005$$\n",
      "$$i: 0.050$$\n",
      "$$j: 0.007$$\n",
      "$$k: 0.000$$\n",
      "$$l: 0.053$$\n",
      "$$m: 0.026$$\n",
      "$$n: 0.054$$\n",
      "$$o: 0.072$$\n",
      "$$p: 0.024$$\n",
      "$$q: 0.008$$\n",
      "$$r: 0.059$$\n",
      "$$s: 0.066$$\n",
      "$$t: 0.036$$\n",
      "$$u: 0.034$$\n",
      "$$v: 0.006$$\n",
      "$$w: 0.000$$\n",
      "$$x: 0.002$$\n",
      "$$y: 0.008$$\n",
      "$$z: 0.003$$\n",
      "$$ : 0.168$$\n"
     ]
    }
   ],
   "source": [
    "# for Japanese and Spanish\n",
    "theta_j = df_char_prob['j'].to_numpy()\n",
    "# print\n",
    "for i in range(len(key)):\n",
    "    print( r'$$' + key[i] + ': ' + \"{:.3f}\".format(theta_j[i]) + r'$$')\n",
    "# log\n",
    "log_theta_j = np.log(theta_j)\n",
    "\n",
    "theta_s = df_char_prob['s'].to_numpy()\n",
    "# print\n",
    "for i in range(len(key)):\n",
    "    print( r'$$' + key[i] + ': ' + \"{:.3f}\".format(theta_s[i]) + r'$$')\n",
    "# log\n",
    "log_theta_s = np.log(theta_s)"
   ]
  },
  {
   "cell_type": "markdown",
   "metadata": {},
   "source": [
    "# 3.4"
   ]
  },
  {
   "cell_type": "code",
   "execution_count": 27,
   "metadata": {},
   "outputs": [
    {
     "name": "stdout",
     "output_type": "stream",
     "text": [
      "$$a: 164$$\n",
      "$$b: 32$$\n",
      "$$c: 53$$\n",
      "$$d: 57$$\n",
      "$$e: 311$$\n",
      "$$f: 55$$\n",
      "$$g: 51$$\n",
      "$$h: 140$$\n",
      "$$i: 140$$\n",
      "$$j: 3$$\n",
      "$$k: 6$$\n",
      "$$l: 85$$\n",
      "$$m: 64$$\n",
      "$$n: 139$$\n",
      "$$o: 182$$\n",
      "$$p: 53$$\n",
      "$$q: 3$$\n",
      "$$r: 141$$\n",
      "$$s: 186$$\n",
      "$$t: 225$$\n",
      "$$u: 65$$\n",
      "$$v: 31$$\n",
      "$$w: 47$$\n",
      "$$x: 4$$\n",
      "$$y: 38$$\n",
      "$$z: 2$$\n",
      "$$ : 498$$\n"
     ]
    }
   ],
   "source": [
    "# read e10\n",
    "with open('languageID/e10.txt', 'r') as f:\n",
    "    text = f.read()\n",
    "    # remove \\n\n",
    "    text = text.replace('\\n', '')\n",
    "    \n",
    "# bag-of-words count vector\n",
    "x = np.zeros(27)\n",
    "for char in text:\n",
    "    if char in key:\n",
    "        x[key.index(char)] += 1\n",
    "        \n",
    "# print\n",
    "for i in range(len(key)):\n",
    "    print( r'$$' + key[i] + ': ' + \"{:.0f}\".format(x[i]) + r'$$')"
   ]
  },
  {
   "cell_type": "markdown",
   "metadata": {},
   "source": [
    "# 3.5"
   ]
  },
  {
   "cell_type": "code",
   "execution_count": 6,
   "metadata": {},
   "outputs": [
    {
     "name": "stdout",
     "output_type": "stream",
     "text": [
      "p(x | y = e) = exp(-7841.773755474775)\n"
     ]
    }
   ],
   "source": [
    "# Compute p(x | y = e)\n",
    "log_p_x_given_e = np.dot(log_theta_e, x)\n",
    "print(f'p(x | y = e) = exp({log_p_x_given_e})')"
   ]
  },
  {
   "cell_type": "code",
   "execution_count": 7,
   "metadata": {},
   "outputs": [
    {
     "name": "stdout",
     "output_type": "stream",
     "text": [
      "p(x | y = j) = exp(-8771.336113825271)\n"
     ]
    }
   ],
   "source": [
    "# Compute p(x | y = j)\n",
    "log_p_x_given_j = np.dot(log_theta_j, x)\n",
    "print(f'p(x | y = j) = exp({log_p_x_given_j})')"
   ]
  },
  {
   "cell_type": "code",
   "execution_count": 8,
   "metadata": {},
   "outputs": [
    {
     "name": "stdout",
     "output_type": "stream",
     "text": [
      "p(x | y = s) = exp(-8467.196476412148)\n"
     ]
    }
   ],
   "source": [
    "# Compute p(x | y = s)\n",
    "log_p_x_given_s = np.dot(log_theta_s, x)\n",
    "print(f'p(x | y = s) = exp({log_p_x_given_s})')"
   ]
  },
  {
   "cell_type": "markdown",
   "metadata": {},
   "source": [
    "# 3.6"
   ]
  },
  {
   "cell_type": "code",
   "execution_count": 9,
   "metadata": {},
   "outputs": [
    {
     "data": {
      "text/plain": [
       "-7842.8723677634425"
      ]
     },
     "execution_count": 9,
     "metadata": {},
     "output_type": "execute_result"
    }
   ],
   "source": [
    "# compute p(x)\n",
    "joints = np.array([log_p_x_given_e + log_prior_prob['e'], log_p_x_given_j + log_prior_prob['j'], log_p_x_given_s + log_prior_prob['s']])\n",
    "m = np.max(joints)\n",
    "# log sum exp; https://gregorygundersen.com/blog/2020/02/09/log-sum-exp/\n",
    "log_p_x = m + np.log(np.sum(np.exp(joints - m)))\n",
    "log_p_x"
   ]
  },
  {
   "cell_type": "code",
   "execution_count": 10,
   "metadata": {},
   "outputs": [
    {
     "name": "stdout",
     "output_type": "stream",
     "text": [
      "0.0 -929.5623583504967 -625.422720937373\n"
     ]
    }
   ],
   "source": [
    "# Compute p(y = e | x)\n",
    "log_p_e_given_x = log_p_x_given_e + log_prior_prob['e'] - log_p_x\n",
    "log_p_j_given_x = log_p_x_given_j + log_prior_prob['j'] - log_p_x\n",
    "log_p_s_given_x = log_p_x_given_s + log_prior_prob['s'] - log_p_x\n",
    "print(log_p_e_given_x, log_p_j_given_x, log_p_s_given_x)"
   ]
  },
  {
   "cell_type": "markdown",
   "metadata": {},
   "source": [
    "# 3.7"
   ]
  },
  {
   "cell_type": "code",
   "execution_count": 13,
   "metadata": {},
   "outputs": [],
   "source": [
    "labels = ['e', 'j', 's']\n",
    "\n",
    "# wrap up into a function\n",
    "def read_file(filename):\n",
    "    with open(f'languageID/{filename}.txt', 'r') as f:\n",
    "        text = f.read()\n",
    "        # remove \\n\n",
    "        text = text.replace('\\n', '')\n",
    "    return text\n",
    "\n",
    "def naive_bayes(text):\n",
    "    # bag-of-words count vector\n",
    "    x = np.zeros(27)\n",
    "    for char in text:\n",
    "        if char in key:\n",
    "            x[key.index(char)] += 1\n",
    "            \n",
    "   # Compute p(x | y = e)\n",
    "    log_p_x_given_e = np.dot(log_theta_e, x)\n",
    "    log_p_x_given_j = np.dot(log_theta_j, x)\n",
    "    log_p_x_given_s = np.dot(log_theta_s, x)\n",
    "    \n",
    "    # Compute p(y = e | x)\n",
    "    log_p_e_given_x = log_p_x_given_e + log_prior_prob['e']\n",
    "    log_p_j_given_x = log_p_x_given_j + log_prior_prob['j']\n",
    "    log_p_s_given_x = log_p_x_given_s + log_prior_prob['s']\n",
    "    \n",
    "    # get the label\n",
    "    label = labels[np.argmax([log_p_e_given_x, log_p_j_given_x, log_p_s_given_x])]\n",
    "    return label"
   ]
  },
  {
   "cell_type": "code",
   "execution_count": 14,
   "metadata": {},
   "outputs": [
    {
     "data": {
      "text/html": [
       "<div>\n",
       "<style scoped>\n",
       "    .dataframe tbody tr th:only-of-type {\n",
       "        vertical-align: middle;\n",
       "    }\n",
       "\n",
       "    .dataframe tbody tr th {\n",
       "        vertical-align: top;\n",
       "    }\n",
       "\n",
       "    .dataframe thead th {\n",
       "        text-align: right;\n",
       "    }\n",
       "</style>\n",
       "<table border=\"1\" class=\"dataframe\">\n",
       "  <thead>\n",
       "    <tr style=\"text-align: right;\">\n",
       "      <th></th>\n",
       "      <th>e</th>\n",
       "      <th>j</th>\n",
       "      <th>s</th>\n",
       "    </tr>\n",
       "  </thead>\n",
       "  <tbody>\n",
       "    <tr>\n",
       "      <th>e</th>\n",
       "      <td>10.0</td>\n",
       "      <td>0.0</td>\n",
       "      <td>0.0</td>\n",
       "    </tr>\n",
       "    <tr>\n",
       "      <th>j</th>\n",
       "      <td>0.0</td>\n",
       "      <td>10.0</td>\n",
       "      <td>0.0</td>\n",
       "    </tr>\n",
       "    <tr>\n",
       "      <th>s</th>\n",
       "      <td>0.0</td>\n",
       "      <td>0.0</td>\n",
       "      <td>10.0</td>\n",
       "    </tr>\n",
       "  </tbody>\n",
       "</table>\n",
       "</div>"
      ],
      "text/plain": [
       "      e     j     s\n",
       "e  10.0   0.0   0.0\n",
       "j   0.0  10.0   0.0\n",
       "s   0.0   0.0  10.0"
      ]
     },
     "execution_count": 14,
     "metadata": {},
     "output_type": "execute_result"
    }
   ],
   "source": [
    "# start testing\n",
    "nums = [10, 11, 12, 13, 14, 15, 16, 17, 18, 19]\n",
    "confusion_matrix = pd.DataFrame(np.zeros((3, 3)), index=labels, columns=labels)\n",
    "for label in labels:\n",
    "    for num in nums:\n",
    "        text = read_file(label + str(num))\n",
    "        pred = naive_bayes(text)\n",
    "        # index: pred, column: true label\n",
    "        confusion_matrix.loc[pred, label] += 1\n",
    "        \n",
    "confusion_matrix"
   ]
  },
  {
   "cell_type": "markdown",
   "metadata": {},
   "source": [
    "# 3.8"
   ]
  },
  {
   "cell_type": "code",
   "execution_count": 15,
   "metadata": {},
   "outputs": [
    {
     "data": {
      "text/html": [
       "<div>\n",
       "<style scoped>\n",
       "    .dataframe tbody tr th:only-of-type {\n",
       "        vertical-align: middle;\n",
       "    }\n",
       "\n",
       "    .dataframe tbody tr th {\n",
       "        vertical-align: top;\n",
       "    }\n",
       "\n",
       "    .dataframe thead th {\n",
       "        text-align: right;\n",
       "    }\n",
       "</style>\n",
       "<table border=\"1\" class=\"dataframe\">\n",
       "  <thead>\n",
       "    <tr style=\"text-align: right;\">\n",
       "      <th></th>\n",
       "      <th>e</th>\n",
       "      <th>j</th>\n",
       "      <th>s</th>\n",
       "    </tr>\n",
       "  </thead>\n",
       "  <tbody>\n",
       "    <tr>\n",
       "      <th>e</th>\n",
       "      <td>10.0</td>\n",
       "      <td>0.0</td>\n",
       "      <td>0.0</td>\n",
       "    </tr>\n",
       "    <tr>\n",
       "      <th>j</th>\n",
       "      <td>0.0</td>\n",
       "      <td>10.0</td>\n",
       "      <td>0.0</td>\n",
       "    </tr>\n",
       "    <tr>\n",
       "      <th>s</th>\n",
       "      <td>0.0</td>\n",
       "      <td>0.0</td>\n",
       "      <td>10.0</td>\n",
       "    </tr>\n",
       "  </tbody>\n",
       "</table>\n",
       "</div>"
      ],
      "text/plain": [
       "      e     j     s\n",
       "e  10.0   0.0   0.0\n",
       "j   0.0  10.0   0.0\n",
       "s   0.0   0.0  10.0"
      ]
     },
     "execution_count": 15,
     "metadata": {},
     "output_type": "execute_result"
    }
   ],
   "source": [
    "# start testing\n",
    "nums = [10, 11, 12, 13, 14, 15, 16, 17, 18, 19]\n",
    "confusion_matrix = pd.DataFrame(np.zeros((3, 3)), index=labels, columns=labels)\n",
    "for label in labels:\n",
    "    for num in nums:\n",
    "        text = read_file(label + str(num))\n",
    "        # random shuffle\n",
    "        text = ''.join(np.random.permutation(list(text)))\n",
    "        pred = naive_bayes(text)\n",
    "        # index: pred, column: true label\n",
    "        confusion_matrix.loc[pred, label] += 1\n",
    "        \n",
    "confusion_matrix"
   ]
  },
  {
   "cell_type": "markdown",
   "metadata": {},
   "source": [
    "# 4.1"
   ]
  },
  {
   "cell_type": "code",
   "execution_count": 3,
   "metadata": {},
   "outputs": [],
   "source": [
    "# activation function\n",
    "def sigmoid(x):\n",
    "    # Clip values for stability\n",
    "    x = np.clip(x, -500, 500)\n",
    "    return 1 / (1 + np.exp(-x))\n",
    "\n",
    "def softmax(x):\n",
    "    # subtract max to prevent overflow\n",
    "    x = x - np.max(x)\n",
    "    return np.exp(x) / np.sum(np.exp(x), axis=0)\n",
    "\n",
    "\n",
    "# forward propagation\n",
    "def forward_propagation(x, w1, w2):\n",
    "    z1 = np.dot(w1, x)  # first layer output before activation\n",
    "    a1 = sigmoid(z1)  # second layer input\n",
    "    z2 = np.dot(w2, a1)  # second layer output before activation\n",
    "    y_hat = softmax(z2)  # output\n",
    "    return z1, a1, z2, y_hat\n",
    "\n",
    "\n",
    "# cross entropy loss\n",
    "def cross_entropy_loss(y_one_hot, y_hat):\n",
    "    epsilon = 1e-15 # Avoid log(0)\n",
    "    y_hat_clipped = np.clip(\n",
    "        y_hat, epsilon, 1 - epsilon\n",
    "    )  # Ensure values are within [epsilon, 1-epsilon]\n",
    "    return -np.sum(y_one_hot * np.log(y_hat_clipped)) / y_one_hot.shape[1]\n",
    "\n",
    "\n",
    "# one-hot encoding; y: (n, ), y_one_hot: (k, n)\n",
    "def one_hot_encoding(y, k):\n",
    "    y_one_hot = np.zeros((k, y.shape[0]))\n",
    "    for i in range(y.shape[0]):\n",
    "        y_one_hot[y[i], i] = 1\n",
    "    return y_one_hot\n",
    "\n",
    "# get error\n",
    "def get_error(y_hat, y):\n",
    "    y_pred = np.argmax(y_hat, axis=0)\n",
    "    return np.mean(y_pred != y)\n",
    "\n",
    "# back propagation\n",
    "def back_propagation(x, y_one_hot, y_hat, a1, w2):\n",
    "    grad_w2 = np.dot((y_hat - y_one_hot), a1.T)\n",
    "    grad_w1 = np.dot(np.dot(w2.T, (y_hat - y_one_hot)) * a1 * (1 - a1), x.T)\n",
    "    \n",
    "    # clip gradient\n",
    "    grad_w2 = np.clip(grad_w2, -500, 500)\n",
    "    grad_w1 = np.clip(grad_w1, -500, 500)\n",
    "    \n",
    "    return grad_w1, grad_w2"
   ]
  },
  {
   "cell_type": "code",
   "execution_count": 4,
   "metadata": {},
   "outputs": [],
   "source": [
    "# different weight initialization\n",
    "def initialize_weights(d, d1, k, method='zeros'):\n",
    "    np.random.seed(0)\n",
    "    \n",
    "    if method == 'zeros':\n",
    "        w1 = np.zeros((d1, d))\n",
    "        w2 = np.zeros((k, d1))\n",
    "    elif method == 'random':\n",
    "        w1 = np.random.uniform(-1, 1, (d1, d))\n",
    "        w2 = np.random.uniform(-1, 1, (k, d1))\n",
    "        \n",
    "    return w1, w2"
   ]
  },
  {
   "cell_type": "code",
   "execution_count": 8,
   "metadata": {},
   "outputs": [],
   "source": [
    "def load_data(example_size=60000, weight_init='zeros'):\n",
    "\n",
    "    # read dataset\n",
    "    df_train = pd.read_csv(\"mnist/mnist_train.csv\").sample(example_size, random_state=666)\n",
    "    df_test = pd.read_csv(\"mnist/mnist_test.csv\")\n",
    "\n",
    "    # build neural network\n",
    "    d = df_train.shape[1] - 1\n",
    "    d1 = 300  # number of neurons in the hidden layer\n",
    "    k = df_train[\"label\"].nunique()  # number of output classes\n",
    "\n",
    "    # initalize weight\n",
    "    w1, w2 = initialize_weights(d, d1, k, weight_init)\n",
    "\n",
    "    # input\n",
    "    x = df_train.iloc[:, 1:].to_numpy().reshape(-1, d).T\n",
    "    # normalize\n",
    "    x = x / 255\n",
    "\n",
    "    # output\n",
    "    y = df_train.iloc[:, 0].to_numpy()\n",
    "    y_one_hot = one_hot_encoding(y, k)\n",
    "\n",
    "    # test input\n",
    "    x_test = df_test.iloc[:, 1:].to_numpy().reshape(-1, d).T\n",
    "    # normalize\n",
    "    x_test = x_test / 255\n",
    "\n",
    "    # test output\n",
    "    y_test = df_test.iloc[:, 0].to_numpy()\n",
    "    y_test_one_hot = one_hot_encoding(y_test, k)\n",
    "    \n",
    "    return x, y, y_one_hot, x_test, y_test, y_test_one_hot, w1, w2, k"
   ]
  },
  {
   "cell_type": "code",
   "execution_count": 11,
   "metadata": {},
   "outputs": [
    {
     "name": "stdout",
     "output_type": "stream",
     "text": [
      "example size = 10000\n",
      "iter 0: train loss = 9.129155916979657, test loss = 9.092805593416369, train error=0.8775, test error = 0.8776\n",
      "iter 100: train loss = 0.6753691139457447, test loss = 0.7546581847258292, train error=0.1795, test error = 0.1874\n",
      "iter 200: train loss = 0.26856728247301587, test loss = 0.4067894743201842, train error=0.0847, test error = 0.1164\n",
      "iter 300: train loss = 0.16767224992776975, test loss = 0.3296197372764015, train error=0.0469, test error = 0.0998\n",
      "iter 400: train loss = 0.13080094347457777, test loss = 0.309738884894878, train error=0.033, test error = 0.0935\n",
      "iter 500: train loss = 0.10548554498531787, test loss = 0.29672453939554333, train error=0.0251, test error = 0.0894\n",
      "iter 600: train loss = 0.08682776851724829, test loss = 0.28747319831052826, train error=0.0183, test error = 0.0864\n",
      "iter 700: train loss = 0.07253033015150295, test loss = 0.2805092357770613, train error=0.0144, test error = 0.0841\n",
      "iter 800: train loss = 0.061334482945902824, test loss = 0.2750629455114032, train error=0.0104, test error = 0.0817\n",
      "iter 900: train loss = 0.052460489910175725, test loss = 0.2707019043018277, train error=0.0071, test error = 0.0795\n",
      "example size = 20000\n",
      "iter 0: train loss = 9.07019673519144, test loss = 9.092805593416369, train error=0.8747, test error = 0.8776\n",
      "iter 100: train loss = 0.5174585925947033, test loss = 0.5430389513529286, train error=0.1318, test error = 0.1381\n",
      "iter 200: train loss = 0.2002444569238619, test loss = 0.26914870705820276, train error=0.0597, test error = 0.0759\n",
      "iter 300: train loss = 0.14790225129302267, test loss = 0.23987799119914144, train error=0.04425, test error = 0.0685\n",
      "iter 400: train loss = 0.11494246237481182, test loss = 0.22375112099610778, train error=0.03305, test error = 0.0655\n",
      "iter 500: train loss = 0.09365200035001237, test loss = 0.2137636621590662, train error=0.0246, test error = 0.0623\n",
      "iter 600: train loss = 0.07787106792433467, test loss = 0.20659305371439105, train error=0.01915, test error = 0.0594\n",
      "iter 700: train loss = 0.0656787487707883, test loss = 0.20115917534120337, train error=0.0143, test error = 0.0576\n",
      "iter 800: train loss = 0.05602895013854138, test loss = 0.19691479864799313, train error=0.0106, test error = 0.0561\n",
      "iter 900: train loss = 0.048266474415465825, test loss = 0.19354279106950897, train error=0.00775, test error = 0.0549\n",
      "example size = 30000\n",
      "iter 0: train loss = 9.08346335879799, test loss = 9.092805593416369, train error=0.8768333333333334, test error = 0.8776\n",
      "iter 100: train loss = 0.4878001121032856, test loss = 0.5141615421442033, train error=0.12433333333333334, test error = 0.1223\n",
      "iter 200: train loss = 0.2587139167715748, test loss = 0.30701672342517916, train error=0.07433333333333333, test error = 0.0827\n",
      "iter 300: train loss = 0.15254825785970977, test loss = 0.22303705859270304, train error=0.04636666666666667, test error = 0.0619\n",
      "iter 400: train loss = 0.10329032613229777, test loss = 0.1872817234569958, train error=0.03133333333333333, test error = 0.0543\n",
      "iter 500: train loss = 0.08282997886496526, test loss = 0.17623197169084115, train error=0.024, test error = 0.0517\n",
      "iter 600: train loss = 0.06935839852054988, test loss = 0.17022490985689337, train error=0.019966666666666667, test error = 0.0487\n",
      "iter 700: train loss = 0.0579630210621346, test loss = 0.16485917278862927, train error=0.014933333333333333, test error = 0.0477\n",
      "iter 800: train loss = 0.04957185941714001, test loss = 0.16140804819432678, train error=0.010933333333333333, test error = 0.0468\n",
      "iter 900: train loss = 0.042825716673013776, test loss = 0.15878896103721546, train error=0.0083, test error = 0.0462\n",
      "example size = 40000\n",
      "iter 0: train loss = 9.085855530512061, test loss = 9.092805593416369, train error=0.87795, test error = 0.8776\n",
      "iter 100: train loss = 0.4288401541260997, test loss = 0.44501934323949727, train error=0.10835, test error = 0.11\n",
      "iter 200: train loss = 0.2650157816756527, test loss = 0.3017889272398218, train error=0.073175, test error = 0.0803\n",
      "iter 300: train loss = 0.16340277996265015, test loss = 0.21969629267078009, train error=0.04775, test error = 0.0598\n",
      "iter 400: train loss = 0.1334576629716007, test loss = 0.20017335456483504, train error=0.0416, test error = 0.0565\n",
      "iter 500: train loss = 0.07625942237511699, test loss = 0.1509087989629406, train error=0.022275, test error = 0.0422\n",
      "iter 600: train loss = 0.12918763352735416, test loss = 0.21459778055829143, train error=0.043875, test error = 0.0636\n",
      "iter 700: train loss = 0.05392700644450829, test loss = 0.14011357199097277, train error=0.014075, test error = 0.0411\n",
      "iter 800: train loss = 0.04641753646295404, test loss = 0.1369987445381434, train error=0.010825, test error = 0.0402\n",
      "iter 900: train loss = 0.04039676136984967, test loss = 0.13463411482552212, train error=0.007975, test error = 0.0391\n",
      "example size = 50000\n",
      "iter 0: train loss = 9.103320567774242, test loss = 9.092805593416369, train error=0.87986, test error = 0.8776\n",
      "iter 100: train loss = 0.4115657174922755, test loss = 0.42008169613566027, train error=0.1069, test error = 0.1071\n",
      "iter 200: train loss = 0.23956946860517472, test loss = 0.27228266379507277, train error=0.06738, test error = 0.0759\n",
      "iter 300: train loss = 0.18952299254248706, test loss = 0.2361240166933471, train error=0.05642, test error = 0.0679\n",
      "iter 400: train loss = 0.12561024059005405, test loss = 0.17963111811307816, train error=0.03916, test error = 0.0515\n",
      "iter 500: train loss = 0.11338094359104925, test loss = 0.17649397192189575, train error=0.03438, test error = 0.0495\n",
      "iter 600: train loss = 0.06125793930323209, test loss = 0.12750315508290994, train error=0.0175, test error = 0.0369\n",
      "iter 700: train loss = 0.052338788884746745, test loss = 0.12383815334104613, train error=0.01408, test error = 0.0356\n",
      "iter 800: train loss = 0.045355786241723636, test loss = 0.12112828947386597, train error=0.01112, test error = 0.0351\n",
      "iter 900: train loss = 0.03965812902399815, test loss = 0.1191221148673741, train error=0.00874, test error = 0.0341\n",
      "example size = 60000\n",
      "iter 0: train loss = 9.094962022751874, test loss = 9.092805593416369, train error=0.8795833333333334, test error = 0.8776\n",
      "iter 100: train loss = 0.3749610540921165, test loss = 0.38196096001565577, train error=0.09543333333333333, test error = 0.0988\n",
      "iter 200: train loss = 0.23551572850258862, test loss = 0.26524532805314094, train error=0.06521666666666667, test error = 0.0734\n",
      "iter 300: train loss = 0.16131698340593015, test loss = 0.2028627280993315, train error=0.0472, test error = 0.0546\n",
      "iter 400: train loss = 0.13438402983866085, test loss = 0.18771787778800084, train error=0.040383333333333334, test error = 0.0528\n",
      "iter 500: train loss = 0.10045551103320628, test loss = 0.15568652007873227, train error=0.03015, test error = 0.0458\n",
      "iter 600: train loss = 0.05809490114814905, test loss = 0.11602834636066942, train error=0.016416666666666666, test error = 0.0347\n",
      "iter 700: train loss = 0.049546997432506, test loss = 0.11194914490753616, train error=0.013783333333333333, test error = 0.033\n",
      "iter 800: train loss = 0.042658982902970176, test loss = 0.10938099240940162, train error=0.011033333333333332, test error = 0.0327\n",
      "iter 900: train loss = 0.037327401959357194, test loss = 0.10751128369615147, train error=0.008766666666666667, test error = 0.0323\n"
     ]
    }
   ],
   "source": [
    "learning_rate = 1e-4\n",
    "max_iter = 1000\n",
    "\n",
    "loss_dict = {}\n",
    "\n",
    "# for plot learning curve\n",
    "for example_size in np.arange(1, 7, 1) * 10000:\n",
    "    print(f'example size = {example_size}')\n",
    "    \n",
    "    train_losses = []\n",
    "    test_losses = []\n",
    "    train_errors = []\n",
    "    test_errors = []\n",
    "\n",
    "    # random initialization\n",
    "    x, y, y_one_hot, x_test, y_test, y_test_one_hot, w1, w2, k = load_data(example_size = example_size, weight_init='random')\n",
    "\n",
    "    for iter in range(max_iter):\n",
    "        # (100, 60000) (100, 60000) (10, 60000) (10, 60000)\n",
    "        z1, a1, z2, y_hat = forward_propagation(x, w1, w2)\n",
    "        \n",
    "        # compute cross entropy loss\n",
    "        loss = cross_entropy_loss(y_one_hot, y_hat)\n",
    "        train_error = get_error(y_hat, y)\n",
    "        # evaluate on test set\n",
    "        _, _, _, y_hat_test = forward_propagation(x_test, w1, w2)\n",
    "        test_loss = cross_entropy_loss(y_test_one_hot, y_hat_test)\n",
    "        test_error = get_error(y_hat_test, y_test)\n",
    "        train_losses.append(loss)\n",
    "        test_losses.append(test_loss)\n",
    "        train_errors.append(train_error)\n",
    "        test_errors.append(test_error)\n",
    "        \n",
    "        if iter % 100 == 0:\n",
    "            print(f'iter {iter}: train loss = {loss}, test loss = {test_loss}, train error={train_error}, test error = {test_error}')\n",
    "\n",
    "        # compute gradient\n",
    "        grad_w1, grad_w2 = back_propagation(x, y_one_hot, y_hat, a1, w2)\n",
    "        \n",
    "        # update weights\n",
    "        w2 -= learning_rate * grad_w2\n",
    "        w1 -= learning_rate * grad_w1\n",
    "        \n",
    "    # update loss dict\n",
    "    loss_dict[example_size] = {'train_loss': train_losses, 'test_loss': test_losses, 'train_error': train_errors, 'test_error': test_errors}"
   ]
  },
  {
   "cell_type": "code",
   "execution_count": 29,
   "metadata": {},
   "outputs": [],
   "source": [
    "# save loss dict\n",
    "with open('numpy_loss_dict.pkl', 'wb') as f:\n",
    "    pickle.dump(loss_dict, f)"
   ]
  },
  {
   "cell_type": "code",
   "execution_count": 26,
   "metadata": {},
   "outputs": [],
   "source": [
    "with open('numpy_loss_dict.pkl', 'rb') as f:\n",
    "    loss_dict = pickle.load(f)"
   ]
  },
  {
   "cell_type": "code",
   "execution_count": 28,
   "metadata": {},
   "outputs": [
    {
     "data": {
      "text/plain": [
       "<matplotlib.legend.Legend at 0x19c07819310>"
      ]
     },
     "execution_count": 28,
     "metadata": {},
     "output_type": "execute_result"
    },
    {
     "data": {
      "image/png": "[encoded data removed]",
      "text/plain": [
       "<Figure size 640x480 with 1 Axes>"
      ]
     },
     "metadata": {},
     "output_type": "display_data"
    }
   ],
   "source": [
    "# plot loss\n",
    "s = loss_dict[60000]\n",
    "plt.plot(s['test_loss'], label='test loss')\n",
    "plt.legend()"
   ]
  },
  {
   "cell_type": "code",
   "execution_count": 29,
   "metadata": {},
   "outputs": [
    {
     "data": {
      "text/plain": [
       "<matplotlib.legend.Legend at 0x19c07937670>"
      ]
     },
     "execution_count": 29,
     "metadata": {},
     "output_type": "execute_result"
    },
    {
     "data": {
      "image/png": "[encoded data removed]",
      "text/plain": [
       "<Figure size 640x480 with 1 Axes>"
      ]
     },
     "metadata": {},
     "output_type": "display_data"
    }
   ],
   "source": [
    "# plot train & test errors\n",
    "s = loss_dict[60000]\n",
    "plt.plot(s['test_error'], label='test error')\n",
    "plt.legend()"
   ]
  },
  {
   "cell_type": "code",
   "execution_count": 30,
   "metadata": {},
   "outputs": [
    {
     "data": {
      "text/plain": [
       "<matplotlib.legend.Legend at 0x19c0877c160>"
      ]
     },
     "execution_count": 30,
     "metadata": {},
     "output_type": "execute_result"
    },
    {
     "data": {
      "image/png": "[encoded data removed]",
      "text/plain": [
       "<Figure size 640x480 with 1 Axes>"
      ]
     },
     "metadata": {},
     "output_type": "display_data"
    }
   ],
   "source": [
    "# learning curve\n",
    "example_sizes = [10000, 20000, 30000, 40000, 50000, 60000]\n",
    "test_errors = [loss_dict[example_size]['test_error'][-1] for example_size in example_sizes]\n",
    "\n",
    "plt.plot(example_sizes, test_errors, label='test error')\n",
    "plt.legend()\n"
   ]
  },
  {
   "cell_type": "markdown",
   "metadata": {},
   "source": [
    "# 4.2"
   ]
  },
  {
   "cell_type": "code",
   "execution_count": 3,
   "metadata": {},
   "outputs": [
    {
     "data": {
      "text/plain": [
       "'cpu'"
      ]
     },
     "execution_count": 3,
     "metadata": {},
     "output_type": "execute_result"
    }
   ],
   "source": [
    "# Make device agnostic code\n",
    "device = \"cuda\" if torch.cuda.is_available() else \"cpu\"\n",
    "device"
   ]
  },
  {
   "cell_type": "code",
   "execution_count": 4,
   "metadata": {},
   "outputs": [],
   "source": [
    "def load_data_torch(example_size=60000):\n",
    "\n",
    "    df_train = pd.read_csv(\"mnist/mnist_train.csv\").sample(example_size, random_state=666)\n",
    "    df_test = pd.read_csv(\"mnist/mnist_test.csv\")\n",
    "\n",
    "    x_train = torch.Tensor(df_train.iloc[:, 1:].values / 255).float()\n",
    "    y_train = torch.Tensor(df_train.iloc[:, 0].values).long()\n",
    "\n",
    "    x_test = torch.Tensor(df_test.iloc[:, 1:].values / 255).float()\n",
    "    y_test = torch.Tensor(df_test.iloc[:, 0].values).long()\n",
    "\n",
    "    return x_train, y_train, x_test, y_test"
   ]
  },
  {
   "cell_type": "code",
   "execution_count": 5,
   "metadata": {},
   "outputs": [],
   "source": [
    "def weights_init(m, method='zeros'):\n",
    "    if isinstance(m, nn.Linear):\n",
    "        if method == 'zeros':\n",
    "            nn.init.zeros_(m.weight)\n",
    "        elif method == 'random':\n",
    "            nn.init.uniform_(m.weight, -1, 1)"
   ]
  },
  {
   "cell_type": "code",
   "execution_count": 6,
   "metadata": {},
   "outputs": [
    {
     "data": {
      "text/plain": [
       "MNISTmodel(\n",
       "  (layer1): Linear(in_features=784, out_features=300, bias=False)\n",
       "  (layer2): Linear(in_features=300, out_features=10, bias=False)\n",
       "  (sigmoid): Sigmoid()\n",
       ")"
      ]
     },
     "execution_count": 6,
     "metadata": {},
     "output_type": "execute_result"
    }
   ],
   "source": [
    "# build a model\n",
    "\n",
    "d = 784  # number of input features\n",
    "d1 = 300  # number of neurons in the hidden layer\n",
    "k = 10  # number of output classes\n",
    "\n",
    "class MNISTmodel(nn.Module):\n",
    "    def __init__(self):\n",
    "        super().__init__()\n",
    "        self.layer1 = nn.Linear(d, d1, bias=False)\n",
    "        self.layer2 = nn.Linear(d1, k, bias=False)\n",
    "        self.sigmoid = nn.Sigmoid()\n",
    "        \n",
    "        # Apply weight initialization\n",
    "        self.apply(lambda m: weights_init(m, 'random'))\n",
    "        \n",
    "    def forward(self, x):\n",
    "        x = self.layer1(x)\n",
    "        x = self.sigmoid(x)\n",
    "        x = self.layer2(x)\n",
    "        return x\n",
    "    \n",
    "model = MNISTmodel().to(device)\n",
    "\n",
    "model"
   ]
  },
  {
   "cell_type": "code",
   "execution_count": 7,
   "metadata": {},
   "outputs": [],
   "source": [
    "# loss function\n",
    "loss_fn = nn.CrossEntropyLoss()\n",
    "\n",
    "# get error\n",
    "def get_error(y_hat, y):\n",
    "    y_pred = torch.argmax(y_hat, dim=1)\n",
    "    return torch.mean((y_pred != y).float())"
   ]
  },
  {
   "cell_type": "code",
   "execution_count": 16,
   "metadata": {},
   "outputs": [
    {
     "name": "stdout",
     "output_type": "stream",
     "text": [
      "example size = 10000\n",
      "epoch 0: test loss = 4.893938064575195, test error = 0.7971000075340271\n",
      "epoch 100: test loss = 0.2555617690086365, test error = 0.06989999860525131\n",
      "epoch 200: test loss = 0.23829011619091034, test error = 0.05350000038743019\n",
      "epoch 300: test loss = 0.2622254192829132, test error = 0.04830000177025795\n",
      "epoch 400: test loss = 0.2979310154914856, test error = 0.04569999873638153\n",
      "example size = 20000\n",
      "epoch 0: test loss = 3.5984015464782715, test error = 0.7670000195503235\n",
      "epoch 100: test loss = 0.17116063833236694, test error = 0.04670000076293945\n",
      "epoch 200: test loss = 0.1775968223810196, test error = 0.03660000115633011\n",
      "epoch 300: test loss = 0.21723555028438568, test error = 0.034699998795986176\n",
      "epoch 400: test loss = 0.2515583336353302, test error = 0.03440000116825104\n",
      "example size = 30000\n",
      "epoch 0: test loss = 2.488910436630249, test error = 0.6093000173568726\n",
      "epoch 100: test loss = 0.14766335487365723, test error = 0.04149999842047691\n",
      "epoch 200: test loss = 0.15443313121795654, test error = 0.03359999880194664\n",
      "epoch 300: test loss = 0.1891823261976242, test error = 0.030500000342726707\n",
      "epoch 400: test loss = 0.2142544984817505, test error = 0.029899999499320984\n",
      "example size = 40000\n",
      "epoch 0: test loss = 1.7757641077041626, test error = 0.45829999446868896\n",
      "epoch 100: test loss = 0.13253246247768402, test error = 0.03610000014305115\n",
      "epoch 200: test loss = 0.1455409824848175, test error = 0.02810000069439411\n",
      "epoch 300: test loss = 0.18249163031578064, test error = 0.02710000053048134\n",
      "epoch 400: test loss = 0.20084957778453827, test error = 0.02630000002682209\n",
      "example size = 50000\n",
      "epoch 0: test loss = 1.4295663833618164, test error = 0.3864000141620636\n",
      "epoch 100: test loss = 0.11183004081249237, test error = 0.032499998807907104\n",
      "epoch 200: test loss = 0.1295093148946762, test error = 0.027000000700354576\n",
      "epoch 300: test loss = 0.16633129119873047, test error = 0.025699999183416367\n",
      "epoch 400: test loss = 0.18078596889972687, test error = 0.025499999523162842\n",
      "example size = 60000\n",
      "epoch 0: test loss = 1.297057867050171, test error = 0.36239999532699585\n",
      "epoch 100: test loss = 0.10448470711708069, test error = 0.030300000682473183\n",
      "epoch 200: test loss = 0.12299469113349915, test error = 0.026399999856948853\n",
      "epoch 300: test loss = 0.15509583055973053, test error = 0.024700000882148743\n",
      "epoch 400: test loss = 0.1681087166070938, test error = 0.02449999935925007\n"
     ]
    }
   ],
   "source": [
    "epochs = 500\n",
    "learning_rate = 1e-4\n",
    "loss_dict = {}\n",
    "batch_size = 64\n",
    "\n",
    "# for plot learning curve\n",
    "for example_size in np.arange(1, 7, 1) * 10000:\n",
    "    print(f'example size = {example_size}')\n",
    "    x, y, x_test, y_test = load_data_torch(example_size = example_size)\n",
    "    \n",
    "    #  re-initialize model's weights\n",
    "    model = MNISTmodel().to(device)\n",
    "    optimizer = optim.Adam(model.parameters(), lr=learning_rate)\n",
    "\n",
    "    test_losses = []\n",
    "    test_errors = []\n",
    "\n",
    "    for epoch in range(epochs):\n",
    "        permutation = torch.randperm(x.size()[0])\n",
    "        \n",
    "        # mini-batch\n",
    "        for i in range(0,x.size()[0], batch_size):\n",
    "            indices = permutation[i:i+batch_size]\n",
    "            batch_x, batch_y = x[indices], y[indices]\n",
    "            # training\n",
    "            model.train()\n",
    "            optimizer.zero_grad()\n",
    "            y_hat = model(batch_x)\n",
    "            loss = loss_fn(y_hat, batch_y)\n",
    "            \n",
    "            # back propagation\n",
    "            loss.backward()\n",
    "            \n",
    "            # update weights\n",
    "            optimizer.step()\n",
    "        \n",
    "        # evaluate on test set\n",
    "        with torch.no_grad():\n",
    "            model.eval()\n",
    "            y_hat_test = model(x_test)\n",
    "            test_loss = loss_fn(y_hat_test, y_test)\n",
    "            test_error = get_error(y_hat_test, y_test)\n",
    "            \n",
    "        test_losses.append(test_loss.item())\n",
    "        test_errors.append(test_error)\n",
    "        \n",
    "        if epoch % 100 == 0:\n",
    "            print(f'epoch {epoch}: test loss = {test_loss.item()}, test error = {test_error}')\n",
    "            \n",
    "    # update loss dict\n",
    "    loss_dict[example_size] = {'test_loss': test_losses, 'test_error': test_errors}"
   ]
  },
  {
   "cell_type": "code",
   "execution_count": 17,
   "metadata": {},
   "outputs": [],
   "source": [
    "# save loss dict\n",
    "with open('torch_loss_dict.pkl', 'wb') as f:\n",
    "    pickle.dump(loss_dict, f)"
   ]
  },
  {
   "cell_type": "code",
   "execution_count": 20,
   "metadata": {},
   "outputs": [
    {
     "data": {
      "image/png": "[encoded data removed]",
      "text/plain": [
       "<Figure size 640x480 with 1 Axes>"
      ]
     },
     "metadata": {},
     "output_type": "display_data"
    }
   ],
   "source": [
    "# plot loss\n",
    "s = loss_dict[60000]\n",
    "plt.plot(s['test_loss'], label='test loss')\n",
    "plt.legend()\n",
    "plt.show()"
   ]
  },
  {
   "cell_type": "code",
   "execution_count": 22,
   "metadata": {},
   "outputs": [
    {
     "data": {
      "image/png": "[encoded data removed]",
      "text/plain": [
       "<Figure size 640x480 with 1 Axes>"
      ]
     },
     "metadata": {},
     "output_type": "display_data"
    }
   ],
   "source": [
    "# plot train & test errors\n",
    "s = loss_dict[60000]\n",
    "plt.plot(s['test_error'], label='test error')\n",
    "plt.legend()\n",
    "plt.show()\n"
   ]
  },
  {
   "cell_type": "code",
   "execution_count": 24,
   "metadata": {},
   "outputs": [
    {
     "data": {
      "text/plain": [
       "<matplotlib.legend.Legend at 0x19c087efa60>"
      ]
     },
     "execution_count": 24,
     "metadata": {},
     "output_type": "execute_result"
    },
    {
     "data": {
      "image/png": "[encoded data removed]",
      "text/plain": [
       "<Figure size 640x480 with 1 Axes>"
      ]
     },
     "metadata": {},
     "output_type": "display_data"
    }
   ],
   "source": [
    "# learning curve\n",
    "example_sizes = [10000, 20000, 30000, 40000, 50000, 60000]\n",
    "test_errors = [loss_dict[example_size]['test_error'][-1] for example_size in example_sizes]\n",
    "\n",
    "plt.plot(example_sizes, test_errors, label='test error')\n",
    "plt.legend()"
   ]
  },
  {
   "cell_type": "markdown",
   "metadata": {},
   "source": [
    "# 4.4"
   ]
  },
  {
   "cell_type": "code",
   "execution_count": 93,
   "metadata": {},
   "outputs": [],
   "source": [
    "# activation function\n",
    "def sigmoid(x):\n",
    "    # Clip values for stability\n",
    "    x = np.clip(x, -500, 500)\n",
    "    return 1 / (1 + np.exp(-x))\n",
    "\n",
    "def softmax(x):\n",
    "    # subtract max to prevent overflow\n",
    "    x = x - np.max(x)\n",
    "    return np.exp(x) / np.sum(np.exp(x), axis=0)\n",
    "\n",
    "\n",
    "# forward propagation\n",
    "def forward_propagation(x, w1, w2):\n",
    "    z1 = np.dot(w1, x)  # first layer output before activation\n",
    "    a1 = sigmoid(z1)  # second layer input\n",
    "    z2 = np.dot(w2, a1)  # second layer output before activation\n",
    "    y_hat = softmax(z2)  # output\n",
    "    return z1, a1, z2, y_hat\n",
    "\n",
    "\n",
    "# cross entropy loss\n",
    "def cross_entropy_loss(y_one_hot, y_hat):\n",
    "    epsilon = 1e-15 # Avoid log(0)\n",
    "    y_hat_clipped = np.clip(\n",
    "        y_hat, epsilon, 1 - epsilon\n",
    "    )  # Ensure values are within [epsilon, 1-epsilon]\n",
    "    return -np.sum(y_one_hot * np.log(y_hat_clipped)) / y_one_hot.shape[1]\n",
    "\n",
    "\n",
    "# one-hot encoding; y: (n, ), y_one_hot: (k, n)\n",
    "def one_hot_encoding(y, k):\n",
    "    y_one_hot = np.zeros((k, y.shape[0]))\n",
    "    for i in range(y.shape[0]):\n",
    "        y_one_hot[y[i], i] = 1\n",
    "    return y_one_hot\n",
    "\n",
    "# get error\n",
    "def get_error(y_hat, y):\n",
    "    y_pred = np.argmax(y_hat, axis=0)\n",
    "    return np.mean(y_pred != y)\n",
    "\n",
    "# back propagation\n",
    "def back_propagation(x, y_one_hot, y_hat, a1, w2):\n",
    "    grad_w2 = np.dot((y_hat - y_one_hot), a1.T)\n",
    "    grad_w1 = np.dot(np.dot(w2.T, (y_hat - y_one_hot)) * a1 * (1 - a1), x.T)\n",
    "    \n",
    "    # clip gradient\n",
    "    grad_w2 = np.clip(grad_w2, -500, 500)\n",
    "    grad_w1 = np.clip(grad_w1, -500, 500)\n",
    "    \n",
    "    return grad_w1, grad_w2"
   ]
  },
  {
   "cell_type": "code",
   "execution_count": 94,
   "metadata": {},
   "outputs": [],
   "source": [
    "# different weight initialization\n",
    "def initialize_weights(d, d1, k, method='zeros'):\n",
    "    np.random.seed(0)\n",
    "    \n",
    "    if method == 'zeros':\n",
    "        w1 = np.zeros((d1, d))\n",
    "        w2 = np.zeros((k, d1))\n",
    "    elif method == 'random':\n",
    "        w1 = np.random.uniform(-1, 1, (d1, d))\n",
    "        w2 = np.random.uniform(-1, 1, (k, d1))\n",
    "        \n",
    "    return w1, w2"
   ]
  },
  {
   "cell_type": "code",
   "execution_count": 95,
   "metadata": {},
   "outputs": [],
   "source": [
    "def load_data(example_size=60000, weight_init='zeros'):\n",
    "\n",
    "    # read dataset\n",
    "    df_train = pd.read_csv(\"mnist/mnist_train.csv\").sample(example_size, random_state=666)\n",
    "    df_test = pd.read_csv(\"mnist/mnist_test.csv\")\n",
    "\n",
    "    # build neural network\n",
    "    d = df_train.shape[1] - 1\n",
    "    d1 = 300  # number of neurons in the hidden layer\n",
    "    k = df_train[\"label\"].nunique()  # number of output classes\n",
    "\n",
    "    # initalize weight\n",
    "    w1, w2 = initialize_weights(d, d1, k, weight_init)\n",
    "\n",
    "    # input\n",
    "    x = df_train.iloc[:, 1:].to_numpy().reshape(-1, d).T\n",
    "    # normalize\n",
    "    x = x / 255\n",
    "\n",
    "    # output\n",
    "    y = df_train.iloc[:, 0].to_numpy()\n",
    "    y_one_hot = one_hot_encoding(y, k)\n",
    "\n",
    "    # test input\n",
    "    x_test = df_test.iloc[:, 1:].to_numpy().reshape(-1, d).T\n",
    "    # normalize\n",
    "    x_test = x_test / 255\n",
    "\n",
    "    # test output\n",
    "    y_test = df_test.iloc[:, 0].to_numpy()\n",
    "    y_test_one_hot = one_hot_encoding(y_test, k)\n",
    "    \n",
    "    return x, y, y_one_hot, x_test, y_test, y_test_one_hot, w1, w2, k"
   ]
  },
  {
   "cell_type": "code",
   "execution_count": 96,
   "metadata": {},
   "outputs": [
    {
     "name": "stdout",
     "output_type": "stream",
     "text": [
      "example size = 10000\n",
      "iter 0: train loss = 2.3025850929940455, test loss = 2.3025850929940455, train error=0.9026, test error = 0.902\n",
      "iter 100: train loss = 2.27656171934802, test loss = 2.2732952032153717, train error=0.8889, test error = 0.8865\n",
      "iter 200: train loss = 2.2438483801782714, test loss = 2.2376627124068724, train error=0.8889, test error = 0.8865\n",
      "iter 300: train loss = 2.202552411553739, test loss = 2.1938012941324896, train error=0.8889, test error = 0.8865\n",
      "iter 400: train loss = 2.1686813657153223, test loss = 2.158510784141317, train error=0.8889, test error = 0.8865\n",
      "iter 500: train loss = 2.1448829039475377, test loss = 2.134035790706657, train error=0.8889, test error = 0.8865\n",
      "iter 600: train loss = 2.1281359014119063, test loss = 2.116945306293821, train error=0.8889, test error = 0.8865\n",
      "iter 700: train loss = 2.115855171373785, test loss = 2.104474636045558, train error=0.8889, test error = 0.8865\n",
      "iter 800: train loss = 2.1064475719679363, test loss = 2.0949564453522007, train error=0.8889, test error = 0.8865\n",
      "iter 900: train loss = 2.09896020416954, test loss = 2.0874039205946153, train error=0.8889, test error = 0.8865\n",
      "example size = 20000\n",
      "iter 0: train loss = 2.3025850929940463, test loss = 2.3025850929940455, train error=0.9042, test error = 0.902\n",
      "iter 100: train loss = 2.216205996025838, test loss = 2.209645512875979, train error=0.8888, test error = 0.8865\n",
      "iter 200: train loss = 2.1554966262203443, test loss = 2.147998566175295, train error=0.8888, test error = 0.8865\n",
      "iter 300: train loss = 2.121534608465105, test loss = 2.1130114150593173, train error=0.8888, test error = 0.8865\n",
      "iter 400: train loss = 2.103450933561329, test loss = 2.0947147481343973, train error=0.8888, test error = 0.8865\n",
      "iter 500: train loss = 2.0918762972970693, test loss = 2.083052257690259, train error=0.8888, test error = 0.8865\n",
      "iter 600: train loss = 2.0836328289685824, test loss = 2.074766768718984, train error=0.8888, test error = 0.8865\n",
      "iter 700: train loss = 2.077323136144167, test loss = 2.068442297863815, train error=0.8888, test error = 0.8865\n",
      "iter 800: train loss = 2.0722282566283736, test loss = 2.063351547292447, train error=0.8888, test error = 0.8865\n",
      "iter 900: train loss = 2.0679397364713705, test loss = 2.0590817653034916, train error=0.8888, test error = 0.8865\n",
      "example size = 30000\n",
      "iter 0: train loss = 2.3025850929940455, test loss = 2.3025850929940455, train error=0.9024666666666666, test error = 0.902\n",
      "iter 100: train loss = 2.182624220721639, test loss = 2.1736710834065445, train error=0.8883, test error = 0.8865\n",
      "iter 200: train loss = 2.1244846807450526, test loss = 2.1152820527280296, train error=0.8883, test error = 0.8865\n",
      "iter 300: train loss = 2.1018408216770577, test loss = 2.0924529223003225, train error=0.8883, test error = 0.8865\n",
      "iter 400: train loss = 2.0897958392012628, test loss = 2.0803015803921228, train error=0.8883, test error = 0.8865\n",
      "iter 500: train loss = 2.082144938495895, test loss = 2.0725994408893382, train error=0.8883, test error = 0.8865\n",
      "iter 600: train loss = 2.076712412249578, test loss = 2.0671570588901176, train error=0.8883, test error = 0.8865\n",
      "iter 700: train loss = 2.0725401357435547, test loss = 2.063008326440481, train error=0.8883, test error = 0.8865\n",
      "iter 800: train loss = 2.0691330270399844, test loss = 2.059654481996616, train error=0.8883, test error = 0.8865\n",
      "iter 900: train loss = 2.0662023513409733, test loss = 2.0568062820570807, train error=0.8883, test error = 0.8865\n",
      "example size = 40000\n",
      "iter 0: train loss = 2.302585092994046, test loss = 2.3025850929940455, train error=0.902375, test error = 0.902\n",
      "iter 100: train loss = 2.1553297926876667, test loss = 2.150259528351399, train error=0.8882, test error = 0.8865\n",
      "iter 200: train loss = 2.107928831374654, test loss = 2.101599798492969, train error=0.8882, test error = 0.8865\n",
      "iter 300: train loss = 2.089042391085979, test loss = 2.082175048419447, train error=0.8882, test error = 0.8865\n",
      "iter 400: train loss = 2.078511445857105, test loss = 2.0713651832275373, train error=0.8882, test error = 0.8865\n",
      "iter 500: train loss = 2.071514925848974, test loss = 2.0642089045011836, train error=0.8882, test error = 0.8865\n",
      "iter 600: train loss = 2.066347581787864, test loss = 2.058943749106863, train error=0.8882, test error = 0.8865\n",
      "iter 700: train loss = 2.0622403350954754, test loss = 2.0547746338858657, train error=0.8882, test error = 0.8865\n",
      "iter 800: train loss = 2.058786893096946, test loss = 2.051283080947577, train error=0.8882, test error = 0.8865\n",
      "iter 900: train loss = 2.053653080756106, test loss = 2.046075737438621, train error=0.8882, test error = 0.8865\n",
      "example size = 50000\n",
      "iter 0: train loss = 2.302585092994046, test loss = 2.3025850929940455, train error=0.90132, test error = 0.902\n",
      "iter 100: train loss = 2.1416272294342824, test loss = 2.1334745968025794, train error=0.88744, test error = 0.8865\n",
      "iter 200: train loss = 2.1025720786928312, test loss = 2.0941930900256494, train error=0.88744, test error = 0.8865\n",
      "iter 300: train loss = 2.087989517131641, test loss = 2.079509835592743, train error=0.88744, test error = 0.8865\n",
      "iter 400: train loss = 2.080024203775314, test loss = 2.07150973176007, train error=0.88744, test error = 0.8865\n",
      "iter 500: train loss = 2.074836169175006, test loss = 2.066316498272894, train error=0.88744, test error = 0.8865\n",
      "iter 600: train loss = 2.071102961483202, test loss = 2.0625924934211572, train error=0.88744, test error = 0.8865\n",
      "iter 700: train loss = 2.0779131711289742, test loss = 2.0683754980636073, train error=0.88744, test error = 0.8865\n",
      "iter 800: train loss = 2.055267761476197, test loss = 2.048998921437505, train error=0.88744, test error = 0.8865\n",
      "iter 900: train loss = 2.080142497800197, test loss = 2.0701423221523463, train error=0.88744, test error = 0.8865\n",
      "example size = 60000\n",
      "iter 0: train loss = 2.302585092994045, test loss = 2.3025850929940455, train error=0.9012833333333333, test error = 0.902\n",
      "iter 100: train loss = 2.1309671312067535, test loss = 2.122402190910668, train error=0.8876333333333334, test error = 0.8865\n",
      "iter 200: train loss = 2.0979087936490926, test loss = 2.089201322680805, train error=0.8876333333333334, test error = 0.8865\n",
      "iter 300: train loss = 2.0853218027497706, test loss = 2.076594472373752, train error=0.8876333333333334, test error = 0.8865\n",
      "iter 400: train loss = 2.0783145357673414, test loss = 2.0696154201150176, train error=0.8876333333333334, test error = 0.8865\n",
      "iter 500: train loss = 2.0859220250257766, test loss = 2.076096688779646, train error=0.8876333333333334, test error = 0.8865\n",
      "iter 600: train loss = 2.0560693641112575, test loss = 2.0500073862367603, train error=0.8876333333333334, test error = 0.8865\n",
      "iter 700: train loss = 2.0521056164419935, test loss = 2.0456882810559485, train error=0.8876333333333334, test error = 0.8865\n",
      "iter 800: train loss = 2.051208979660502, test loss = 2.0451500731658663, train error=0.8876333333333334, test error = 0.8865\n",
      "iter 900: train loss = 2.0465797509155506, test loss = 2.0405586574662995, train error=0.8876333333333334, test error = 0.8865\n"
     ]
    }
   ],
   "source": [
    "learning_rate = 1e-4\n",
    "max_iter = 1000\n",
    "\n",
    "loss_dict = {}\n",
    "\n",
    "# for plot learning curve\n",
    "for example_size in np.arange(1, 7, 1) * 10000:\n",
    "    print(f'example size = {example_size}')\n",
    "    \n",
    "    train_losses = []\n",
    "    test_losses = []\n",
    "    train_errors = []\n",
    "    test_errors = []\n",
    "\n",
    "    # random initialization\n",
    "    x, y, y_one_hot, x_test, y_test, y_test_one_hot, w1, w2, k = load_data(example_size = example_size, weight_init='zeros')\n",
    "\n",
    "    for iter in range(max_iter):\n",
    "        # (100, 60000) (100, 60000) (10, 60000) (10, 60000)\n",
    "        z1, a1, z2, y_hat = forward_propagation(x, w1, w2)\n",
    "        \n",
    "        # compute cross entropy loss\n",
    "        loss = cross_entropy_loss(y_one_hot, y_hat)\n",
    "        train_error = get_error(y_hat, y)\n",
    "        # evaluate on test set\n",
    "        _, _, _, y_hat_test = forward_propagation(x_test, w1, w2)\n",
    "        test_loss = cross_entropy_loss(y_test_one_hot, y_hat_test)\n",
    "        test_error = get_error(y_hat_test, y_test)\n",
    "        train_losses.append(loss)\n",
    "        test_losses.append(test_loss)\n",
    "        train_errors.append(train_error)\n",
    "        test_errors.append(test_error)\n",
    "        \n",
    "        if iter % 100 == 0:\n",
    "            print(f'iter {iter}: train loss = {loss}, test loss = {test_loss}, train error={train_error}, test error = {test_error}')\n",
    "\n",
    "        # compute gradient\n",
    "        grad_w1, grad_w2 = back_propagation(x, y_one_hot, y_hat, a1, w2)\n",
    "        \n",
    "        # update weights\n",
    "        w2 -= learning_rate * grad_w2\n",
    "        w1 -= learning_rate * grad_w1\n",
    "        \n",
    "    # update loss dict\n",
    "    loss_dict[example_size] = {'train_loss': train_losses, 'test_loss': test_losses, 'train_error': train_errors, 'test_error': test_errors}"
   ]
  },
  {
   "cell_type": "code",
   "execution_count": 97,
   "metadata": {},
   "outputs": [],
   "source": [
    "# save loss dict\n",
    "with open('numpy_loss_dict_zero_weight.pkl', 'wb') as f:\n",
    "    pickle.dump(loss_dict, f)"
   ]
  },
  {
   "cell_type": "code",
   "execution_count": 31,
   "metadata": {},
   "outputs": [],
   "source": [
    "# read\n",
    "with open('numpy_loss_dict_zero_weight.pkl', 'rb') as f:\n",
    "    loss_dict = pickle.load(f)"
   ]
  },
  {
   "cell_type": "code",
   "execution_count": 32,
   "metadata": {},
   "outputs": [
    {
     "data": {
      "text/plain": [
       "<matplotlib.legend.Legend at 0x19c087a2b50>"
      ]
     },
     "execution_count": 32,
     "metadata": {},
     "output_type": "execute_result"
    },
    {
     "data": {
      "image/png": "[encoded data removed]",
      "text/plain": [
       "<Figure size 640x480 with 1 Axes>"
      ]
     },
     "metadata": {},
     "output_type": "display_data"
    }
   ],
   "source": [
    "# plot loss\n",
    "s = loss_dict[60000]\n",
    "plt.plot(s['test_loss'], label='test loss')\n",
    "plt.legend()"
   ]
  },
  {
   "cell_type": "code",
   "execution_count": 33,
   "metadata": {},
   "outputs": [
    {
     "data": {
      "text/plain": [
       "<matplotlib.legend.Legend at 0x19c087a2a60>"
      ]
     },
     "execution_count": 33,
     "metadata": {},
     "output_type": "execute_result"
    },
    {
     "data": {
      "image/png": "[encoded data removed]",
      "text/plain": [
       "<Figure size 640x480 with 1 Axes>"
      ]
     },
     "metadata": {},
     "output_type": "display_data"
    }
   ],
   "source": [
    "# plot train & test errors\n",
    "s = loss_dict[60000]\n",
    "plt.plot(s['test_error'], label='test error')\n",
    "plt.legend()"
   ]
  },
  {
   "cell_type": "code",
   "execution_count": 34,
   "metadata": {},
   "outputs": [
    {
     "data": {
      "text/plain": [
       "<matplotlib.legend.Legend at 0x19c087a2730>"
      ]
     },
     "execution_count": 34,
     "metadata": {},
     "output_type": "execute_result"
    },
    {
     "data": {
      "image/png": "[encoded data removed]",
      "text/plain": [
       "<Figure size 640x480 with 1 Axes>"
      ]
     },
     "metadata": {},
     "output_type": "display_data"
    }
   ],
   "source": [
    "# learning curve\n",
    "example_sizes = [10000, 20000, 30000, 40000, 50000, 60000]\n",
    "test_errors = [loss_dict[example_size]['test_error'][-1] for example_size in example_sizes]\n",
    "\n",
    "plt.plot(example_sizes, test_errors, label='test error')\n",
    "plt.legend()\n"
   ]
  }
 ],
 "metadata": {
  "kernelspec": {
   "display_name": "base",
   "language": "python",
   "name": "python3"
  },
  "language_info": {
   "codemirror_mode": {
    "name": "ipython",
    "version": 3
   },
   "file_extension": ".py",
   "mimetype": "text/x-python",
   "name": "python",
   "nbconvert_exporter": "python",
   "pygments_lexer": "ipython3",
   "version": "3.8.13"
  }
 },
 "nbformat": 4,
 "nbformat_minor": 2
}
