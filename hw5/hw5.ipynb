{
 "cells": [
  {
   "cell_type": "code",
   "execution_count": 1,
   "metadata": {},
   "outputs": [],
   "source": [
    "import pandas as pd\n",
    "import numpy as np\n",
    "import plotly.express as px\n",
    "import plotly.graph_objects as go"
   ]
  },
  {
   "cell_type": "markdown",
   "metadata": {},
   "source": [
    "# 1.2"
   ]
  },
  {
   "cell_type": "code",
   "execution_count": 48,
   "metadata": {},
   "outputs": [],
   "source": [
    "# create a two-dimensional synthetic dataset of 300 points by sampling 100 points each from the three Gaussian distributions\n",
    "np.random.seed(0)\n",
    "datasets = []\n",
    "\n",
    "# distrubution parameters\n",
    "a_mean = [-1, -1]\n",
    "a_cov = [[2, 0.5], [0.5, 1]]\n",
    "b_mean = [1, -1]\n",
    "b_cov = [[1, -0.5], [-0.5, 2]]\n",
    "c_mean = [0, 1]\n",
    "c_cov = [[1, 0], [0, 2]]\n",
    "\n",
    "sigmas = [0.5, 1, 2, 4, 8]\n",
    "\n",
    "for sigma in sigmas:\n",
    "    pa = np.random.multivariate_normal(a_mean, sigma * np.array(a_cov), 100)\n",
    "    pb = np.random.multivariate_normal(b_mean, sigma * np.array(b_cov), 100)\n",
    "    pc = np.random.multivariate_normal(c_mean, sigma * np.array(c_cov), 100)\n",
    "\n",
    "    data = np.concatenate((pa, pb, pc), axis=0)\n",
    "    datasets.append(data)"
   ]
  },
  {
   "cell_type": "code",
   "execution_count": 49,
   "metadata": {},
   "outputs": [],
   "source": [
    "# kmeans++ initialization\n",
    "def kmeanspp(data, k, seed=0):\n",
    "    np.random.seed(seed)\n",
    "    centroids = np.zeros((k, data.shape[1]))\n",
    "    # randomly choose the first centroid\n",
    "    c1 = np.random.choice(data.shape[0], 1, replace=False)\n",
    "    centroids[0] = data[c1]\n",
    "    # choose the next k-1 centroids\n",
    "    for i in range(1, k):\n",
    "        D = np.zeros(data.shape[0])\n",
    "        for j in range(data.shape[0]):\n",
    "            D[j] = np.min(np.sum((data[j] - centroids[:i]) ** 2, axis=1))\n",
    "        # randomly choose the next centroid with D probability\n",
    "        centroids[i] = data[np.random.choice(data.shape[0], 1, p=D / np.sum(D))]\n",
    "\n",
    "    return centroids\n",
    "\n",
    "\n",
    "# evaluate clustering objective\n",
    "def kmeans_clustering_objective(data, centroids, labels):\n",
    "    obj = 0\n",
    "    for i in range(data.shape[0]):\n",
    "        label = int(labels[i])\n",
    "        obj += np.sum((data[i] - centroids[label]) ** 2)\n",
    "    return obj\n",
    "\n",
    "\n",
    "# implement k-means\n",
    "def kmeans(data, k, seed=0, max_iter=100, tol=1e-6):\n",
    "    # initialize centroids using k-means++\n",
    "    centroids = kmeanspp(data, k, seed)\n",
    "\n",
    "    for iter in range(max_iter):\n",
    "        new_centroids = np.zeros((k, data.shape[1]))\n",
    "        # assign each point to the closest centroid\n",
    "        labels = np.zeros(data.shape[0])\n",
    "        for i in range(data.shape[0]):\n",
    "            labels[i] = np.argmin(np.sum((data[i] - centroids) ** 2, axis=1))\n",
    "        # update centroids\n",
    "        for i in range(k):\n",
    "            new_centroids[i] = np.mean(data[labels == i], axis=0)\n",
    "\n",
    "        # check convergence\n",
    "        if np.sum((new_centroids - centroids) ** 2) < tol:\n",
    "            break\n",
    "\n",
    "        centroids = new_centroids\n",
    "\n",
    "    return centroids, labels"
   ]
  },
  {
   "cell_type": "code",
   "execution_count": 50,
   "metadata": {},
   "outputs": [],
   "source": [
    "def GMM_clustering_objective(data, phi, mu, sigma):\n",
    "    obj = 0\n",
    "    for i in range(data.shape[0]):\n",
    "        p = 0\n",
    "        for j in range(len(phi)):\n",
    "            p += (\n",
    "                phi[j]\n",
    "                * np.exp(\n",
    "                    -0.5\n",
    "                    * np.dot(\n",
    "                        np.dot((data[i] - mu[j]).T, np.linalg.inv(sigma[j])),\n",
    "                        (data[i] - mu[j]),\n",
    "                    )\n",
    "                )\n",
    "                / np.sqrt(np.linalg.det(sigma[j]))\n",
    "            )\n",
    "        obj += -np.log(p)\n",
    "    return obj"
   ]
  },
  {
   "cell_type": "code",
   "execution_count": 51,
   "metadata": {},
   "outputs": [],
   "source": [
    "# implement GMM\n",
    "\n",
    "\n",
    "def GMM(data, k, seed=0, max_iter=100, tol=1e-6):\n",
    "    # initialize using k-means++\n",
    "    centroids = kmeanspp(data, k, seed)\n",
    "    labels = np.zeros(data.shape[0])\n",
    "    for i in range(data.shape[0]):\n",
    "        labels[i] = np.argmin(np.sum((data[i] - centroids) ** 2, axis=1))\n",
    "    # initialize parameters\n",
    "    phi = [np.sum(labels == i) / data.shape[0] for i in range(k)]\n",
    "    mu = centroids\n",
    "    sigma = [np.cov(data[labels == i].T) for i in range(k)]\n",
    "    obj = GMM_clustering_objective(data, phi, mu, sigma)\n",
    "\n",
    "    for iter in range(max_iter):\n",
    "        # E-step: find the probability of each point belonging to each cluster\n",
    "        gamma = np.zeros((data.shape[0], k))\n",
    "        for i in range(data.shape[0]):\n",
    "            for j in range(k):\n",
    "                # joint probability of phi and z_i=j\n",
    "                p_prior = phi[j]\n",
    "                # conditional probability of x_i given z_i=j, which is given by the probability density function\n",
    "                p_cond = np.exp(\n",
    "                    -0.5\n",
    "                    * np.dot(\n",
    "                        np.dot((data[i] - mu[j]).T, np.linalg.inv(sigma[j])),\n",
    "                        (data[i] - mu[j]),\n",
    "                    )\n",
    "                ) / np.sqrt(np.linalg.det(sigma[j]))\n",
    "                gamma[i, j] = p_prior * p_cond\n",
    "            # normalize gamma\n",
    "            gamma[i] /= np.sum(gamma[i])\n",
    "\n",
    "        # M-step: update parameters\n",
    "        phi = np.sum(gamma, axis=0) / data.shape[0]\n",
    "        mu = np.dot(gamma.T, data) / np.sum(gamma, axis=0).reshape(-1, 1)\n",
    "        for j in range(k):\n",
    "            sigma[j] = (\n",
    "                np.dot((data - mu[j]).T, np.dot(np.diag(gamma[:, j]), (data - mu[j])))\n",
    "                / np.sum(gamma, axis=0)[j]\n",
    "            )\n",
    "\n",
    "        # check convergence\n",
    "        if GMM_clustering_objective(data, phi, mu, sigma) - obj < tol:\n",
    "            break\n",
    "\n",
    "        centroids = mu\n",
    "        labels = np.argmax(gamma, axis=1)\n",
    "\n",
    "    return centroids, labels, phi, mu, sigma"
   ]
  },
  {
   "cell_type": "code",
   "execution_count": 52,
   "metadata": {},
   "outputs": [
    {
     "data": {
      "text/html": [
       "<div>\n",
       "<style scoped>\n",
       "    .dataframe tbody tr th:only-of-type {\n",
       "        vertical-align: middle;\n",
       "    }\n",
       "\n",
       "    .dataframe tbody tr th {\n",
       "        vertical-align: top;\n",
       "    }\n",
       "\n",
       "    .dataframe thead th {\n",
       "        text-align: right;\n",
       "    }\n",
       "</style>\n",
       "<table border=\"1\" class=\"dataframe\">\n",
       "  <thead>\n",
       "    <tr style=\"text-align: right;\">\n",
       "      <th></th>\n",
       "      <th>sigma</th>\n",
       "      <th>method</th>\n",
       "      <th>objective</th>\n",
       "      <th>accuracy</th>\n",
       "    </tr>\n",
       "  </thead>\n",
       "  <tbody>\n",
       "    <tr>\n",
       "      <th>0</th>\n",
       "      <td>0.5</td>\n",
       "      <td>kmeans</td>\n",
       "      <td>323.349584</td>\n",
       "      <td>0.800000</td>\n",
       "    </tr>\n",
       "    <tr>\n",
       "      <th>1</th>\n",
       "      <td>0.5</td>\n",
       "      <td>GMM</td>\n",
       "      <td>375.244801</td>\n",
       "      <td>0.766667</td>\n",
       "    </tr>\n",
       "    <tr>\n",
       "      <th>2</th>\n",
       "      <td>1.0</td>\n",
       "      <td>kmeans</td>\n",
       "      <td>509.481965</td>\n",
       "      <td>0.736667</td>\n",
       "    </tr>\n",
       "    <tr>\n",
       "      <th>3</th>\n",
       "      <td>1.0</td>\n",
       "      <td>GMM</td>\n",
       "      <td>508.618881</td>\n",
       "      <td>0.690000</td>\n",
       "    </tr>\n",
       "    <tr>\n",
       "      <th>4</th>\n",
       "      <td>2.0</td>\n",
       "      <td>kmeans</td>\n",
       "      <td>856.701568</td>\n",
       "      <td>0.623333</td>\n",
       "    </tr>\n",
       "    <tr>\n",
       "      <th>5</th>\n",
       "      <td>2.0</td>\n",
       "      <td>GMM</td>\n",
       "      <td>672.038896</td>\n",
       "      <td>0.563333</td>\n",
       "    </tr>\n",
       "    <tr>\n",
       "      <th>6</th>\n",
       "      <td>4.0</td>\n",
       "      <td>kmeans</td>\n",
       "      <td>1658.608710</td>\n",
       "      <td>0.556667</td>\n",
       "    </tr>\n",
       "    <tr>\n",
       "      <th>7</th>\n",
       "      <td>4.0</td>\n",
       "      <td>GMM</td>\n",
       "      <td>848.668799</td>\n",
       "      <td>0.630000</td>\n",
       "    </tr>\n",
       "    <tr>\n",
       "      <th>8</th>\n",
       "      <td>8.0</td>\n",
       "      <td>kmeans</td>\n",
       "      <td>2931.046595</td>\n",
       "      <td>0.496667</td>\n",
       "    </tr>\n",
       "    <tr>\n",
       "      <th>9</th>\n",
       "      <td>8.0</td>\n",
       "      <td>GMM</td>\n",
       "      <td>1022.159053</td>\n",
       "      <td>0.596667</td>\n",
       "    </tr>\n",
       "  </tbody>\n",
       "</table>\n",
       "</div>"
      ],
      "text/plain": [
       "   sigma  method    objective  accuracy\n",
       "0    0.5  kmeans   323.349584  0.800000\n",
       "1    0.5     GMM   375.244801  0.766667\n",
       "2    1.0  kmeans   509.481965  0.736667\n",
       "3    1.0     GMM   508.618881  0.690000\n",
       "4    2.0  kmeans   856.701568  0.623333\n",
       "5    2.0     GMM   672.038896  0.563333\n",
       "6    4.0  kmeans  1658.608710  0.556667\n",
       "7    4.0     GMM   848.668799  0.630000\n",
       "8    8.0  kmeans  2931.046595  0.496667\n",
       "9    8.0     GMM  1022.159053  0.596667"
      ]
     },
     "execution_count": 52,
     "metadata": {},
     "output_type": "execute_result"
    }
   ],
   "source": [
    "# evaluate both methods\n",
    "evals = []\n",
    "\n",
    "for i in range(len(sigmas)):\n",
    "    sigma = sigmas[i]\n",
    "    data = datasets[i]\n",
    "\n",
    "    ### kmeans ###\n",
    "    # run 5 times and choose the best result\n",
    "    best_obj = np.inf\n",
    "    best_acc = 0\n",
    "\n",
    "    for seed in range(5):\n",
    "        centroids, labels = kmeans(data, k=3, seed=seed, max_iter=100, tol=1e-6)\n",
    "\n",
    "        # determine the cluster labels of the three Gaussian distributions\n",
    "        a_label = np.argmin(np.sum((centroids - a_mean) ** 2, axis=1))\n",
    "        b_label = np.argmin(np.sum((centroids - b_mean) ** 2, axis=1))\n",
    "        c_label = np.argmin(np.sum((centroids - c_mean) ** 2, axis=1))\n",
    "\n",
    "        obj = kmeans_clustering_objective(data, centroids, labels)\n",
    "\n",
    "        # evaluate clustering accuracy\n",
    "        # a_label: 1 b_label: 2 c_label: 0\n",
    "        true_labels = np.concatenate(\n",
    "            (np.ones(100) * a_label, np.ones(100) * b_label, np.ones(100) * c_label)\n",
    "        )\n",
    "        acc = np.sum(labels == true_labels) / data.shape[0]\n",
    "\n",
    "        if obj < best_obj:\n",
    "            best_obj = obj\n",
    "            best_acc = acc\n",
    "\n",
    "    evals.append([sigma, \"kmeans\", best_obj, best_acc])\n",
    "\n",
    "    ### GMM ###\n",
    "    # run 5 times and choose the best result\n",
    "    best_obj = np.inf\n",
    "    best_acc = 0\n",
    "\n",
    "    for seed in range(5):\n",
    "        centroids, labels, phi, mu, cov_sigma = GMM(\n",
    "            data, k=3, seed=seed, max_iter=100, tol=1e-6\n",
    "        )\n",
    "\n",
    "        # determine the cluster labels of the three Gaussian distributions\n",
    "        a_label = np.argmin(np.sum((centroids - a_mean) ** 2, axis=1))\n",
    "        b_label = np.argmin(np.sum((centroids - b_mean) ** 2, axis=1))\n",
    "        c_label = np.argmin(np.sum((centroids - c_mean) ** 2, axis=1))\n",
    "\n",
    "        obj = GMM_clustering_objective(data, phi, mu, cov_sigma)\n",
    "\n",
    "        # evaluate clustering accuracy\n",
    "        # a_label: 1 b_label: 2 c_label: 0\n",
    "        true_labels = np.concatenate(\n",
    "            (np.ones(100) * a_label, np.ones(100) * b_label, np.ones(100) * c_label)\n",
    "        )\n",
    "        acc = np.sum(labels == true_labels) / data.shape[0]\n",
    "\n",
    "        if obj < best_obj:\n",
    "            best_obj = obj\n",
    "            best_acc = acc\n",
    "\n",
    "    evals.append([sigma, \"GMM\", best_obj, best_acc])\n",
    "\n",
    "evals = pd.DataFrame(evals, columns=[\"sigma\", \"method\", \"objective\", \"accuracy\"])\n",
    "evals"
   ]
  },
  {
   "cell_type": "code",
   "execution_count": 63,
   "metadata": {},
   "outputs": [
    {
     "data": {
      "application/vnd.plotly.v1+json": {
       "config": {
        "plotlyServerURL": "https://plot.ly"
       },
       "data": [
        {
         "alignmentgroup": "True",
         "hovertemplate": "sigma=0.5<br>method=%{x}<br>objective=%{y}<extra></extra>",
         "legendgroup": "0.5",
         "marker": {
          "color": "#636efa",
          "pattern": {
           "shape": ""
          }
         },
         "name": "0.5",
         "offsetgroup": "0.5",
         "orientation": "v",
         "showlegend": true,
         "textposition": "auto",
         "type": "bar",
         "x": [
          "kmeans",
          "GMM"
         ],
         "xaxis": "x",
         "y": [
          323.3495836831571,
          375.2448014090793
         ],
         "yaxis": "y"
        },
        {
         "alignmentgroup": "True",
         "hovertemplate": "sigma=1.0<br>method=%{x}<br>objective=%{y}<extra></extra>",
         "legendgroup": "1.0",
         "marker": {
          "color": "#EF553B",
          "pattern": {
           "shape": ""
          }
         },
         "name": "1.0",
         "offsetgroup": "1.0",
         "orientation": "v",
         "showlegend": true,
         "textposition": "auto",
         "type": "bar",
         "x": [
          "kmeans",
          "GMM"
         ],
         "xaxis": "x",
         "y": [
          509.4819646315983,
          508.61888107838246
         ],
         "yaxis": "y"
        },
        {
         "alignmentgroup": "True",
         "hovertemplate": "sigma=2.0<br>method=%{x}<br>objective=%{y}<extra></extra>",
         "legendgroup": "2.0",
         "marker": {
          "color": "#00cc96",
          "pattern": {
           "shape": ""
          }
         },
         "name": "2.0",
         "offsetgroup": "2.0",
         "orientation": "v",
         "showlegend": true,
         "textposition": "auto",
         "type": "bar",
         "x": [
          "kmeans",
          "GMM"
         ],
         "xaxis": "x",
         "y": [
          856.7015684741558,
          672.0388959568177
         ],
         "yaxis": "y"
        },
        {
         "alignmentgroup": "True",
         "hovertemplate": "sigma=4.0<br>method=%{x}<br>objective=%{y}<extra></extra>",
         "legendgroup": "4.0",
         "marker": {
          "color": "#ab63fa",
          "pattern": {
           "shape": ""
          }
         },
         "name": "4.0",
         "offsetgroup": "4.0",
         "orientation": "v",
         "showlegend": true,
         "textposition": "auto",
         "type": "bar",
         "x": [
          "kmeans",
          "GMM"
         ],
         "xaxis": "x",
         "y": [
          1658.6087104690414,
          848.6687986651922
         ],
         "yaxis": "y"
        },
        {
         "alignmentgroup": "True",
         "hovertemplate": "sigma=8.0<br>method=%{x}<br>objective=%{y}<extra></extra>",
         "legendgroup": "8.0",
         "marker": {
          "color": "#FFA15A",
          "pattern": {
           "shape": ""
          }
         },
         "name": "8.0",
         "offsetgroup": "8.0",
         "orientation": "v",
         "showlegend": true,
         "textposition": "auto",
         "type": "bar",
         "x": [
          "kmeans",
          "GMM"
         ],
         "xaxis": "x",
         "y": [
          2931.046594527709,
          1022.1590531331439
         ],
         "yaxis": "y"
        }
       ],
       "layout": {
        "barmode": "group",
        "height": 500,
        "legend": {
         "title": {
          "text": "sigma"
         },
         "tracegroupgap": 0
        },
        "margin": {
         "t": 60
        },
        "template": {
         "data": {
          "bar": [
           {
            "error_x": {
             "color": "#2a3f5f"
            },
            "error_y": {
             "color": "#2a3f5f"
            },
            "marker": {
             "line": {
              "color": "#E5ECF6",
              "width": 0.5
             },
             "pattern": {
              "fillmode": "overlay",
              "size": 10,
              "solidity": 0.2
             }
            },
            "type": "bar"
           }
          ],
          "barpolar": [
           {
            "marker": {
             "line": {
              "color": "#E5ECF6",
              "width": 0.5
             },
             "pattern": {
              "fillmode": "overlay",
              "size": 10,
              "solidity": 0.2
             }
            },
            "type": "barpolar"
           }
          ],
          "carpet": [
           {
            "aaxis": {
             "endlinecolor": "#2a3f5f",
             "gridcolor": "white",
             "linecolor": "white",
             "minorgridcolor": "white",
             "startlinecolor": "#2a3f5f"
            },
            "baxis": {
             "endlinecolor": "#2a3f5f",
             "gridcolor": "white",
             "linecolor": "white",
             "minorgridcolor": "white",
             "startlinecolor": "#2a3f5f"
            },
            "type": "carpet"
           }
          ],
          "choropleth": [
           {
            "colorbar": {
             "outlinewidth": 0,
             "ticks": ""
            },
            "type": "choropleth"
           }
          ],
          "contour": [
           {
            "colorbar": {
             "outlinewidth": 0,
             "ticks": ""
            },
            "colorscale": [
             [
              0,
              "#0d0887"
             ],
             [
              0.1111111111111111,
              "#46039f"
             ],
             [
              0.2222222222222222,
              "#7201a8"
             ],
             [
              0.3333333333333333,
              "#9c179e"
             ],
             [
              0.4444444444444444,
              "#bd3786"
             ],
             [
              0.5555555555555556,
              "#d8576b"
             ],
             [
              0.6666666666666666,
              "#ed7953"
             ],
             [
              0.7777777777777778,
              "#fb9f3a"
             ],
             [
              0.8888888888888888,
              "#fdca26"
             ],
             [
              1,
              "#f0f921"
             ]
            ],
            "type": "contour"
           }
          ],
          "contourcarpet": [
           {
            "colorbar": {
             "outlinewidth": 0,
             "ticks": ""
            },
            "type": "contourcarpet"
           }
          ],
          "heatmap": [
           {
            "colorbar": {
             "outlinewidth": 0,
             "ticks": ""
            },
            "colorscale": [
             [
              0,
              "#0d0887"
             ],
             [
              0.1111111111111111,
              "#46039f"
             ],
             [
              0.2222222222222222,
              "#7201a8"
             ],
             [
              0.3333333333333333,
              "#9c179e"
             ],
             [
              0.4444444444444444,
              "#bd3786"
             ],
             [
              0.5555555555555556,
              "#d8576b"
             ],
             [
              0.6666666666666666,
              "#ed7953"
             ],
             [
              0.7777777777777778,
              "#fb9f3a"
             ],
             [
              0.8888888888888888,
              "#fdca26"
             ],
             [
              1,
              "#f0f921"
             ]
            ],
            "type": "heatmap"
           }
          ],
          "heatmapgl": [
           {
            "colorbar": {
             "outlinewidth": 0,
             "ticks": ""
            },
            "colorscale": [
             [
              0,
              "#0d0887"
             ],
             [
              0.1111111111111111,
              "#46039f"
             ],
             [
              0.2222222222222222,
              "#7201a8"
             ],
             [
              0.3333333333333333,
              "#9c179e"
             ],
             [
              0.4444444444444444,
              "#bd3786"
             ],
             [
              0.5555555555555556,
              "#d8576b"
             ],
             [
              0.6666666666666666,
              "#ed7953"
             ],
             [
              0.7777777777777778,
              "#fb9f3a"
             ],
             [
              0.8888888888888888,
              "#fdca26"
             ],
             [
              1,
              "#f0f921"
             ]
            ],
            "type": "heatmapgl"
           }
          ],
          "histogram": [
           {
            "marker": {
             "pattern": {
              "fillmode": "overlay",
              "size": 10,
              "solidity": 0.2
             }
            },
            "type": "histogram"
           }
          ],
          "histogram2d": [
           {
            "colorbar": {
             "outlinewidth": 0,
             "ticks": ""
            },
            "colorscale": [
             [
              0,
              "#0d0887"
             ],
             [
              0.1111111111111111,
              "#46039f"
             ],
             [
              0.2222222222222222,
              "#7201a8"
             ],
             [
              0.3333333333333333,
              "#9c179e"
             ],
             [
              0.4444444444444444,
              "#bd3786"
             ],
             [
              0.5555555555555556,
              "#d8576b"
             ],
             [
              0.6666666666666666,
              "#ed7953"
             ],
             [
              0.7777777777777778,
              "#fb9f3a"
             ],
             [
              0.8888888888888888,
              "#fdca26"
             ],
             [
              1,
              "#f0f921"
             ]
            ],
            "type": "histogram2d"
           }
          ],
          "histogram2dcontour": [
           {
            "colorbar": {
             "outlinewidth": 0,
             "ticks": ""
            },
            "colorscale": [
             [
              0,
              "#0d0887"
             ],
             [
              0.1111111111111111,
              "#46039f"
             ],
             [
              0.2222222222222222,
              "#7201a8"
             ],
             [
              0.3333333333333333,
              "#9c179e"
             ],
             [
              0.4444444444444444,
              "#bd3786"
             ],
             [
              0.5555555555555556,
              "#d8576b"
             ],
             [
              0.6666666666666666,
              "#ed7953"
             ],
             [
              0.7777777777777778,
              "#fb9f3a"
             ],
             [
              0.8888888888888888,
              "#fdca26"
             ],
             [
              1,
              "#f0f921"
             ]
            ],
            "type": "histogram2dcontour"
           }
          ],
          "mesh3d": [
           {
            "colorbar": {
             "outlinewidth": 0,
             "ticks": ""
            },
            "type": "mesh3d"
           }
          ],
          "parcoords": [
           {
            "line": {
             "colorbar": {
              "outlinewidth": 0,
              "ticks": ""
             }
            },
            "type": "parcoords"
           }
          ],
          "pie": [
           {
            "automargin": true,
            "type": "pie"
           }
          ],
          "scatter": [
           {
            "fillpattern": {
             "fillmode": "overlay",
             "size": 10,
             "solidity": 0.2
            },
            "type": "scatter"
           }
          ],
          "scatter3d": [
           {
            "line": {
             "colorbar": {
              "outlinewidth": 0,
              "ticks": ""
             }
            },
            "marker": {
             "colorbar": {
              "outlinewidth": 0,
              "ticks": ""
             }
            },
            "type": "scatter3d"
           }
          ],
          "scattercarpet": [
           {
            "marker": {
             "colorbar": {
              "outlinewidth": 0,
              "ticks": ""
             }
            },
            "type": "scattercarpet"
           }
          ],
          "scattergeo": [
           {
            "marker": {
             "colorbar": {
              "outlinewidth": 0,
              "ticks": ""
             }
            },
            "type": "scattergeo"
           }
          ],
          "scattergl": [
           {
            "marker": {
             "colorbar": {
              "outlinewidth": 0,
              "ticks": ""
             }
            },
            "type": "scattergl"
           }
          ],
          "scattermapbox": [
           {
            "marker": {
             "colorbar": {
              "outlinewidth": 0,
              "ticks": ""
             }
            },
            "type": "scattermapbox"
           }
          ],
          "scatterpolar": [
           {
            "marker": {
             "colorbar": {
              "outlinewidth": 0,
              "ticks": ""
             }
            },
            "type": "scatterpolar"
           }
          ],
          "scatterpolargl": [
           {
            "marker": {
             "colorbar": {
              "outlinewidth": 0,
              "ticks": ""
             }
            },
            "type": "scatterpolargl"
           }
          ],
          "scatterternary": [
           {
            "marker": {
             "colorbar": {
              "outlinewidth": 0,
              "ticks": ""
             }
            },
            "type": "scatterternary"
           }
          ],
          "surface": [
           {
            "colorbar": {
             "outlinewidth": 0,
             "ticks": ""
            },
            "colorscale": [
             [
              0,
              "#0d0887"
             ],
             [
              0.1111111111111111,
              "#46039f"
             ],
             [
              0.2222222222222222,
              "#7201a8"
             ],
             [
              0.3333333333333333,
              "#9c179e"
             ],
             [
              0.4444444444444444,
              "#bd3786"
             ],
             [
              0.5555555555555556,
              "#d8576b"
             ],
             [
              0.6666666666666666,
              "#ed7953"
             ],
             [
              0.7777777777777778,
              "#fb9f3a"
             ],
             [
              0.8888888888888888,
              "#fdca26"
             ],
             [
              1,
              "#f0f921"
             ]
            ],
            "type": "surface"
           }
          ],
          "table": [
           {
            "cells": {
             "fill": {
              "color": "#EBF0F8"
             },
             "line": {
              "color": "white"
             }
            },
            "header": {
             "fill": {
              "color": "#C8D4E3"
             },
             "line": {
              "color": "white"
             }
            },
            "type": "table"
           }
          ]
         },
         "layout": {
          "annotationdefaults": {
           "arrowcolor": "#2a3f5f",
           "arrowhead": 0,
           "arrowwidth": 1
          },
          "autotypenumbers": "strict",
          "coloraxis": {
           "colorbar": {
            "outlinewidth": 0,
            "ticks": ""
           }
          },
          "colorscale": {
           "diverging": [
            [
             0,
             "#8e0152"
            ],
            [
             0.1,
             "#c51b7d"
            ],
            [
             0.2,
             "#de77ae"
            ],
            [
             0.3,
             "#f1b6da"
            ],
            [
             0.4,
             "#fde0ef"
            ],
            [
             0.5,
             "#f7f7f7"
            ],
            [
             0.6,
             "#e6f5d0"
            ],
            [
             0.7,
             "#b8e186"
            ],
            [
             0.8,
             "#7fbc41"
            ],
            [
             0.9,
             "#4d9221"
            ],
            [
             1,
             "#276419"
            ]
           ],
           "sequential": [
            [
             0,
             "#0d0887"
            ],
            [
             0.1111111111111111,
             "#46039f"
            ],
            [
             0.2222222222222222,
             "#7201a8"
            ],
            [
             0.3333333333333333,
             "#9c179e"
            ],
            [
             0.4444444444444444,
             "#bd3786"
            ],
            [
             0.5555555555555556,
             "#d8576b"
            ],
            [
             0.6666666666666666,
             "#ed7953"
            ],
            [
             0.7777777777777778,
             "#fb9f3a"
            ],
            [
             0.8888888888888888,
             "#fdca26"
            ],
            [
             1,
             "#f0f921"
            ]
           ],
           "sequentialminus": [
            [
             0,
             "#0d0887"
            ],
            [
             0.1111111111111111,
             "#46039f"
            ],
            [
             0.2222222222222222,
             "#7201a8"
            ],
            [
             0.3333333333333333,
             "#9c179e"
            ],
            [
             0.4444444444444444,
             "#bd3786"
            ],
            [
             0.5555555555555556,
             "#d8576b"
            ],
            [
             0.6666666666666666,
             "#ed7953"
            ],
            [
             0.7777777777777778,
             "#fb9f3a"
            ],
            [
             0.8888888888888888,
             "#fdca26"
            ],
            [
             1,
             "#f0f921"
            ]
           ]
          },
          "colorway": [
           "#636efa",
           "#EF553B",
           "#00cc96",
           "#ab63fa",
           "#FFA15A",
           "#19d3f3",
           "#FF6692",
           "#B6E880",
           "#FF97FF",
           "#FECB52"
          ],
          "font": {
           "color": "#2a3f5f"
          },
          "geo": {
           "bgcolor": "white",
           "lakecolor": "white",
           "landcolor": "#E5ECF6",
           "showlakes": true,
           "showland": true,
           "subunitcolor": "white"
          },
          "hoverlabel": {
           "align": "left"
          },
          "hovermode": "closest",
          "mapbox": {
           "style": "light"
          },
          "paper_bgcolor": "white",
          "plot_bgcolor": "#E5ECF6",
          "polar": {
           "angularaxis": {
            "gridcolor": "white",
            "linecolor": "white",
            "ticks": ""
           },
           "bgcolor": "#E5ECF6",
           "radialaxis": {
            "gridcolor": "white",
            "linecolor": "white",
            "ticks": ""
           }
          },
          "scene": {
           "xaxis": {
            "backgroundcolor": "#E5ECF6",
            "gridcolor": "white",
            "gridwidth": 2,
            "linecolor": "white",
            "showbackground": true,
            "ticks": "",
            "zerolinecolor": "white"
           },
           "yaxis": {
            "backgroundcolor": "#E5ECF6",
            "gridcolor": "white",
            "gridwidth": 2,
            "linecolor": "white",
            "showbackground": true,
            "ticks": "",
            "zerolinecolor": "white"
           },
           "zaxis": {
            "backgroundcolor": "#E5ECF6",
            "gridcolor": "white",
            "gridwidth": 2,
            "linecolor": "white",
            "showbackground": true,
            "ticks": "",
            "zerolinecolor": "white"
           }
          },
          "shapedefaults": {
           "line": {
            "color": "#2a3f5f"
           }
          },
          "ternary": {
           "aaxis": {
            "gridcolor": "white",
            "linecolor": "white",
            "ticks": ""
           },
           "baxis": {
            "gridcolor": "white",
            "linecolor": "white",
            "ticks": ""
           },
           "bgcolor": "#E5ECF6",
           "caxis": {
            "gridcolor": "white",
            "linecolor": "white",
            "ticks": ""
           }
          },
          "title": {
           "x": 0.05
          },
          "xaxis": {
           "automargin": true,
           "gridcolor": "white",
           "linecolor": "white",
           "ticks": "",
           "title": {
            "standoff": 15
           },
           "zerolinecolor": "white",
           "zerolinewidth": 2
          },
          "yaxis": {
           "automargin": true,
           "gridcolor": "white",
           "linecolor": "white",
           "ticks": "",
           "title": {
            "standoff": 15
           },
           "zerolinecolor": "white",
           "zerolinewidth": 2
          }
         }
        },
        "width": 600,
        "xaxis": {
         "anchor": "y",
         "domain": [
          0,
          1
         ],
         "title": {
          "text": "method"
         }
        },
        "yaxis": {
         "anchor": "x",
         "domain": [
          0,
          1
         ],
         "title": {
          "text": "objective"
         }
        }
       }
      }
     },
     "metadata": {},
     "output_type": "display_data"
    },
    {
     "data": {
      "application/vnd.plotly.v1+json": {
       "config": {
        "plotlyServerURL": "https://plot.ly"
       },
       "data": [
        {
         "alignmentgroup": "True",
         "hovertemplate": "method=kmeans<br>sigma=%{x}<br>accuracy=%{y}<extra></extra>",
         "legendgroup": "kmeans",
         "marker": {
          "color": "#636efa",
          "pattern": {
           "shape": ""
          }
         },
         "name": "kmeans",
         "offsetgroup": "kmeans",
         "orientation": "v",
         "showlegend": true,
         "textposition": "auto",
         "type": "bar",
         "x": [
          "0.5",
          "1.0",
          "2.0",
          "4.0",
          "8.0"
         ],
         "xaxis": "x",
         "y": [
          0.8,
          0.7366666666666667,
          0.6233333333333333,
          0.5566666666666666,
          0.49666666666666665
         ],
         "yaxis": "y"
        },
        {
         "alignmentgroup": "True",
         "hovertemplate": "method=GMM<br>sigma=%{x}<br>accuracy=%{y}<extra></extra>",
         "legendgroup": "GMM",
         "marker": {
          "color": "#EF553B",
          "pattern": {
           "shape": ""
          }
         },
         "name": "GMM",
         "offsetgroup": "GMM",
         "orientation": "v",
         "showlegend": true,
         "textposition": "auto",
         "type": "bar",
         "x": [
          "0.5",
          "1.0",
          "2.0",
          "4.0",
          "8.0"
         ],
         "xaxis": "x",
         "y": [
          0.7666666666666667,
          0.69,
          0.5633333333333334,
          0.63,
          0.5966666666666667
         ],
         "yaxis": "y"
        }
       ],
       "layout": {
        "barmode": "group",
        "height": 500,
        "legend": {
         "title": {
          "text": "method"
         },
         "tracegroupgap": 0
        },
        "margin": {
         "t": 60
        },
        "template": {
         "data": {
          "bar": [
           {
            "error_x": {
             "color": "#2a3f5f"
            },
            "error_y": {
             "color": "#2a3f5f"
            },
            "marker": {
             "line": {
              "color": "#E5ECF6",
              "width": 0.5
             },
             "pattern": {
              "fillmode": "overlay",
              "size": 10,
              "solidity": 0.2
             }
            },
            "type": "bar"
           }
          ],
          "barpolar": [
           {
            "marker": {
             "line": {
              "color": "#E5ECF6",
              "width": 0.5
             },
             "pattern": {
              "fillmode": "overlay",
              "size": 10,
              "solidity": 0.2
             }
            },
            "type": "barpolar"
           }
          ],
          "carpet": [
           {
            "aaxis": {
             "endlinecolor": "#2a3f5f",
             "gridcolor": "white",
             "linecolor": "white",
             "minorgridcolor": "white",
             "startlinecolor": "#2a3f5f"
            },
            "baxis": {
             "endlinecolor": "#2a3f5f",
             "gridcolor": "white",
             "linecolor": "white",
             "minorgridcolor": "white",
             "startlinecolor": "#2a3f5f"
            },
            "type": "carpet"
           }
          ],
          "choropleth": [
           {
            "colorbar": {
             "outlinewidth": 0,
             "ticks": ""
            },
            "type": "choropleth"
           }
          ],
          "contour": [
           {
            "colorbar": {
             "outlinewidth": 0,
             "ticks": ""
            },
            "colorscale": [
             [
              0,
              "#0d0887"
             ],
             [
              0.1111111111111111,
              "#46039f"
             ],
             [
              0.2222222222222222,
              "#7201a8"
             ],
             [
              0.3333333333333333,
              "#9c179e"
             ],
             [
              0.4444444444444444,
              "#bd3786"
             ],
             [
              0.5555555555555556,
              "#d8576b"
             ],
             [
              0.6666666666666666,
              "#ed7953"
             ],
             [
              0.7777777777777778,
              "#fb9f3a"
             ],
             [
              0.8888888888888888,
              "#fdca26"
             ],
             [
              1,
              "#f0f921"
             ]
            ],
            "type": "contour"
           }
          ],
          "contourcarpet": [
           {
            "colorbar": {
             "outlinewidth": 0,
             "ticks": ""
            },
            "type": "contourcarpet"
           }
          ],
          "heatmap": [
           {
            "colorbar": {
             "outlinewidth": 0,
             "ticks": ""
            },
            "colorscale": [
             [
              0,
              "#0d0887"
             ],
             [
              0.1111111111111111,
              "#46039f"
             ],
             [
              0.2222222222222222,
              "#7201a8"
             ],
             [
              0.3333333333333333,
              "#9c179e"
             ],
             [
              0.4444444444444444,
              "#bd3786"
             ],
             [
              0.5555555555555556,
              "#d8576b"
             ],
             [
              0.6666666666666666,
              "#ed7953"
             ],
             [
              0.7777777777777778,
              "#fb9f3a"
             ],
             [
              0.8888888888888888,
              "#fdca26"
             ],
             [
              1,
              "#f0f921"
             ]
            ],
            "type": "heatmap"
           }
          ],
          "heatmapgl": [
           {
            "colorbar": {
             "outlinewidth": 0,
             "ticks": ""
            },
            "colorscale": [
             [
              0,
              "#0d0887"
             ],
             [
              0.1111111111111111,
              "#46039f"
             ],
             [
              0.2222222222222222,
              "#7201a8"
             ],
             [
              0.3333333333333333,
              "#9c179e"
             ],
             [
              0.4444444444444444,
              "#bd3786"
             ],
             [
              0.5555555555555556,
              "#d8576b"
             ],
             [
              0.6666666666666666,
              "#ed7953"
             ],
             [
              0.7777777777777778,
              "#fb9f3a"
             ],
             [
              0.8888888888888888,
              "#fdca26"
             ],
             [
              1,
              "#f0f921"
             ]
            ],
            "type": "heatmapgl"
           }
          ],
          "histogram": [
           {
            "marker": {
             "pattern": {
              "fillmode": "overlay",
              "size": 10,
              "solidity": 0.2
             }
            },
            "type": "histogram"
           }
          ],
          "histogram2d": [
           {
            "colorbar": {
             "outlinewidth": 0,
             "ticks": ""
            },
            "colorscale": [
             [
              0,
              "#0d0887"
             ],
             [
              0.1111111111111111,
              "#46039f"
             ],
             [
              0.2222222222222222,
              "#7201a8"
             ],
             [
              0.3333333333333333,
              "#9c179e"
             ],
             [
              0.4444444444444444,
              "#bd3786"
             ],
             [
              0.5555555555555556,
              "#d8576b"
             ],
             [
              0.6666666666666666,
              "#ed7953"
             ],
             [
              0.7777777777777778,
              "#fb9f3a"
             ],
             [
              0.8888888888888888,
              "#fdca26"
             ],
             [
              1,
              "#f0f921"
             ]
            ],
            "type": "histogram2d"
           }
          ],
          "histogram2dcontour": [
           {
            "colorbar": {
             "outlinewidth": 0,
             "ticks": ""
            },
            "colorscale": [
             [
              0,
              "#0d0887"
             ],
             [
              0.1111111111111111,
              "#46039f"
             ],
             [
              0.2222222222222222,
              "#7201a8"
             ],
             [
              0.3333333333333333,
              "#9c179e"
             ],
             [
              0.4444444444444444,
              "#bd3786"
             ],
             [
              0.5555555555555556,
              "#d8576b"
             ],
             [
              0.6666666666666666,
              "#ed7953"
             ],
             [
              0.7777777777777778,
              "#fb9f3a"
             ],
             [
              0.8888888888888888,
              "#fdca26"
             ],
             [
              1,
              "#f0f921"
             ]
            ],
            "type": "histogram2dcontour"
           }
          ],
          "mesh3d": [
           {
            "colorbar": {
             "outlinewidth": 0,
             "ticks": ""
            },
            "type": "mesh3d"
           }
          ],
          "parcoords": [
           {
            "line": {
             "colorbar": {
              "outlinewidth": 0,
              "ticks": ""
             }
            },
            "type": "parcoords"
           }
          ],
          "pie": [
           {
            "automargin": true,
            "type": "pie"
           }
          ],
          "scatter": [
           {
            "fillpattern": {
             "fillmode": "overlay",
             "size": 10,
             "solidity": 0.2
            },
            "type": "scatter"
           }
          ],
          "scatter3d": [
           {
            "line": {
             "colorbar": {
              "outlinewidth": 0,
              "ticks": ""
             }
            },
            "marker": {
             "colorbar": {
              "outlinewidth": 0,
              "ticks": ""
             }
            },
            "type": "scatter3d"
           }
          ],
          "scattercarpet": [
           {
            "marker": {
             "colorbar": {
              "outlinewidth": 0,
              "ticks": ""
             }
            },
            "type": "scattercarpet"
           }
          ],
          "scattergeo": [
           {
            "marker": {
             "colorbar": {
              "outlinewidth": 0,
              "ticks": ""
             }
            },
            "type": "scattergeo"
           }
          ],
          "scattergl": [
           {
            "marker": {
             "colorbar": {
              "outlinewidth": 0,
              "ticks": ""
             }
            },
            "type": "scattergl"
           }
          ],
          "scattermapbox": [
           {
            "marker": {
             "colorbar": {
              "outlinewidth": 0,
              "ticks": ""
             }
            },
            "type": "scattermapbox"
           }
          ],
          "scatterpolar": [
           {
            "marker": {
             "colorbar": {
              "outlinewidth": 0,
              "ticks": ""
             }
            },
            "type": "scatterpolar"
           }
          ],
          "scatterpolargl": [
           {
            "marker": {
             "colorbar": {
              "outlinewidth": 0,
              "ticks": ""
             }
            },
            "type": "scatterpolargl"
           }
          ],
          "scatterternary": [
           {
            "marker": {
             "colorbar": {
              "outlinewidth": 0,
              "ticks": ""
             }
            },
            "type": "scatterternary"
           }
          ],
          "surface": [
           {
            "colorbar": {
             "outlinewidth": 0,
             "ticks": ""
            },
            "colorscale": [
             [
              0,
              "#0d0887"
             ],
             [
              0.1111111111111111,
              "#46039f"
             ],
             [
              0.2222222222222222,
              "#7201a8"
             ],
             [
              0.3333333333333333,
              "#9c179e"
             ],
             [
              0.4444444444444444,
              "#bd3786"
             ],
             [
              0.5555555555555556,
              "#d8576b"
             ],
             [
              0.6666666666666666,
              "#ed7953"
             ],
             [
              0.7777777777777778,
              "#fb9f3a"
             ],
             [
              0.8888888888888888,
              "#fdca26"
             ],
             [
              1,
              "#f0f921"
             ]
            ],
            "type": "surface"
           }
          ],
          "table": [
           {
            "cells": {
             "fill": {
              "color": "#EBF0F8"
             },
             "line": {
              "color": "white"
             }
            },
            "header": {
             "fill": {
              "color": "#C8D4E3"
             },
             "line": {
              "color": "white"
             }
            },
            "type": "table"
           }
          ]
         },
         "layout": {
          "annotationdefaults": {
           "arrowcolor": "#2a3f5f",
           "arrowhead": 0,
           "arrowwidth": 1
          },
          "autotypenumbers": "strict",
          "coloraxis": {
           "colorbar": {
            "outlinewidth": 0,
            "ticks": ""
           }
          },
          "colorscale": {
           "diverging": [
            [
             0,
             "#8e0152"
            ],
            [
             0.1,
             "#c51b7d"
            ],
            [
             0.2,
             "#de77ae"
            ],
            [
             0.3,
             "#f1b6da"
            ],
            [
             0.4,
             "#fde0ef"
            ],
            [
             0.5,
             "#f7f7f7"
            ],
            [
             0.6,
             "#e6f5d0"
            ],
            [
             0.7,
             "#b8e186"
            ],
            [
             0.8,
             "#7fbc41"
            ],
            [
             0.9,
             "#4d9221"
            ],
            [
             1,
             "#276419"
            ]
           ],
           "sequential": [
            [
             0,
             "#0d0887"
            ],
            [
             0.1111111111111111,
             "#46039f"
            ],
            [
             0.2222222222222222,
             "#7201a8"
            ],
            [
             0.3333333333333333,
             "#9c179e"
            ],
            [
             0.4444444444444444,
             "#bd3786"
            ],
            [
             0.5555555555555556,
             "#d8576b"
            ],
            [
             0.6666666666666666,
             "#ed7953"
            ],
            [
             0.7777777777777778,
             "#fb9f3a"
            ],
            [
             0.8888888888888888,
             "#fdca26"
            ],
            [
             1,
             "#f0f921"
            ]
           ],
           "sequentialminus": [
            [
             0,
             "#0d0887"
            ],
            [
             0.1111111111111111,
             "#46039f"
            ],
            [
             0.2222222222222222,
             "#7201a8"
            ],
            [
             0.3333333333333333,
             "#9c179e"
            ],
            [
             0.4444444444444444,
             "#bd3786"
            ],
            [
             0.5555555555555556,
             "#d8576b"
            ],
            [
             0.6666666666666666,
             "#ed7953"
            ],
            [
             0.7777777777777778,
             "#fb9f3a"
            ],
            [
             0.8888888888888888,
             "#fdca26"
            ],
            [
             1,
             "#f0f921"
            ]
           ]
          },
          "colorway": [
           "#636efa",
           "#EF553B",
           "#00cc96",
           "#ab63fa",
           "#FFA15A",
           "#19d3f3",
           "#FF6692",
           "#B6E880",
           "#FF97FF",
           "#FECB52"
          ],
          "font": {
           "color": "#2a3f5f"
          },
          "geo": {
           "bgcolor": "white",
           "lakecolor": "white",
           "landcolor": "#E5ECF6",
           "showlakes": true,
           "showland": true,
           "subunitcolor": "white"
          },
          "hoverlabel": {
           "align": "left"
          },
          "hovermode": "closest",
          "mapbox": {
           "style": "light"
          },
          "paper_bgcolor": "white",
          "plot_bgcolor": "#E5ECF6",
          "polar": {
           "angularaxis": {
            "gridcolor": "white",
            "linecolor": "white",
            "ticks": ""
           },
           "bgcolor": "#E5ECF6",
           "radialaxis": {
            "gridcolor": "white",
            "linecolor": "white",
            "ticks": ""
           }
          },
          "scene": {
           "xaxis": {
            "backgroundcolor": "#E5ECF6",
            "gridcolor": "white",
            "gridwidth": 2,
            "linecolor": "white",
            "showbackground": true,
            "ticks": "",
            "zerolinecolor": "white"
           },
           "yaxis": {
            "backgroundcolor": "#E5ECF6",
            "gridcolor": "white",
            "gridwidth": 2,
            "linecolor": "white",
            "showbackground": true,
            "ticks": "",
            "zerolinecolor": "white"
           },
           "zaxis": {
            "backgroundcolor": "#E5ECF6",
            "gridcolor": "white",
            "gridwidth": 2,
            "linecolor": "white",
            "showbackground": true,
            "ticks": "",
            "zerolinecolor": "white"
           }
          },
          "shapedefaults": {
           "line": {
            "color": "#2a3f5f"
           }
          },
          "ternary": {
           "aaxis": {
            "gridcolor": "white",
            "linecolor": "white",
            "ticks": ""
           },
           "baxis": {
            "gridcolor": "white",
            "linecolor": "white",
            "ticks": ""
           },
           "bgcolor": "#E5ECF6",
           "caxis": {
            "gridcolor": "white",
            "linecolor": "white",
            "ticks": ""
           }
          },
          "title": {
           "x": 0.05
          },
          "xaxis": {
           "automargin": true,
           "gridcolor": "white",
           "linecolor": "white",
           "ticks": "",
           "title": {
            "standoff": 15
           },
           "zerolinecolor": "white",
           "zerolinewidth": 2
          },
          "yaxis": {
           "automargin": true,
           "gridcolor": "white",
           "linecolor": "white",
           "ticks": "",
           "title": {
            "standoff": 15
           },
           "zerolinecolor": "white",
           "zerolinewidth": 2
          }
         }
        },
        "width": 600,
        "xaxis": {
         "anchor": "y",
         "domain": [
          0,
          1
         ],
         "title": {
          "text": "sigma"
         }
        },
        "yaxis": {
         "anchor": "x",
         "domain": [
          0,
          1
         ],
         "title": {
          "text": "accuracy"
         }
        }
       }
      }
     },
     "metadata": {},
     "output_type": "display_data"
    }
   ],
   "source": [
    "# plot evals\n",
    "evals[\"sigma\"] = evals[\"sigma\"].astype(str)\n",
    "fig = px.bar(evals, x=\"method\", y=\"objective\", color=\"sigma\", barmode=\"group\")\n",
    "fig.update_layout(height=500, width=600)\n",
    "fig.show()\n",
    "\n",
    "fig = px.bar(evals, x=\"sigma\", y=\"accuracy\", color=\"method\", barmode=\"group\")\n",
    "fig.update_layout(height=500, width=600)\n",
    "fig.show()"
   ]
  },
  {
   "cell_type": "markdown",
   "metadata": {},
   "source": [
    "# 2.3"
   ]
  },
  {
   "cell_type": "code",
   "execution_count": 132,
   "metadata": {},
   "outputs": [],
   "source": [
    "# implement PCA & demeaned PCA\n",
    "def PCA(X, d, preprocess=None):\n",
    "    # X: n * D\n",
    "    if preprocess == \"demean\":\n",
    "        # demean X\n",
    "        X_ = X - np.mean(X, axis=0)\n",
    "    elif preprocess == \"normalize\":\n",
    "        # normalize X\n",
    "        X_ = (X - np.mean(X, axis=0)) / np.std(X, axis=0)\n",
    "    else:\n",
    "        X_ = X\n",
    "    # svd\n",
    "    U, S, Vt = np.linalg.svd(X_)\n",
    "    # choose singular values and vectors\n",
    "    S_d = np.diag(S[:d])\n",
    "    Vt_d = Vt[:d, :]\n",
    "    # get the scores\n",
    "    Z = U[:, :d] @ S_d\n",
    "    # Compute the reconstructions in D dimensions\n",
    "    X_re = Z @ Vt_d\n",
    "    # reverse\n",
    "    if preprocess == \"demean\":\n",
    "        X_re = X_re + np.mean(X, axis=0)\n",
    "    elif preprocess == \"normalize\":\n",
    "        X_re = X_re * np.std(X, axis=0) + np.mean(X, axis=0)\n",
    "    return Z, S_d, Vt_d, X_re"
   ]
  },
  {
   "cell_type": "code",
   "execution_count": 369,
   "metadata": {},
   "outputs": [],
   "source": [
    "# implement DRO\n",
    "def DRO(X, d):\n",
    "    n = X.shape[0]\n",
    "    coef = np.eye(n) - np.ones([n, 1]) @ np.ones([1, n]) / n\n",
    "\n",
    "    # get b\n",
    "    b = X.T @ np.ones([n, 1]) / n\n",
    "    Y = coef @ X\n",
    "\n",
    "    # low rank approximation\n",
    "    U, S, Vt = np.linalg.svd(Y)\n",
    "    S_d = np.diag(S[:d])\n",
    "    Vt_d = Vt[:d, :]\n",
    "\n",
    "    # compute the reconstructions\n",
    "    Y_d = U[:, :d] @ S_d @ Vt_d\n",
    "\n",
    "    # restore\n",
    "    X_res = Y_d + np.ones([n, 1]) @ b.T\n",
    "    Z = U[:, :d] @ S_d\n",
    "    A = Vt_d.T\n",
    "    \n",
    "    return Z, S_d, A, X_res"
   ]
  },
  {
   "cell_type": "code",
   "execution_count": 370,
   "metadata": {},
   "outputs": [],
   "source": [
    "# read data\n",
    "data2D = pd.read_csv(\n",
    "    r\"C:\\Users\\Zheng\\OneDrive - UW-Madison\\PhD project\\Coursework\\CS760\\hw5\\data\\data2D.csv\",\n",
    "    header=None,\n",
    ").to_numpy()\n",
    "data1000D = pd.read_csv(\n",
    "    r\"C:\\Users\\Zheng\\OneDrive - UW-Madison\\PhD project\\Coursework\\CS760\\hw5\\data\\data1000D.csv\",\n",
    "    header=None,\n",
    ").to_numpy()"
   ]
  },
  {
   "cell_type": "code",
   "execution_count": 381,
   "metadata": {},
   "outputs": [
    {
     "data": {
      "application/vnd.plotly.v1+json": {
       "config": {
        "plotlyServerURL": "https://plot.ly"
       },
       "data": [
        {
         "type": "scatter",
         "x": [
          1,
          2,
          3,
          4,
          5,
          6,
          7,
          8,
          9,
          10,
          11,
          12,
          13,
          14,
          15,
          16,
          17,
          18,
          19,
          20,
          21,
          22,
          23,
          24,
          25,
          26,
          27,
          28,
          29,
          30,
          31,
          32,
          33,
          34,
          35,
          36,
          37,
          38,
          39,
          40,
          41,
          42,
          43,
          44,
          45,
          46,
          47,
          48,
          49,
          50,
          51,
          52,
          53,
          54,
          55,
          56,
          57,
          58,
          59,
          60,
          61,
          62,
          63,
          64,
          65,
          66,
          67,
          68,
          69,
          70,
          71,
          72,
          73,
          74,
          75,
          76,
          77,
          78,
          79,
          80,
          81,
          82,
          83,
          84,
          85,
          86,
          87,
          88,
          89,
          90,
          91,
          92,
          93,
          94,
          95,
          96,
          97,
          98,
          99
         ],
         "y": [
          906.944617745142,
          899.3471833121864,
          856.0762832900846,
          821.124898664819,
          820.9419085341079,
          809.7251028635453,
          778.2870252027908,
          754.7479259919148,
          752.0253215149329,
          740.945148111018,
          737.3119092136541,
          725.3172728188442,
          703.7143525510103,
          689.2231487738293,
          685.7074052785813,
          681.0734858033547,
          670.6490995987555,
          660.4041430910024,
          651.8428052619532,
          641.349697262696,
          632.3731219310865,
          613.8644072854297,
          605.8680332221169,
          593.5713219909873,
          578.3472284195088,
          571.3687305185758,
          562.8865493374688,
          557.5354286958012,
          541.1008412778774,
          514.7860131284448,
          28.725900832948394,
          28.512073865527686,
          28.195950787960676,
          28.056046197283752,
          27.999141013190314,
          27.78243982199578,
          27.701762096558248,
          27.52869482437995,
          27.493659387146945,
          27.440157124838414,
          27.2902561872516,
          27.249234252205024,
          27.135008432118486,
          27.08419839642474,
          26.91417353066015,
          26.86929377680763,
          26.739613656362682,
          26.70878640726037,
          26.53927759779486,
          26.487742030294655,
          26.457012536582106,
          26.39733906260652,
          26.33383700078876,
          26.248627722248575,
          26.09613979608063,
          26.06343309723016,
          25.913394904460407,
          25.909698124408763,
          25.806199209354485,
          25.789373640551077,
          25.73280487711772,
          25.65640973078431,
          25.624668520369323,
          25.534344488995554,
          25.393557534873615,
          25.346683183046242,
          25.294821241371302,
          25.19975385115795,
          25.11493917921481,
          25.080017375853245,
          25.057631140017815,
          24.982059435805084,
          24.896404580367626,
          24.799769545063125,
          24.76120131828073,
          24.70996329249791,
          24.657189532532463,
          24.56422341206165,
          24.46563080719601,
          24.41647720106069,
          24.36691097061723,
          24.308442613832874,
          24.25230602073166,
          24.118500329074134,
          24.105082715947123,
          24.073756187631165,
          23.9625043884963,
          23.9247574235415,
          23.840728333150004,
          23.82076433514822,
          23.725259751412906,
          23.640678672216136,
          23.596172573317464,
          23.535609451229845,
          23.520185938067442,
          23.47137446199848,
          23.406067830758193,
          23.39692573473633,
          23.36110013183316,
          23.215105086150416,
          23.183274316830047,
          23.10990880045943,
          23.069285016679363,
          22.95255540622773,
          22.934147164493375,
          22.924638849400786,
          22.85874292243649,
          22.795179372080955,
          22.76046865413789,
          22.652925689575177,
          22.610082271975067,
          22.566578826994714,
          22.511768457907415,
          22.474839249279135,
          22.46890832621153,
          22.395706661472357,
          22.320321051202868,
          22.26154117693498,
          22.164806863430293,
          22.110296779934117,
          22.077691063241627,
          22.031752328681463,
          21.951599265853808,
          21.9408916617517,
          21.880670416727323,
          21.84447600640223,
          21.772883710510097,
          21.756193026671795,
          21.693571294113063,
          21.620755037898338,
          21.580759853265167,
          21.53732294728207,
          21.510281391351953,
          21.467830734554774,
          21.402536969963535,
          21.275070241878613,
          21.213177236348876,
          21.160886746776296,
          21.146786339711444,
          21.120397629955267,
          21.05260239406879,
          20.992689281628778,
          20.968793546715297,
          20.949587937349033,
          20.876749996957887,
          20.785429765137632,
          20.76905580629554,
          20.72302259237162,
          20.694764123913448,
          20.595741899134087,
          20.555150060154965,
          20.535170213279667,
          20.440689921046353,
          20.37878474136283,
          20.32897256222167,
          20.29253115262819,
          20.265202192507243,
          20.230496812801643,
          20.187796028876217,
          20.182986192996314,
          20.065231324390602,
          20.0400086884587,
          20.005224090477288,
          19.95921945817172,
          19.8831261550033,
          19.872000830762087,
          19.850734403418016,
          19.814860694471818,
          19.756409686128993,
          19.682332766777794,
          19.651630788012096,
          19.600701482335,
          19.556121275958386,
          19.525148833902932,
          19.510707187316836,
          19.389152562262954,
          19.34079590588162,
          19.3171613770405,
          19.269279613137297,
          19.22914241077833,
          19.116021797979972,
          19.1042512229389,
          19.076422038353954,
          19.003766894341684,
          18.99139724277663,
          18.970204051301696,
          18.915187044537422,
          18.880803572177904,
          18.817367380613188,
          18.79946020375508,
          18.707439076974836,
          18.669798454022285,
          18.642809465106602,
          18.58266475598512,
          18.57198442409816,
          18.556492412725817,
          18.474869988792342,
          18.441221774004415,
          18.41867528887834,
          18.375652352374793,
          18.302148320682598,
          18.24990326561413,
          18.188917615659232,
          18.143970121743887,
          18.116528244008943,
          18.04393148191071,
          18.007851727660913,
          17.98081244437915,
          17.935402671701713,
          17.92319779740212,
          17.89970146843831,
          17.787733198991504,
          17.759207648002054,
          17.720024549371075,
          17.710984024480485,
          17.65726388381472,
          17.611191135220807,
          17.554186926760323,
          17.517772144950467,
          17.445893066711278,
          17.431187370859245,
          17.355096262415096,
          17.324076468020614,
          17.255610750549017,
          17.236951200288306,
          17.19964469407097,
          17.1879388959716,
          17.141706078171207,
          17.113708608706006,
          17.076242622438926,
          16.983922418042198,
          16.953306223580725,
          16.921280154967555,
          16.884132025923936,
          16.835303574312874,
          16.815296023096636,
          16.79358006719856,
          16.770553408690144,
          16.702586624232286,
          16.67530451182952,
          16.659157092254528,
          16.589039043994187,
          16.545046602110556,
          16.48940903456896,
          16.456887651362905,
          16.423228826880198,
          16.402442597520626,
          16.334222637465533,
          16.297475833630813,
          16.26213245490081,
          16.181362947228592,
          16.1486717929687,
          16.082384587767237,
          16.057801256177424,
          15.993181086926636,
          15.97107721905469,
          15.902617731917239,
          15.843977162430194,
          15.803202974205536,
          15.792543865730623,
          15.700316278989485,
          15.654543091644037,
          15.618457045596012,
          15.61117207618504,
          15.570273754133014,
          15.495090767932334,
          15.470126190690275,
          15.44109569500019,
          15.401901100085038,
          15.383712343871059,
          15.327678581476125,
          15.26254275787715,
          15.239612538794255,
          15.184792901670063,
          15.138848970259764,
          15.112716297579437,
          15.048214409776099,
          15.036320680631029,
          14.984958838679209,
          14.947354170251954,
          14.931062369686233,
          14.87825393152698,
          14.824330895480907,
          14.80472051295227,
          14.7398040199225,
          14.713688905714353,
          14.686528700482686,
          14.668733795606197,
          14.62485635718045,
          14.591788868172529,
          14.579424759927546,
          14.548305925924288,
          14.477976136214147,
          14.406916550266123,
          14.379970999107602,
          14.336080188588816,
          14.292883299337307,
          14.253671590907542,
          14.203238236721031,
          14.180497112939978,
          14.138340128851036,
          14.09755385508619,
          14.062213735092365,
          14.00217088363359,
          13.942936659320909,
          13.924761070340283,
          13.894957363306663,
          13.839183509697392,
          13.833169321249224,
          13.791224330269317,
          13.75596402993859,
          13.745780371762605,
          13.694830163708271,
          13.645289899789388,
          13.597449057915224,
          13.570690256628318,
          13.53760737319783,
          13.487360481390393,
          13.44308027924102,
          13.404665199554035,
          13.352494565884403,
          13.304925549222988,
          13.267612515671098,
          13.240163431532745,
          13.184060495478299,
          13.132846102756679,
          13.085285176319747,
          13.073384941638736,
          12.99074126655912,
          12.954584300381311,
          12.935945793653858,
          12.865926204510258,
          12.85167630150933,
          12.809147439598885,
          12.735971648964721,
          12.703046058960073,
          12.64313229405199,
          12.59920823636423,
          12.576549705768143,
          12.542614289916536,
          12.514733008935675,
          12.493057149651797,
          12.450556164526159,
          12.431432951146,
          12.389211822789932,
          12.340771433728431,
          12.316436124405795,
          12.302823059970814,
          12.220281088372317,
          12.210418291684043,
          12.139295000654908,
          12.110827893666139,
          12.057824226989164,
          12.034543297620404,
          11.993381392804757,
          11.952039880198988,
          11.909436585832285,
          11.902222861117625,
          11.873178143062766,
          11.830139569935676,
          11.81917586984357,
          11.744866570044476,
          11.691437493688012,
          11.655128359818645,
          11.582618606273256,
          11.574658170787197,
          11.504577637668325,
          11.470175278302191,
          11.443391197000777,
          11.404298307633516,
          11.358575752510395,
          11.32597134268862,
          11.265042100514915,
          11.239105679333933,
          11.21834521874327,
          11.182060481260683,
          11.134153316422868,
          11.103568643358395,
          11.079948372781425,
          11.03725520931191,
          10.996735639578784,
          10.959474434326282,
          10.939394257609031,
          10.902175843228674,
          10.836732757485505,
          10.769437138251424,
          10.710828358454282,
          10.70615440973822,
          10.673553745913283,
          10.589831447655294,
          10.553834983514205,
          10.526499262040469,
          10.496889374702878,
          10.439123829574122,
          10.406677980593914,
          10.353620355648076,
          10.32750928527605,
          10.27240439432494,
          10.23919987578214,
          10.1660448420783,
          10.14335839523566,
          10.132434855460513,
          10.06093192872754,
          10.028189367425746,
          10.000352055950568,
          9.960448073511055,
          9.94257693923905,
          9.892494330702222,
          9.839189158501366,
          9.819206877481626,
          9.780615389602778,
          9.755263640771258,
          9.679947137334997,
          9.669766549573614,
          9.615148581679497,
          9.572590373336613,
          9.551073572155008,
          9.489910714231636,
          9.39562009392598,
          9.35189089469318,
          9.308081386315793,
          9.27547104357478,
          9.23947005457887,
          9.200644078903306,
          9.176817002662453,
          9.128151516341964,
          9.067152316675584,
          9.026183533000085,
          8.993411033284266,
          8.9476346301606,
          8.931180688968857,
          8.873596239369165,
          8.867265503846564,
          8.782662936974102,
          8.758014682029488,
          8.712274052220756,
          8.694789934004998,
          8.676250762584282,
          8.623252444095598,
          8.582538749567764,
          8.559627670214278,
          8.51562776945599,
          8.419227561815786,
          8.36282361559898,
          8.332911504311381,
          8.321955960271602,
          8.266553319552264,
          8.222754246849666,
          8.167220256018206,
          8.119399078230943,
          8.09787599596648,
          8.0389397276656,
          7.99864887377301,
          7.964529903548438,
          7.900007871915426,
          7.836056670970633,
          7.829959910945125,
          7.765545367063748,
          7.709029654379987,
          7.6872295342866,
          7.6310882630857275,
          7.59889402441719,
          7.537073407493166,
          7.499375365874029,
          7.477757243803945,
          7.470607541628633,
          7.395467949087877,
          7.31471139228095,
          7.260274743025825,
          7.224929964221979,
          7.15016479978474,
          7.107220489842287,
          7.052739628228706,
          7.020426118683508,
          6.974015610456849,
          6.940168775653115,
          6.882157666226475,
          6.852368028170365,
          6.779719904219564,
          6.7090637826479576,
          6.688957961878217,
          6.619219555397825,
          6.525480403812136,
          6.498268348436457,
          6.466918389460751,
          6.324776379740537,
          6.294928208798434,
          6.235214982468396,
          6.191825371065913,
          6.152040203223862,
          6.121667730908037,
          6.0104188885453675,
          5.950050748357816,
          5.938606195998275,
          5.81846655920581,
          5.702273282705485,
          5.53928153593263,
          5.49652660674235,
          5.324526061013667,
          1.9424263029378884e-12
         ]
        }
       ],
       "layout": {
        "annotations": [
         {
          "font": {
           "color": "black",
           "size": 16
          },
          "showarrow": true,
          "text": "d=30, S=514.79",
          "x": 30,
          "y": 514.7860131284448
         },
         {
          "font": {
           "color": "black",
           "size": 16
          },
          "showarrow": true,
          "text": "d=31, S=28.73",
          "x": 31,
          "y": 28.725900832948394
         }
        ],
        "height": 500,
        "template": {
         "data": {
          "bar": [
           {
            "error_x": {
             "color": "#2a3f5f"
            },
            "error_y": {
             "color": "#2a3f5f"
            },
            "marker": {
             "line": {
              "color": "#E5ECF6",
              "width": 0.5
             },
             "pattern": {
              "fillmode": "overlay",
              "size": 10,
              "solidity": 0.2
             }
            },
            "type": "bar"
           }
          ],
          "barpolar": [
           {
            "marker": {
             "line": {
              "color": "#E5ECF6",
              "width": 0.5
             },
             "pattern": {
              "fillmode": "overlay",
              "size": 10,
              "solidity": 0.2
             }
            },
            "type": "barpolar"
           }
          ],
          "carpet": [
           {
            "aaxis": {
             "endlinecolor": "#2a3f5f",
             "gridcolor": "white",
             "linecolor": "white",
             "minorgridcolor": "white",
             "startlinecolor": "#2a3f5f"
            },
            "baxis": {
             "endlinecolor": "#2a3f5f",
             "gridcolor": "white",
             "linecolor": "white",
             "minorgridcolor": "white",
             "startlinecolor": "#2a3f5f"
            },
            "type": "carpet"
           }
          ],
          "choropleth": [
           {
            "colorbar": {
             "outlinewidth": 0,
             "ticks": ""
            },
            "type": "choropleth"
           }
          ],
          "contour": [
           {
            "colorbar": {
             "outlinewidth": 0,
             "ticks": ""
            },
            "colorscale": [
             [
              0,
              "#0d0887"
             ],
             [
              0.1111111111111111,
              "#46039f"
             ],
             [
              0.2222222222222222,
              "#7201a8"
             ],
             [
              0.3333333333333333,
              "#9c179e"
             ],
             [
              0.4444444444444444,
              "#bd3786"
             ],
             [
              0.5555555555555556,
              "#d8576b"
             ],
             [
              0.6666666666666666,
              "#ed7953"
             ],
             [
              0.7777777777777778,
              "#fb9f3a"
             ],
             [
              0.8888888888888888,
              "#fdca26"
             ],
             [
              1,
              "#f0f921"
             ]
            ],
            "type": "contour"
           }
          ],
          "contourcarpet": [
           {
            "colorbar": {
             "outlinewidth": 0,
             "ticks": ""
            },
            "type": "contourcarpet"
           }
          ],
          "heatmap": [
           {
            "colorbar": {
             "outlinewidth": 0,
             "ticks": ""
            },
            "colorscale": [
             [
              0,
              "#0d0887"
             ],
             [
              0.1111111111111111,
              "#46039f"
             ],
             [
              0.2222222222222222,
              "#7201a8"
             ],
             [
              0.3333333333333333,
              "#9c179e"
             ],
             [
              0.4444444444444444,
              "#bd3786"
             ],
             [
              0.5555555555555556,
              "#d8576b"
             ],
             [
              0.6666666666666666,
              "#ed7953"
             ],
             [
              0.7777777777777778,
              "#fb9f3a"
             ],
             [
              0.8888888888888888,
              "#fdca26"
             ],
             [
              1,
              "#f0f921"
             ]
            ],
            "type": "heatmap"
           }
          ],
          "heatmapgl": [
           {
            "colorbar": {
             "outlinewidth": 0,
             "ticks": ""
            },
            "colorscale": [
             [
              0,
              "#0d0887"
             ],
             [
              0.1111111111111111,
              "#46039f"
             ],
             [
              0.2222222222222222,
              "#7201a8"
             ],
             [
              0.3333333333333333,
              "#9c179e"
             ],
             [
              0.4444444444444444,
              "#bd3786"
             ],
             [
              0.5555555555555556,
              "#d8576b"
             ],
             [
              0.6666666666666666,
              "#ed7953"
             ],
             [
              0.7777777777777778,
              "#fb9f3a"
             ],
             [
              0.8888888888888888,
              "#fdca26"
             ],
             [
              1,
              "#f0f921"
             ]
            ],
            "type": "heatmapgl"
           }
          ],
          "histogram": [
           {
            "marker": {
             "pattern": {
              "fillmode": "overlay",
              "size": 10,
              "solidity": 0.2
             }
            },
            "type": "histogram"
           }
          ],
          "histogram2d": [
           {
            "colorbar": {
             "outlinewidth": 0,
             "ticks": ""
            },
            "colorscale": [
             [
              0,
              "#0d0887"
             ],
             [
              0.1111111111111111,
              "#46039f"
             ],
             [
              0.2222222222222222,
              "#7201a8"
             ],
             [
              0.3333333333333333,
              "#9c179e"
             ],
             [
              0.4444444444444444,
              "#bd3786"
             ],
             [
              0.5555555555555556,
              "#d8576b"
             ],
             [
              0.6666666666666666,
              "#ed7953"
             ],
             [
              0.7777777777777778,
              "#fb9f3a"
             ],
             [
              0.8888888888888888,
              "#fdca26"
             ],
             [
              1,
              "#f0f921"
             ]
            ],
            "type": "histogram2d"
           }
          ],
          "histogram2dcontour": [
           {
            "colorbar": {
             "outlinewidth": 0,
             "ticks": ""
            },
            "colorscale": [
             [
              0,
              "#0d0887"
             ],
             [
              0.1111111111111111,
              "#46039f"
             ],
             [
              0.2222222222222222,
              "#7201a8"
             ],
             [
              0.3333333333333333,
              "#9c179e"
             ],
             [
              0.4444444444444444,
              "#bd3786"
             ],
             [
              0.5555555555555556,
              "#d8576b"
             ],
             [
              0.6666666666666666,
              "#ed7953"
             ],
             [
              0.7777777777777778,
              "#fb9f3a"
             ],
             [
              0.8888888888888888,
              "#fdca26"
             ],
             [
              1,
              "#f0f921"
             ]
            ],
            "type": "histogram2dcontour"
           }
          ],
          "mesh3d": [
           {
            "colorbar": {
             "outlinewidth": 0,
             "ticks": ""
            },
            "type": "mesh3d"
           }
          ],
          "parcoords": [
           {
            "line": {
             "colorbar": {
              "outlinewidth": 0,
              "ticks": ""
             }
            },
            "type": "parcoords"
           }
          ],
          "pie": [
           {
            "automargin": true,
            "type": "pie"
           }
          ],
          "scatter": [
           {
            "fillpattern": {
             "fillmode": "overlay",
             "size": 10,
             "solidity": 0.2
            },
            "type": "scatter"
           }
          ],
          "scatter3d": [
           {
            "line": {
             "colorbar": {
              "outlinewidth": 0,
              "ticks": ""
             }
            },
            "marker": {
             "colorbar": {
              "outlinewidth": 0,
              "ticks": ""
             }
            },
            "type": "scatter3d"
           }
          ],
          "scattercarpet": [
           {
            "marker": {
             "colorbar": {
              "outlinewidth": 0,
              "ticks": ""
             }
            },
            "type": "scattercarpet"
           }
          ],
          "scattergeo": [
           {
            "marker": {
             "colorbar": {
              "outlinewidth": 0,
              "ticks": ""
             }
            },
            "type": "scattergeo"
           }
          ],
          "scattergl": [
           {
            "marker": {
             "colorbar": {
              "outlinewidth": 0,
              "ticks": ""
             }
            },
            "type": "scattergl"
           }
          ],
          "scattermapbox": [
           {
            "marker": {
             "colorbar": {
              "outlinewidth": 0,
              "ticks": ""
             }
            },
            "type": "scattermapbox"
           }
          ],
          "scatterpolar": [
           {
            "marker": {
             "colorbar": {
              "outlinewidth": 0,
              "ticks": ""
             }
            },
            "type": "scatterpolar"
           }
          ],
          "scatterpolargl": [
           {
            "marker": {
             "colorbar": {
              "outlinewidth": 0,
              "ticks": ""
             }
            },
            "type": "scatterpolargl"
           }
          ],
          "scatterternary": [
           {
            "marker": {
             "colorbar": {
              "outlinewidth": 0,
              "ticks": ""
             }
            },
            "type": "scatterternary"
           }
          ],
          "surface": [
           {
            "colorbar": {
             "outlinewidth": 0,
             "ticks": ""
            },
            "colorscale": [
             [
              0,
              "#0d0887"
             ],
             [
              0.1111111111111111,
              "#46039f"
             ],
             [
              0.2222222222222222,
              "#7201a8"
             ],
             [
              0.3333333333333333,
              "#9c179e"
             ],
             [
              0.4444444444444444,
              "#bd3786"
             ],
             [
              0.5555555555555556,
              "#d8576b"
             ],
             [
              0.6666666666666666,
              "#ed7953"
             ],
             [
              0.7777777777777778,
              "#fb9f3a"
             ],
             [
              0.8888888888888888,
              "#fdca26"
             ],
             [
              1,
              "#f0f921"
             ]
            ],
            "type": "surface"
           }
          ],
          "table": [
           {
            "cells": {
             "fill": {
              "color": "#EBF0F8"
             },
             "line": {
              "color": "white"
             }
            },
            "header": {
             "fill": {
              "color": "#C8D4E3"
             },
             "line": {
              "color": "white"
             }
            },
            "type": "table"
           }
          ]
         },
         "layout": {
          "annotationdefaults": {
           "arrowcolor": "#2a3f5f",
           "arrowhead": 0,
           "arrowwidth": 1
          },
          "autotypenumbers": "strict",
          "coloraxis": {
           "colorbar": {
            "outlinewidth": 0,
            "ticks": ""
           }
          },
          "colorscale": {
           "diverging": [
            [
             0,
             "#8e0152"
            ],
            [
             0.1,
             "#c51b7d"
            ],
            [
             0.2,
             "#de77ae"
            ],
            [
             0.3,
             "#f1b6da"
            ],
            [
             0.4,
             "#fde0ef"
            ],
            [
             0.5,
             "#f7f7f7"
            ],
            [
             0.6,
             "#e6f5d0"
            ],
            [
             0.7,
             "#b8e186"
            ],
            [
             0.8,
             "#7fbc41"
            ],
            [
             0.9,
             "#4d9221"
            ],
            [
             1,
             "#276419"
            ]
           ],
           "sequential": [
            [
             0,
             "#0d0887"
            ],
            [
             0.1111111111111111,
             "#46039f"
            ],
            [
             0.2222222222222222,
             "#7201a8"
            ],
            [
             0.3333333333333333,
             "#9c179e"
            ],
            [
             0.4444444444444444,
             "#bd3786"
            ],
            [
             0.5555555555555556,
             "#d8576b"
            ],
            [
             0.6666666666666666,
             "#ed7953"
            ],
            [
             0.7777777777777778,
             "#fb9f3a"
            ],
            [
             0.8888888888888888,
             "#fdca26"
            ],
            [
             1,
             "#f0f921"
            ]
           ],
           "sequentialminus": [
            [
             0,
             "#0d0887"
            ],
            [
             0.1111111111111111,
             "#46039f"
            ],
            [
             0.2222222222222222,
             "#7201a8"
            ],
            [
             0.3333333333333333,
             "#9c179e"
            ],
            [
             0.4444444444444444,
             "#bd3786"
            ],
            [
             0.5555555555555556,
             "#d8576b"
            ],
            [
             0.6666666666666666,
             "#ed7953"
            ],
            [
             0.7777777777777778,
             "#fb9f3a"
            ],
            [
             0.8888888888888888,
             "#fdca26"
            ],
            [
             1,
             "#f0f921"
            ]
           ]
          },
          "colorway": [
           "#636efa",
           "#EF553B",
           "#00cc96",
           "#ab63fa",
           "#FFA15A",
           "#19d3f3",
           "#FF6692",
           "#B6E880",
           "#FF97FF",
           "#FECB52"
          ],
          "font": {
           "color": "#2a3f5f"
          },
          "geo": {
           "bgcolor": "white",
           "lakecolor": "white",
           "landcolor": "#E5ECF6",
           "showlakes": true,
           "showland": true,
           "subunitcolor": "white"
          },
          "hoverlabel": {
           "align": "left"
          },
          "hovermode": "closest",
          "mapbox": {
           "style": "light"
          },
          "paper_bgcolor": "white",
          "plot_bgcolor": "#E5ECF6",
          "polar": {
           "angularaxis": {
            "gridcolor": "white",
            "linecolor": "white",
            "ticks": ""
           },
           "bgcolor": "#E5ECF6",
           "radialaxis": {
            "gridcolor": "white",
            "linecolor": "white",
            "ticks": ""
           }
          },
          "scene": {
           "xaxis": {
            "backgroundcolor": "#E5ECF6",
            "gridcolor": "white",
            "gridwidth": 2,
            "linecolor": "white",
            "showbackground": true,
            "ticks": "",
            "zerolinecolor": "white"
           },
           "yaxis": {
            "backgroundcolor": "#E5ECF6",
            "gridcolor": "white",
            "gridwidth": 2,
            "linecolor": "white",
            "showbackground": true,
            "ticks": "",
            "zerolinecolor": "white"
           },
           "zaxis": {
            "backgroundcolor": "#E5ECF6",
            "gridcolor": "white",
            "gridwidth": 2,
            "linecolor": "white",
            "showbackground": true,
            "ticks": "",
            "zerolinecolor": "white"
           }
          },
          "shapedefaults": {
           "line": {
            "color": "#2a3f5f"
           }
          },
          "ternary": {
           "aaxis": {
            "gridcolor": "white",
            "linecolor": "white",
            "ticks": ""
           },
           "baxis": {
            "gridcolor": "white",
            "linecolor": "white",
            "ticks": ""
           },
           "bgcolor": "#E5ECF6",
           "caxis": {
            "gridcolor": "white",
            "linecolor": "white",
            "ticks": ""
           }
          },
          "title": {
           "x": 0.05
          },
          "xaxis": {
           "automargin": true,
           "gridcolor": "white",
           "linecolor": "white",
           "ticks": "",
           "title": {
            "standoff": 15
           },
           "zerolinecolor": "white",
           "zerolinewidth": 2
          },
          "yaxis": {
           "automargin": true,
           "gridcolor": "white",
           "linecolor": "white",
           "ticks": "",
           "title": {
            "standoff": 15
           },
           "zerolinecolor": "white",
           "zerolinewidth": 2
          }
         }
        },
        "width": 600
       }
      }
     },
     "metadata": {},
     "output_type": "display_data"
    }
   ],
   "source": [
    "# choose d for data1000D\n",
    "X = data1000D\n",
    "\n",
    "n = X.shape[0]\n",
    "coef = np.eye(n) - np.ones([n, 1]) @ np.ones([1, n]) / n\n",
    "\n",
    "# get b\n",
    "Y = coef @ X\n",
    "\n",
    "# low rank approximation\n",
    "U, S, Vt = np.linalg.svd(Y)\n",
    "    \n",
    "# plot the singular values\n",
    "fig = go.Figure()\n",
    "fig.add_trace(go.Scatter(x=np.arange(1, 100), y=S))\n",
    "fig.update_layout(height=500, width=600)\n",
    "\n",
    "# annotate the elbow point\n",
    "for i in [30, 31]:\n",
    "    fig.add_annotation(\n",
    "        x=i,\n",
    "        y=S[i - 1],\n",
    "        text=\"d=\" + str(i) + \", S=\" + str(round(S[i - 1], 2)),\n",
    "        showarrow=True,\n",
    "        font=dict(size=16, color=\"black\"),\n",
    "    )\n",
    "fig.show()\n"
   ]
  },
  {
   "cell_type": "code",
   "execution_count": 373,
   "metadata": {},
   "outputs": [],
   "source": [
    "# get dimensionality reduction results\n",
    "Zs = []\n",
    "S_ds = []\n",
    "Vt_ds = []\n",
    "X_res = []\n",
    "\n",
    "Z, S_d, Vt_d, X_re = PCA(data2D, d=1)\n",
    "Zs.append(Z)\n",
    "S_ds.append(S_d)\n",
    "Vt_ds.append(Vt_d)\n",
    "X_res.append(X_re)\n",
    "\n",
    "Z, S_d, Vt_d, X_re = PCA(data2D, d=1, preprocess=\"demean\")\n",
    "Zs.append(Z)\n",
    "S_ds.append(S_d)\n",
    "Vt_ds.append(Vt_d)\n",
    "X_res.append(X_re)\n",
    "\n",
    "Z, S_d, Vt_d, X_re = PCA(data2D, d=1, preprocess=\"normalize\")\n",
    "Zs.append(Z)\n",
    "S_ds.append(S_d)\n",
    "Vt_ds.append(Vt_d)\n",
    "X_res.append(X_re)\n",
    "\n",
    "\n",
    "Z, S_d, Vt_d, X_re = DRO(data2D, d=1)\n",
    "Zs.append(Z)\n",
    "S_ds.append(S_d)\n",
    "Vt_ds.append(Vt_d)\n",
    "X_res.append(X_re)"
   ]
  },
  {
   "cell_type": "code",
   "execution_count": 374,
   "metadata": {},
   "outputs": [
    {
     "data": {
      "application/vnd.plotly.v1+json": {
       "config": {
        "plotlyServerURL": "https://plot.ly"
       },
       "data": [
        {
         "mode": "markers",
         "name": "original",
         "type": "scatter",
         "x": [
          7.268685152524053,
          4.305895359647283,
          5.038183105983422,
          7.472772148816292,
          6.294955305118788,
          5.634975750091548,
          5.553511994659504,
          4.83662451006388,
          6.178051661244097,
          5.249899607998626,
          6.724850090107388,
          4.611412322400787,
          6.117493968046037,
          6.982104908021495,
          5.379177563362603,
          6.520129175447202,
          5.996860405491935,
          5.536771605480515,
          5.658505417805967,
          7.167577238573073,
          6.09478004873318,
          6.811881093894757,
          6.6215416455448,
          6.329526093320075,
          7.918062509982351,
          3.952131211758725,
          4.295473963483593,
          4.734808462058461,
          7.111044557633231,
          6.266946347226684,
          5.939633979049364,
          5.109417177239648,
          4.892144355557832,
          5.976427821166306,
          5.543902629628902,
          6.443251792323428,
          8.469978037002361,
          8.887557406427188,
          4.382049375418288,
          4.475193721277981,
          5.013410620027248,
          6.631038311938402,
          6.571149050844027,
          7.858563582295428,
          6.993446837309635,
          6.791757729969556,
          4.404191858575792,
          5.290649754449845,
          6.021080080045473,
          6.58950944111058
         ],
         "y": [
          5.376181293498675,
          5.949351521624013,
          5.936941079444969,
          5.168403543681022,
          5.404686717599698,
          5.731178960833565,
          5.573037618443847,
          5.647567474259462,
          5.553464771017764,
          5.846191100090747,
          5.34499467244766,
          5.866065934917496,
          5.488703787791689,
          5.399417576484704,
          5.747016895587278,
          5.56802724372171,
          5.630478321637489,
          5.820737494108774,
          5.55691362739042,
          5.26341792305824,
          5.746545649897827,
          5.466487395126843,
          5.32362921719092,
          5.380901609125086,
          5.129396221875749,
          6.04541951074386,
          5.93994617033108,
          5.945324943709736,
          5.346683195855388,
          5.545154318574914,
          5.624836665880759,
          5.707905244797472,
          5.84890933900391,
          5.47908947059973,
          5.431497479457841,
          5.285980087444671,
          4.935073839905821,
          4.96773567466642,
          5.649302917161717,
          5.833856222968606,
          5.881893503410997,
          5.437948446308372,
          5.274061180166245,
          5.190443314292296,
          5.203952650714005,
          5.222745355072222,
          5.942025753769178,
          5.682235098351615,
          5.527372003403768,
          5.477608283906553
         ]
        },
        {
         "mode": "markers",
         "name": "buggy PCA",
         "type": "scatter",
         "x": [
          6.67150913351065,
          5.327520171021962,
          5.724007936568313,
          6.680359301307222,
          6.1502672997704195,
          5.949797404071502,
          5.826326632015722,
          5.469211824293828,
          6.160003764491365,
          5.795275454091026,
          6.356955743547857,
          5.454079204533333,
          6.094485953422378,
          6.525487863662687,
          5.817021492249023,
          6.3553463829640915,
          6.098687153584314,
          5.940354016241129,
          5.876037422906909,
          6.5598125097161155,
          6.21027438922365,
          6.465254829322005,
          6.289520211046521,
          6.157443435346437,
          6.905804081894698,
          5.180790858292343,
          5.317110545162053,
          5.561362772744528,
          6.570152011200887,
          6.204749654552298,
          6.064413375239109,
          5.649230406939381,
          5.599909412834782,
          6.012134917918997,
          5.750625547176976,
          6.172753514968794,
          7.112608379322944,
          7.358471655704876,
          5.220118621049067,
          5.363152317346982,
          5.682999774874426,
          6.3516167357929065,
          6.2371504642320525,
          6.903458839219693,
          6.434479284104292,
          6.332926274914706,
          5.37792571029515,
          5.736113437377222,
          6.060708687018596,
          6.348512356355976
         ],
         "y": [
          6.036209012384382,
          4.820202539850277,
          5.178934421317648,
          6.044216415439029,
          5.564602874778917,
          5.383222895090153,
          5.271509732125933,
          4.948401485147864,
          5.573412176380878,
          5.243415428980526,
          5.751609236026085,
          4.9347098819511475,
          5.514133354493362,
          5.904092741924857,
          5.263090682193271,
          5.750153128170202,
          5.517934491803199,
          5.374678761883047,
          5.316486770751711,
          5.9351487944173735,
          5.618895738194955,
          5.849595449415094,
          5.690595309357696,
          5.5710956567524095,
          6.248193025399998,
          4.687445650493605,
          4.810784179450301,
          5.031777281299277,
          5.944503708095366,
          5.613897101072998,
          5.486924463098206,
          5.111277645431248,
          5.066653284862131,
          5.43962426625906,
          5.203017347358641,
          5.584947821044983,
          6.435304208035721,
          6.657754945194499,
          4.723028393653867,
          4.852441584790998,
          5.141831296635616,
          5.746778639817238,
          5.643212516143795,
          6.246071110449754,
          5.821750531618144,
          5.7298679939437385,
          4.865808168853561,
          5.189887165534865,
          5.483572556958647,
          5.743969877547703
         ]
        },
        {
         "mode": "markers",
         "name": "demeaned PCA",
         "type": "scatter",
         "x": [
          7.244892969442624,
          4.302399146518957,
          5.001945771841701,
          7.483680712522281,
          6.312124668636268,
          5.614021108492397,
          5.570416493035799,
          4.872201217949688,
          6.168960524824452,
          5.22289216497728,
          6.734039512857442,
          4.611010049293652,
          6.125221526311728,
          6.9671836136109215,
          5.367192540890811,
          6.491376399061661,
          5.9800100177402085,
          5.501354775861464,
          5.67379244750901,
          7.172860512056212,
          6.048299658177828,
          6.790803209007332,
          6.640308415170567,
          6.350125913858649,
          7.9158100274047305,
          3.9451318368860226,
          4.294498993333553,
          4.711439742882394,
          7.101200878377046,
          6.255340076564509,
          5.926760367723331,
          5.118863260814618,
          4.8818498616746,
          5.993037583244735,
          5.591631509201346,
          6.478713737412353,
          8.482724092832024,
          8.873109374342938,
          4.4392306830006625,
          4.488285917052748,
          4.990178424450012,
          6.624824927882811,
          6.602984246584424,
          7.8460932658907385,
          7.019903671292468,
          6.823934444212796,
          4.397514761063317,
          5.296840131692481,
          6.025174673370396,
          6.576796927341628
         ],
         "y": [
          5.270622597871626,
          5.933839885041647,
          5.776167025550472,
          5.216801530197341,
          5.480861972785356,
          5.638209575596063,
          5.6480377473821575,
          5.805410529950372,
          5.5131301577987575,
          5.726367271911641,
          5.385765352285708,
          5.864281171227269,
          5.522988618574834,
          5.333216321658422,
          5.693842988222272,
          5.440459901098035,
          5.5557182651183155,
          5.6636037697659045,
          5.624737538712148,
          5.286858204078793,
          5.54032626336796,
          5.372971216822455,
          5.406891678481218,
          5.472296761001689,
          5.1194026402862605,
          6.014365408678552,
          5.935620523669682,
          5.8416450289134465,
          5.303009778460373,
          5.493660818041544,
          5.5677203594478994,
          5.7498146508215076,
          5.803235793926713,
          5.552781944034129,
          5.6432560328517924,
          5.443313975435245,
          4.991624221313188,
          4.903634141151348,
          5.902999024912148,
          5.891942322262153,
          5.778819302389086,
          5.4103815469577174,
          5.415304281981939,
          5.135116305029198,
          5.32133359369393,
          5.365503670837353,
          5.9124014985430335,
          5.70969992345554,
          5.545538471315636,
          5.421206718442861
         ]
        },
        {
         "mode": "markers",
         "name": "normalized PCA",
         "type": "scatter",
         "x": [
          6.997133404425008,
          4.329808942163503,
          4.721630894168997,
          7.529083699082323,
          6.451288750846495,
          5.44576352982361,
          5.732237226152011,
          5.219585963625243,
          6.08500465912923,
          5.015257243261544,
          6.789743188397521,
          4.654891167579145,
          6.188720847427204,
          6.805765776328575,
          5.285094634113615,
          6.225912634686901,
          5.835062571567573,
          5.21135854527472,
          5.818095610699548,
          7.179894801920327,
          5.643870917316471,
          6.581881691299406,
          6.782295597641929,
          6.5177872093775955,
          7.832437775456664,
          3.9541554334239626,
          4.344058578251008,
          4.552596766633667,
          6.979346748320546,
          6.146646913464013,
          5.818122341404018,
          5.231139200859509,
          4.830755389305812,
          6.138080473317584,
          6.020289058747805,
          6.771049371805741,
          8.510462231846113,
          8.651672280324954,
          4.988707642724208,
          4.653426029314466,
          4.823141962569245,
          6.550509395198391,
          6.859659059579183,
          7.676377578340977,
          7.215867437436181,
          7.076139455027917,
          4.394114721215121,
          5.37486883020584,
          6.060506642229888,
          6.447685962866131
         ],
         "y": [
          5.310559614989575,
          5.955130344389344,
          5.860444840255028,
          5.182011478351944,
          5.4424653847877345,
          5.685454992656836,
          5.616227359495295,
          5.740111799836095,
          5.53097955226384,
          5.789488736982498,
          5.360676376076029,
          5.876572789762712,
          5.505916077576885,
          5.356804446981645,
          5.724281340468996,
          5.496928518027666,
          5.591379160922895,
          5.742099991794855,
          5.595479301905792,
          5.266394516608631,
          5.637581468058524,
          5.4109070243133495,
          5.362476119254454,
          5.426395738771363,
          5.108704626845316,
          6.045908672843818,
          5.951686856933447,
          5.901292683260421,
          5.314857838944345,
          5.516083429425928,
          5.595472842313072,
          5.737319909064507,
          5.834074424349166,
          5.518153547498051,
          5.5466183627391255,
          5.365193819366604,
          4.944857024279827,
          4.910732992788955,
          5.795904565137545,
          5.87692684689123,
          5.835914242524364,
          5.418488278137878,
          5.343780897208799,
          5.146417262300187,
          5.25770157045943,
          5.29146745414277,
          5.939590569047286,
          5.702587009736026,
          5.5368996061774425,
          5.443336014405253
         ]
        },
        {
         "mode": "markers",
         "name": "DRO",
         "type": "scatter",
         "x": [
          7.24489296944262,
          4.302399146518958,
          5.001945771841701,
          7.483680712522281,
          6.312124668636269,
          5.614021108492396,
          5.5704164930357996,
          4.872201217949688,
          6.1689605248244535,
          5.22289216497728,
          6.734039512857441,
          4.611010049293652,
          6.125221526311729,
          6.967183613610921,
          5.367192540890812,
          6.49137639906166,
          5.98001001774021,
          5.501354775861462,
          5.673792447509011,
          7.172860512056211,
          6.048299658177828,
          6.790803209007333,
          6.6403084151705665,
          6.35012591385865,
          7.915810027404729,
          3.9451318368860226,
          4.294498993333553,
          4.711439742882395,
          7.1012008783770435,
          6.255340076564511,
          5.926760367723332,
          5.118863260814618,
          4.881849861674601,
          5.993037583244735,
          5.591631509201346,
          6.478713737412353,
          8.482724092832022,
          8.873109374342938,
          4.4392306830006625,
          4.488285917052748,
          4.990178424450013,
          6.624824927882812,
          6.602984246584424,
          7.8460932658907385,
          7.019903671292468,
          6.823934444212796,
          4.397514761063318,
          5.296840131692482,
          6.025174673370396,
          6.576796927341628
         ],
         "y": [
          5.270622597871629,
          5.933839885041649,
          5.776167025550475,
          5.216801530197342,
          5.480861972785357,
          5.638209575596065,
          5.648037747382159,
          5.8054105299503735,
          5.513130157798758,
          5.726367271911644,
          5.38576535228571,
          5.864281171227271,
          5.522988618574836,
          5.333216321658424,
          5.693842988222274,
          5.440459901098037,
          5.555718265118317,
          5.663603769765906,
          5.62473753871215,
          5.2868582040787935,
          5.540326263367961,
          5.372971216822456,
          5.4068916784812195,
          5.472296761001691,
          5.119402640286261,
          6.014365408678555,
          5.935620523669684,
          5.841645028913448,
          5.303009778460375,
          5.493660818041545,
          5.567720359447901,
          5.749814650821509,
          5.8032357939267145,
          5.55278194403413,
          5.643256032851794,
          5.443313975435246,
          4.991624221313189,
          4.903634141151349,
          5.902999024912151,
          5.891942322262156,
          5.7788193023890875,
          5.410381546957719,
          5.415304281981941,
          5.135116305029199,
          5.3213335936939306,
          5.365503670837354,
          5.912401498543036,
          5.709699923455542,
          5.545538471315638,
          5.421206718442862
         ]
        }
       ],
       "layout": {
        "height": 500,
        "template": {
         "data": {
          "bar": [
           {
            "error_x": {
             "color": "#2a3f5f"
            },
            "error_y": {
             "color": "#2a3f5f"
            },
            "marker": {
             "line": {
              "color": "#E5ECF6",
              "width": 0.5
             },
             "pattern": {
              "fillmode": "overlay",
              "size": 10,
              "solidity": 0.2
             }
            },
            "type": "bar"
           }
          ],
          "barpolar": [
           {
            "marker": {
             "line": {
              "color": "#E5ECF6",
              "width": 0.5
             },
             "pattern": {
              "fillmode": "overlay",
              "size": 10,
              "solidity": 0.2
             }
            },
            "type": "barpolar"
           }
          ],
          "carpet": [
           {
            "aaxis": {
             "endlinecolor": "#2a3f5f",
             "gridcolor": "white",
             "linecolor": "white",
             "minorgridcolor": "white",
             "startlinecolor": "#2a3f5f"
            },
            "baxis": {
             "endlinecolor": "#2a3f5f",
             "gridcolor": "white",
             "linecolor": "white",
             "minorgridcolor": "white",
             "startlinecolor": "#2a3f5f"
            },
            "type": "carpet"
           }
          ],
          "choropleth": [
           {
            "colorbar": {
             "outlinewidth": 0,
             "ticks": ""
            },
            "type": "choropleth"
           }
          ],
          "contour": [
           {
            "colorbar": {
             "outlinewidth": 0,
             "ticks": ""
            },
            "colorscale": [
             [
              0,
              "#0d0887"
             ],
             [
              0.1111111111111111,
              "#46039f"
             ],
             [
              0.2222222222222222,
              "#7201a8"
             ],
             [
              0.3333333333333333,
              "#9c179e"
             ],
             [
              0.4444444444444444,
              "#bd3786"
             ],
             [
              0.5555555555555556,
              "#d8576b"
             ],
             [
              0.6666666666666666,
              "#ed7953"
             ],
             [
              0.7777777777777778,
              "#fb9f3a"
             ],
             [
              0.8888888888888888,
              "#fdca26"
             ],
             [
              1,
              "#f0f921"
             ]
            ],
            "type": "contour"
           }
          ],
          "contourcarpet": [
           {
            "colorbar": {
             "outlinewidth": 0,
             "ticks": ""
            },
            "type": "contourcarpet"
           }
          ],
          "heatmap": [
           {
            "colorbar": {
             "outlinewidth": 0,
             "ticks": ""
            },
            "colorscale": [
             [
              0,
              "#0d0887"
             ],
             [
              0.1111111111111111,
              "#46039f"
             ],
             [
              0.2222222222222222,
              "#7201a8"
             ],
             [
              0.3333333333333333,
              "#9c179e"
             ],
             [
              0.4444444444444444,
              "#bd3786"
             ],
             [
              0.5555555555555556,
              "#d8576b"
             ],
             [
              0.6666666666666666,
              "#ed7953"
             ],
             [
              0.7777777777777778,
              "#fb9f3a"
             ],
             [
              0.8888888888888888,
              "#fdca26"
             ],
             [
              1,
              "#f0f921"
             ]
            ],
            "type": "heatmap"
           }
          ],
          "heatmapgl": [
           {
            "colorbar": {
             "outlinewidth": 0,
             "ticks": ""
            },
            "colorscale": [
             [
              0,
              "#0d0887"
             ],
             [
              0.1111111111111111,
              "#46039f"
             ],
             [
              0.2222222222222222,
              "#7201a8"
             ],
             [
              0.3333333333333333,
              "#9c179e"
             ],
             [
              0.4444444444444444,
              "#bd3786"
             ],
             [
              0.5555555555555556,
              "#d8576b"
             ],
             [
              0.6666666666666666,
              "#ed7953"
             ],
             [
              0.7777777777777778,
              "#fb9f3a"
             ],
             [
              0.8888888888888888,
              "#fdca26"
             ],
             [
              1,
              "#f0f921"
             ]
            ],
            "type": "heatmapgl"
           }
          ],
          "histogram": [
           {
            "marker": {
             "pattern": {
              "fillmode": "overlay",
              "size": 10,
              "solidity": 0.2
             }
            },
            "type": "histogram"
           }
          ],
          "histogram2d": [
           {
            "colorbar": {
             "outlinewidth": 0,
             "ticks": ""
            },
            "colorscale": [
             [
              0,
              "#0d0887"
             ],
             [
              0.1111111111111111,
              "#46039f"
             ],
             [
              0.2222222222222222,
              "#7201a8"
             ],
             [
              0.3333333333333333,
              "#9c179e"
             ],
             [
              0.4444444444444444,
              "#bd3786"
             ],
             [
              0.5555555555555556,
              "#d8576b"
             ],
             [
              0.6666666666666666,
              "#ed7953"
             ],
             [
              0.7777777777777778,
              "#fb9f3a"
             ],
             [
              0.8888888888888888,
              "#fdca26"
             ],
             [
              1,
              "#f0f921"
             ]
            ],
            "type": "histogram2d"
           }
          ],
          "histogram2dcontour": [
           {
            "colorbar": {
             "outlinewidth": 0,
             "ticks": ""
            },
            "colorscale": [
             [
              0,
              "#0d0887"
             ],
             [
              0.1111111111111111,
              "#46039f"
             ],
             [
              0.2222222222222222,
              "#7201a8"
             ],
             [
              0.3333333333333333,
              "#9c179e"
             ],
             [
              0.4444444444444444,
              "#bd3786"
             ],
             [
              0.5555555555555556,
              "#d8576b"
             ],
             [
              0.6666666666666666,
              "#ed7953"
             ],
             [
              0.7777777777777778,
              "#fb9f3a"
             ],
             [
              0.8888888888888888,
              "#fdca26"
             ],
             [
              1,
              "#f0f921"
             ]
            ],
            "type": "histogram2dcontour"
           }
          ],
          "mesh3d": [
           {
            "colorbar": {
             "outlinewidth": 0,
             "ticks": ""
            },
            "type": "mesh3d"
           }
          ],
          "parcoords": [
           {
            "line": {
             "colorbar": {
              "outlinewidth": 0,
              "ticks": ""
             }
            },
            "type": "parcoords"
           }
          ],
          "pie": [
           {
            "automargin": true,
            "type": "pie"
           }
          ],
          "scatter": [
           {
            "fillpattern": {
             "fillmode": "overlay",
             "size": 10,
             "solidity": 0.2
            },
            "type": "scatter"
           }
          ],
          "scatter3d": [
           {
            "line": {
             "colorbar": {
              "outlinewidth": 0,
              "ticks": ""
             }
            },
            "marker": {
             "colorbar": {
              "outlinewidth": 0,
              "ticks": ""
             }
            },
            "type": "scatter3d"
           }
          ],
          "scattercarpet": [
           {
            "marker": {
             "colorbar": {
              "outlinewidth": 0,
              "ticks": ""
             }
            },
            "type": "scattercarpet"
           }
          ],
          "scattergeo": [
           {
            "marker": {
             "colorbar": {
              "outlinewidth": 0,
              "ticks": ""
             }
            },
            "type": "scattergeo"
           }
          ],
          "scattergl": [
           {
            "marker": {
             "colorbar": {
              "outlinewidth": 0,
              "ticks": ""
             }
            },
            "type": "scattergl"
           }
          ],
          "scattermapbox": [
           {
            "marker": {
             "colorbar": {
              "outlinewidth": 0,
              "ticks": ""
             }
            },
            "type": "scattermapbox"
           }
          ],
          "scatterpolar": [
           {
            "marker": {
             "colorbar": {
              "outlinewidth": 0,
              "ticks": ""
             }
            },
            "type": "scatterpolar"
           }
          ],
          "scatterpolargl": [
           {
            "marker": {
             "colorbar": {
              "outlinewidth": 0,
              "ticks": ""
             }
            },
            "type": "scatterpolargl"
           }
          ],
          "scatterternary": [
           {
            "marker": {
             "colorbar": {
              "outlinewidth": 0,
              "ticks": ""
             }
            },
            "type": "scatterternary"
           }
          ],
          "surface": [
           {
            "colorbar": {
             "outlinewidth": 0,
             "ticks": ""
            },
            "colorscale": [
             [
              0,
              "#0d0887"
             ],
             [
              0.1111111111111111,
              "#46039f"
             ],
             [
              0.2222222222222222,
              "#7201a8"
             ],
             [
              0.3333333333333333,
              "#9c179e"
             ],
             [
              0.4444444444444444,
              "#bd3786"
             ],
             [
              0.5555555555555556,
              "#d8576b"
             ],
             [
              0.6666666666666666,
              "#ed7953"
             ],
             [
              0.7777777777777778,
              "#fb9f3a"
             ],
             [
              0.8888888888888888,
              "#fdca26"
             ],
             [
              1,
              "#f0f921"
             ]
            ],
            "type": "surface"
           }
          ],
          "table": [
           {
            "cells": {
             "fill": {
              "color": "#EBF0F8"
             },
             "line": {
              "color": "white"
             }
            },
            "header": {
             "fill": {
              "color": "#C8D4E3"
             },
             "line": {
              "color": "white"
             }
            },
            "type": "table"
           }
          ]
         },
         "layout": {
          "annotationdefaults": {
           "arrowcolor": "#2a3f5f",
           "arrowhead": 0,
           "arrowwidth": 1
          },
          "autotypenumbers": "strict",
          "coloraxis": {
           "colorbar": {
            "outlinewidth": 0,
            "ticks": ""
           }
          },
          "colorscale": {
           "diverging": [
            [
             0,
             "#8e0152"
            ],
            [
             0.1,
             "#c51b7d"
            ],
            [
             0.2,
             "#de77ae"
            ],
            [
             0.3,
             "#f1b6da"
            ],
            [
             0.4,
             "#fde0ef"
            ],
            [
             0.5,
             "#f7f7f7"
            ],
            [
             0.6,
             "#e6f5d0"
            ],
            [
             0.7,
             "#b8e186"
            ],
            [
             0.8,
             "#7fbc41"
            ],
            [
             0.9,
             "#4d9221"
            ],
            [
             1,
             "#276419"
            ]
           ],
           "sequential": [
            [
             0,
             "#0d0887"
            ],
            [
             0.1111111111111111,
             "#46039f"
            ],
            [
             0.2222222222222222,
             "#7201a8"
            ],
            [
             0.3333333333333333,
             "#9c179e"
            ],
            [
             0.4444444444444444,
             "#bd3786"
            ],
            [
             0.5555555555555556,
             "#d8576b"
            ],
            [
             0.6666666666666666,
             "#ed7953"
            ],
            [
             0.7777777777777778,
             "#fb9f3a"
            ],
            [
             0.8888888888888888,
             "#fdca26"
            ],
            [
             1,
             "#f0f921"
            ]
           ],
           "sequentialminus": [
            [
             0,
             "#0d0887"
            ],
            [
             0.1111111111111111,
             "#46039f"
            ],
            [
             0.2222222222222222,
             "#7201a8"
            ],
            [
             0.3333333333333333,
             "#9c179e"
            ],
            [
             0.4444444444444444,
             "#bd3786"
            ],
            [
             0.5555555555555556,
             "#d8576b"
            ],
            [
             0.6666666666666666,
             "#ed7953"
            ],
            [
             0.7777777777777778,
             "#fb9f3a"
            ],
            [
             0.8888888888888888,
             "#fdca26"
            ],
            [
             1,
             "#f0f921"
            ]
           ]
          },
          "colorway": [
           "#636efa",
           "#EF553B",
           "#00cc96",
           "#ab63fa",
           "#FFA15A",
           "#19d3f3",
           "#FF6692",
           "#B6E880",
           "#FF97FF",
           "#FECB52"
          ],
          "font": {
           "color": "#2a3f5f"
          },
          "geo": {
           "bgcolor": "white",
           "lakecolor": "white",
           "landcolor": "#E5ECF6",
           "showlakes": true,
           "showland": true,
           "subunitcolor": "white"
          },
          "hoverlabel": {
           "align": "left"
          },
          "hovermode": "closest",
          "mapbox": {
           "style": "light"
          },
          "paper_bgcolor": "white",
          "plot_bgcolor": "#E5ECF6",
          "polar": {
           "angularaxis": {
            "gridcolor": "white",
            "linecolor": "white",
            "ticks": ""
           },
           "bgcolor": "#E5ECF6",
           "radialaxis": {
            "gridcolor": "white",
            "linecolor": "white",
            "ticks": ""
           }
          },
          "scene": {
           "xaxis": {
            "backgroundcolor": "#E5ECF6",
            "gridcolor": "white",
            "gridwidth": 2,
            "linecolor": "white",
            "showbackground": true,
            "ticks": "",
            "zerolinecolor": "white"
           },
           "yaxis": {
            "backgroundcolor": "#E5ECF6",
            "gridcolor": "white",
            "gridwidth": 2,
            "linecolor": "white",
            "showbackground": true,
            "ticks": "",
            "zerolinecolor": "white"
           },
           "zaxis": {
            "backgroundcolor": "#E5ECF6",
            "gridcolor": "white",
            "gridwidth": 2,
            "linecolor": "white",
            "showbackground": true,
            "ticks": "",
            "zerolinecolor": "white"
           }
          },
          "shapedefaults": {
           "line": {
            "color": "#2a3f5f"
           }
          },
          "ternary": {
           "aaxis": {
            "gridcolor": "white",
            "linecolor": "white",
            "ticks": ""
           },
           "baxis": {
            "gridcolor": "white",
            "linecolor": "white",
            "ticks": ""
           },
           "bgcolor": "#E5ECF6",
           "caxis": {
            "gridcolor": "white",
            "linecolor": "white",
            "ticks": ""
           }
          },
          "title": {
           "x": 0.05
          },
          "xaxis": {
           "automargin": true,
           "gridcolor": "white",
           "linecolor": "white",
           "ticks": "",
           "title": {
            "standoff": 15
           },
           "zerolinecolor": "white",
           "zerolinewidth": 2
          },
          "yaxis": {
           "automargin": true,
           "gridcolor": "white",
           "linecolor": "white",
           "ticks": "",
           "title": {
            "standoff": 15
           },
           "zerolinecolor": "white",
           "zerolinewidth": 2
          }
         }
        },
        "width": 600
       }
      }
     },
     "metadata": {},
     "output_type": "display_data"
    }
   ],
   "source": [
    "# plot data for data2D\n",
    "methods = [\"buggy PCA\", \"demeaned PCA\", \"normalized PCA\", \"DRO\"]\n",
    "\n",
    "fig = go.Figure()\n",
    "fig.add_trace(\n",
    "    go.Scatter(\n",
    "        x=data2D[:, 0],\n",
    "        y=data2D[:, 1],\n",
    "        mode=\"markers\",\n",
    "        name=\"original\",\n",
    "    )\n",
    ")\n",
    "\n",
    "\n",
    "for i in range(len(methods)):\n",
    "    fig.add_trace(\n",
    "        go.Scatter(\n",
    "            x=X_res[i][:, 0],\n",
    "            y=X_res[i][:, 1],\n",
    "            mode=\"markers\",\n",
    "            name=methods[i],\n",
    "        )\n",
    "    )\n",
    "\n",
    "fig.update_layout(height=500, width=600)\n",
    "fig.show()"
   ]
  },
  {
   "cell_type": "code",
   "execution_count": 375,
   "metadata": {},
   "outputs": [
    {
     "data": {
      "text/html": [
       "<div>\n",
       "<style scoped>\n",
       "    .dataframe tbody tr th:only-of-type {\n",
       "        vertical-align: middle;\n",
       "    }\n",
       "\n",
       "    .dataframe tbody tr th {\n",
       "        vertical-align: top;\n",
       "    }\n",
       "\n",
       "    .dataframe thead th {\n",
       "        text-align: right;\n",
       "    }\n",
       "</style>\n",
       "<table border=\"1\" class=\"dataframe\">\n",
       "  <thead>\n",
       "    <tr style=\"text-align: right;\">\n",
       "      <th></th>\n",
       "      <th>error</th>\n",
       "      <th>method</th>\n",
       "    </tr>\n",
       "  </thead>\n",
       "  <tbody>\n",
       "    <tr>\n",
       "      <th>0</th>\n",
       "      <td>44.345154</td>\n",
       "      <td>buggy PCA</td>\n",
       "    </tr>\n",
       "    <tr>\n",
       "      <th>1</th>\n",
       "      <td>0.500304</td>\n",
       "      <td>demeaned PCA</td>\n",
       "    </tr>\n",
       "    <tr>\n",
       "      <th>2</th>\n",
       "      <td>2.473604</td>\n",
       "      <td>normalized PCA</td>\n",
       "    </tr>\n",
       "    <tr>\n",
       "      <th>3</th>\n",
       "      <td>0.500304</td>\n",
       "      <td>DRO</td>\n",
       "    </tr>\n",
       "  </tbody>\n",
       "</table>\n",
       "</div>"
      ],
      "text/plain": [
       "       error          method\n",
       "0  44.345154       buggy PCA\n",
       "1   0.500304    demeaned PCA\n",
       "2   2.473604  normalized PCA\n",
       "3   0.500304             DRO"
      ]
     },
     "execution_count": 375,
     "metadata": {},
     "output_type": "execute_result"
    }
   ],
   "source": [
    "# reconstruction error\n",
    "errors = []\n",
    "for i in range(len(methods)):\n",
    "    errors.append(np.sum((data2D - X_res[i]) ** 2))\n",
    "\n",
    "errors = pd.DataFrame(errors, columns=[\"error\"])\n",
    "errors[\"method\"] = methods\n",
    "errors"
   ]
  },
  {
   "cell_type": "code",
   "execution_count": 387,
   "metadata": {},
   "outputs": [],
   "source": [
    "# get dimensionality reduction results\n",
    "Zs = []\n",
    "S_ds = []\n",
    "Vt_ds = []\n",
    "X_res = []\n",
    "\n",
    "Z, S_d, Vt_d, X_re = PCA(data1000D, d=30)\n",
    "Zs.append(Z)\n",
    "S_ds.append(S_d)\n",
    "Vt_ds.append(Vt_d)\n",
    "X_res.append(X_re)\n",
    "\n",
    "Z, S_d, Vt_d, X_re = PCA(data1000D, d=30, preprocess=\"demean\")\n",
    "Zs.append(Z)\n",
    "S_ds.append(S_d)\n",
    "Vt_ds.append(Vt_d)\n",
    "X_res.append(X_re)\n",
    "\n",
    "Z, S_d, Vt_d, X_re = PCA(data1000D, d=30, preprocess=\"normalize\")\n",
    "Zs.append(Z)\n",
    "S_ds.append(S_d)\n",
    "Vt_ds.append(Vt_d)\n",
    "X_res.append(X_re)\n",
    "\n",
    "\n",
    "Z, S_d, Vt_d, X_re = DRO(data1000D, d=30)\n",
    "Zs.append(Z)\n",
    "S_ds.append(S_d)\n",
    "Vt_ds.append(Vt_d)\n",
    "X_res.append(X_re)"
   ]
  },
  {
   "cell_type": "code",
   "execution_count": 388,
   "metadata": {},
   "outputs": [
    {
     "data": {
      "text/html": [
       "<div>\n",
       "<style scoped>\n",
       "    .dataframe tbody tr th:only-of-type {\n",
       "        vertical-align: middle;\n",
       "    }\n",
       "\n",
       "    .dataframe tbody tr th {\n",
       "        vertical-align: top;\n",
       "    }\n",
       "\n",
       "    .dataframe thead th {\n",
       "        text-align: right;\n",
       "    }\n",
       "</style>\n",
       "<table border=\"1\" class=\"dataframe\">\n",
       "  <thead>\n",
       "    <tr style=\"text-align: right;\">\n",
       "      <th></th>\n",
       "      <th>error</th>\n",
       "      <th>method</th>\n",
       "    </tr>\n",
       "  </thead>\n",
       "  <tbody>\n",
       "    <tr>\n",
       "      <th>0</th>\n",
       "      <td>401365.699310</td>\n",
       "      <td>buggy PCA</td>\n",
       "    </tr>\n",
       "    <tr>\n",
       "      <th>1</th>\n",
       "      <td>136522.979489</td>\n",
       "      <td>demeaned PCA</td>\n",
       "    </tr>\n",
       "    <tr>\n",
       "      <th>2</th>\n",
       "      <td>136814.290499</td>\n",
       "      <td>normalized PCA</td>\n",
       "    </tr>\n",
       "    <tr>\n",
       "      <th>3</th>\n",
       "      <td>136522.979489</td>\n",
       "      <td>DRO</td>\n",
       "    </tr>\n",
       "  </tbody>\n",
       "</table>\n",
       "</div>"
      ],
      "text/plain": [
       "           error          method\n",
       "0  401365.699310       buggy PCA\n",
       "1  136522.979489    demeaned PCA\n",
       "2  136814.290499  normalized PCA\n",
       "3  136522.979489             DRO"
      ]
     },
     "execution_count": 388,
     "metadata": {},
     "output_type": "execute_result"
    }
   ],
   "source": [
    "# reconstruction error\n",
    "errors = []\n",
    "for i in range(len(methods)):\n",
    "    errors.append(np.sum((data1000D - X_res[i]) ** 2))\n",
    "\n",
    "errors = pd.DataFrame(errors, columns=[\"error\"])\n",
    "errors[\"method\"] = methods\n",
    "errors"
   ]
  }
 ],
 "metadata": {
  "kernelspec": {
   "display_name": "base",
   "language": "python",
   "name": "python3"
  },
  "language_info": {
   "codemirror_mode": {
    "name": "ipython",
    "version": 3
   },
   "file_extension": ".py",
   "mimetype": "text/x-python",
   "name": "python",
   "nbconvert_exporter": "python",
   "pygments_lexer": "ipython3",
   "version": "3.10.9"
  }
 },
 "nbformat": 4,
 "nbformat_minor": 2
}
